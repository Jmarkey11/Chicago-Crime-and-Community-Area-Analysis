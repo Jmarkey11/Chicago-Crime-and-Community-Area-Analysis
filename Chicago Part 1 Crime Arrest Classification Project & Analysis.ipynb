{
 "cells": [
  {
   "cell_type": "markdown",
   "metadata": {},
   "source": [
    "# **Chicago Crime Data Project**\n",
    "\n",
    "## Author: **Jonathan Markey**\n",
    "\n",
    "---"
   ]
  },
  {
   "cell_type": "markdown",
   "metadata": {},
   "source": [
    "### **Description**\n",
    "\n",
    "This project analyses the 2012 Chicago City Crime Data. The project utilises multiple classification models to determine if an arrest can be predicted for a crime based on the features of:\n",
    "- Whether the crime was a domestic incident\n",
    "- The primary type of the crime.\n",
    "- The community area it took place in.\n",
    "- The month, day, weekday, and hour the crime took place in.\n",
    "\n",
    "Preprocessing and feature engineering has been conducted to amplify the dataset and develop the most effective models possible.\n",
    "\n",
    "The classification models utilised in this project are:\n",
    "- Naive Bayes\n",
    "- Logistic Regression\n",
    "- Random Forest\n",
    "- High-Density Based Patial Clustering of Applications with Noise\n",
    "- Multi-Layer Perceptron\n",
    "\n",
    "Once Predictions have been made with these models an ensemble method is utilised using a single layer perceptron to get the final prediction."
   ]
  },
  {
   "cell_type": "markdown",
   "metadata": {},
   "source": [
    "---"
   ]
  },
  {
   "cell_type": "markdown",
   "metadata": {},
   "source": [
    "## **Library Import and Database connection**"
   ]
  },
  {
   "cell_type": "code",
   "execution_count": null,
   "metadata": {},
   "outputs": [],
   "source": [
    "# Data Libary Imports\n",
    "import pandas as pd\n",
    "import numpy as np\n",
    "import matplotlib.pyplot as plt\n",
    "import seaborn as sns\n",
    "from tqdm import tqdm\n",
    "import sqlite3\n",
    "from sklearn.utils import resample\n",
    "from sklearn.preprocessing import StandardScaler\n",
    "from sklearn.model_selection import train_test_split, cross_validate, RandomizedSearchCV\n",
    "from sklearn.ensemble import RandomForestClassifier\n",
    "from sklearn.metrics import confusion_matrix, classification_report, roc_auc_score, f1_score, precision_recall_curve, auc\n",
    "from sklearn.linear_model import LogisticRegression\n",
    "from sklearn.naive_bayes import GaussianNB\n",
    "from scipy.spatial.distance import cdist\n",
    "import hdbscan\n",
    "import random\n",
    "from scipy import stats\n",
    "import torch\n",
    "import torch.nn as nn\n",
    "import torch.optim as optim\n",
    "import plotly.graph_objects as go\n",
    "import plotly.subplots as sp\n",
    "from sqlalchemy import create_engine"
   ]
  },
  {
   "cell_type": "code",
   "execution_count": 2,
   "metadata": {},
   "outputs": [
    {
     "name": "stdout",
     "output_type": "stream",
     "text": [
      "[('CENSUS_DATA',), ('COMM_AREA_GIS',), ('CRIME_DATA',), ('HEALTH_DATA',), ('SCHOOLS_DATA',)]\n"
     ]
    }
   ],
   "source": [
    "# Connecting to the database and loading the sql magic extension\n",
    "conn = sqlite3.connect(\"CrimeReport.db\")\n",
    "cur = conn.cursor()\n",
    "%load_ext sql\n",
    "%sql sqlite:///CrimeReport.db\n",
    "\n",
    "cur.execute(\"SELECT name FROM sqlite_master WHERE type='table' ORDER BY name;\")\n",
    "available_table=(cur.fetchall())\n",
    "print(available_table)"
   ]
  },
  {
   "cell_type": "markdown",
   "metadata": {},
   "source": [
    "---"
   ]
  },
  {
   "cell_type": "markdown",
   "metadata": {},
   "source": [
    "### **Loading Data From Local Database**"
   ]
  },
  {
   "cell_type": "code",
   "execution_count": 3,
   "metadata": {},
   "outputs": [
    {
     "name": "stdout",
     "output_type": "stream",
     "text": [
      " * sqlite:///CrimeReport.db\n",
      "Done.\n"
     ]
    },
    {
     "data": {
      "text/html": [
       "<table>\n",
       "    <thead>\n",
       "        <tr>\n",
       "            <th>COUNT(*)</th>\n",
       "        </tr>\n",
       "    </thead>\n",
       "    <tbody>\n",
       "        <tr>\n",
       "            <td>26</td>\n",
       "        </tr>\n",
       "    </tbody>\n",
       "</table>"
      ],
      "text/plain": [
       "[(26,)]"
      ]
     },
     "execution_count": 3,
     "metadata": {},
     "output_type": "execute_result"
    }
   ],
   "source": [
    "%%sql\n",
    "SELECT COUNT(*) FROM CRIME_DATA\n",
    "WHERE PRIMARY_TYPE IS NULL OR ARREST IS NULL OR DOMESTIC IS NULL OR COMMUNITY_AREA IS NULL OR MONTH IS NULL OR DAY IS NULL OR WEEKDAY IS NULL OR HOUR IS NULL;"
   ]
  },
  {
   "cell_type": "code",
   "execution_count": 4,
   "metadata": {},
   "outputs": [
    {
     "name": "stdout",
     "output_type": "stream",
     "text": [
      " * sqlite:///CrimeReport.db\n",
      "Done.\n",
      "Done.\n"
     ]
    },
    {
     "data": {
      "text/plain": [
       "[]"
      ]
     },
     "execution_count": 4,
     "metadata": {},
     "output_type": "execute_result"
    }
   ],
   "source": [
    "%%sql\n",
    "DROP VIEW IF EXISTS CRIME_DATA_SUB;\n",
    "\n",
    "CREATE VIEW CRIME_DATA_SUB AS\n",
    "SELECT \n",
    "    primary_type, \n",
    "    arrest, \n",
    "    domestic, \n",
    "    community_area,\n",
    "    month, \n",
    "    day, \n",
    "    weekday, \n",
    "    hour    \n",
    "FROM CRIME_DATA\n",
    "WHERE\n",
    "    primary_type IS NOT NULL AND \n",
    "    arrest IS NOT NULL AND \n",
    "    domestic IS NOT NULL AND \n",
    "    community_area IS NOT NULL AND \n",
    "    month IS NOT NULL AND \n",
    "    day IS NOT NULL AND \n",
    "    weekday IS NOT NULL AND \n",
    "    hour IS NOT NULL;"
   ]
  },
  {
   "cell_type": "markdown",
   "metadata": {},
   "source": [
    "---"
   ]
  },
  {
   "cell_type": "markdown",
   "metadata": {},
   "source": [
    "### **Exploratory Data Analysis of the Crime Data**"
   ]
  },
  {
   "cell_type": "code",
   "execution_count": 5,
   "metadata": {},
   "outputs": [
    {
     "name": "stdout",
     "output_type": "stream",
     "text": [
      " * sqlite:///CrimeReport.db\n",
      "Done.\n"
     ]
    },
    {
     "data": {
      "text/html": [
       "<table>\n",
       "    <thead>\n",
       "        <tr>\n",
       "            <th>primary_type</th>\n",
       "            <th>FREQUENCY</th>\n",
       "        </tr>\n",
       "    </thead>\n",
       "    <tbody>\n",
       "        <tr>\n",
       "            <td>THEFT</td>\n",
       "            <td>75457</td>\n",
       "        </tr>\n",
       "        <tr>\n",
       "            <td>BATTERY</td>\n",
       "            <td>59130</td>\n",
       "        </tr>\n",
       "        <tr>\n",
       "            <td>CRIMINAL DAMAGE</td>\n",
       "            <td>35854</td>\n",
       "        </tr>\n",
       "        <tr>\n",
       "            <td>NARCOTICS</td>\n",
       "            <td>35483</td>\n",
       "        </tr>\n",
       "        <tr>\n",
       "            <td>BURGLARY</td>\n",
       "            <td>22841</td>\n",
       "        </tr>\n",
       "        <tr>\n",
       "            <td>ASSAULT</td>\n",
       "            <td>19895</td>\n",
       "        </tr>\n",
       "        <tr>\n",
       "            <td>OTHER OFFENSE</td>\n",
       "            <td>17524</td>\n",
       "        </tr>\n",
       "        <tr>\n",
       "            <td>MOTOR VEHICLE THEFT</td>\n",
       "            <td>16490</td>\n",
       "        </tr>\n",
       "        <tr>\n",
       "            <td>DECEPTIVE PRACTICE</td>\n",
       "            <td>13774</td>\n",
       "        </tr>\n",
       "        <tr>\n",
       "            <td>ROBBERY</td>\n",
       "            <td>13483</td>\n",
       "        </tr>\n",
       "        <tr>\n",
       "            <td>CRIMINAL TRESPASS</td>\n",
       "            <td>8216</td>\n",
       "        </tr>\n",
       "        <tr>\n",
       "            <td>WEAPONS VIOLATION</td>\n",
       "            <td>3907</td>\n",
       "        </tr>\n",
       "        <tr>\n",
       "            <td>PUBLIC PEACE VIOLATION</td>\n",
       "            <td>3007</td>\n",
       "        </tr>\n",
       "        <tr>\n",
       "            <td>OFFENSE INVOLVING CHILDREN</td>\n",
       "            <td>2339</td>\n",
       "        </tr>\n",
       "        <tr>\n",
       "            <td>PROSTITUTION</td>\n",
       "            <td>2204</td>\n",
       "        </tr>\n",
       "        <tr>\n",
       "            <td>CRIM SEXUAL ASSAULT</td>\n",
       "            <td>1384</td>\n",
       "        </tr>\n",
       "        <tr>\n",
       "            <td>INTERFERENCE WITH PUBLIC OFFICER</td>\n",
       "            <td>1228</td>\n",
       "        </tr>\n",
       "        <tr>\n",
       "            <td>SEX OFFENSE</td>\n",
       "            <td>1087</td>\n",
       "        </tr>\n",
       "        <tr>\n",
       "            <td>GAMBLING</td>\n",
       "            <td>724</td>\n",
       "        </tr>\n",
       "        <tr>\n",
       "            <td>LIQUOR LAW VIOLATION</td>\n",
       "            <td>573</td>\n",
       "        </tr>\n",
       "        <tr>\n",
       "            <td>HOMICIDE</td>\n",
       "            <td>515</td>\n",
       "        </tr>\n",
       "        <tr>\n",
       "            <td>ARSON</td>\n",
       "            <td>469</td>\n",
       "        </tr>\n",
       "        <tr>\n",
       "            <td>KIDNAPPING</td>\n",
       "            <td>235</td>\n",
       "        </tr>\n",
       "        <tr>\n",
       "            <td>STALKING</td>\n",
       "            <td>207</td>\n",
       "        </tr>\n",
       "        <tr>\n",
       "            <td>INTIMIDATION</td>\n",
       "            <td>156</td>\n",
       "        </tr>\n",
       "        <tr>\n",
       "            <td>CRIMINAL SEXUAL ASSAULT</td>\n",
       "            <td>81</td>\n",
       "        </tr>\n",
       "        <tr>\n",
       "            <td>OBSCENITY</td>\n",
       "            <td>26</td>\n",
       "        </tr>\n",
       "        <tr>\n",
       "            <td>PUBLIC INDECENCY</td>\n",
       "            <td>17</td>\n",
       "        </tr>\n",
       "        <tr>\n",
       "            <td>OTHER NARCOTIC VIOLATION</td>\n",
       "            <td>6</td>\n",
       "        </tr>\n",
       "        <tr>\n",
       "            <td>NON-CRIMINAL</td>\n",
       "            <td>6</td>\n",
       "        </tr>\n",
       "        <tr>\n",
       "            <td>NON-CRIMINAL (SUBJECT SPECIFIED)</td>\n",
       "            <td>2</td>\n",
       "        </tr>\n",
       "    </tbody>\n",
       "</table>"
      ],
      "text/plain": [
       "[('THEFT', 75457),\n",
       " ('BATTERY', 59130),\n",
       " ('CRIMINAL DAMAGE', 35854),\n",
       " ('NARCOTICS', 35483),\n",
       " ('BURGLARY', 22841),\n",
       " ('ASSAULT', 19895),\n",
       " ('OTHER OFFENSE', 17524),\n",
       " ('MOTOR VEHICLE THEFT', 16490),\n",
       " ('DECEPTIVE PRACTICE', 13774),\n",
       " ('ROBBERY', 13483),\n",
       " ('CRIMINAL TRESPASS', 8216),\n",
       " ('WEAPONS VIOLATION', 3907),\n",
       " ('PUBLIC PEACE VIOLATION', 3007),\n",
       " ('OFFENSE INVOLVING CHILDREN', 2339),\n",
       " ('PROSTITUTION', 2204),\n",
       " ('CRIM SEXUAL ASSAULT', 1384),\n",
       " ('INTERFERENCE WITH PUBLIC OFFICER', 1228),\n",
       " ('SEX OFFENSE', 1087),\n",
       " ('GAMBLING', 724),\n",
       " ('LIQUOR LAW VIOLATION', 573),\n",
       " ('HOMICIDE', 515),\n",
       " ('ARSON', 469),\n",
       " ('KIDNAPPING', 235),\n",
       " ('STALKING', 207),\n",
       " ('INTIMIDATION', 156),\n",
       " ('CRIMINAL SEXUAL ASSAULT', 81),\n",
       " ('OBSCENITY', 26),\n",
       " ('PUBLIC INDECENCY', 17),\n",
       " ('OTHER NARCOTIC VIOLATION', 6),\n",
       " ('NON-CRIMINAL', 6),\n",
       " ('NON-CRIMINAL (SUBJECT SPECIFIED)', 2)]"
      ]
     },
     "execution_count": 5,
     "metadata": {},
     "output_type": "execute_result"
    }
   ],
   "source": [
    "%%sql\n",
    "\n",
    "SELECT PRIMARY_TYPE, COUNT(PRIMARY_TYPE) AS FREQUENCY FROM CRIME_DATA_SUB GROUP BY PRIMARY_TYPE ORDER BY FREQUENCY DESC;"
   ]
  },
  {
   "cell_type": "markdown",
   "metadata": {},
   "source": [
    "Given the large dataset of over 200,000 observations we will consolodate the primary_type classes with < 200 into single type called other. Crime types less than 200 are unlikely to offer the models any enhanced level of interpretability but are likely to increase compute and processing times."
   ]
  },
  {
   "cell_type": "code",
   "execution_count": 6,
   "metadata": {},
   "outputs": [
    {
     "name": "stdout",
     "output_type": "stream",
     "text": [
      " * sqlite:///CrimeReport.db\n",
      "Done.\n",
      "Done.\n",
      "Done.\n"
     ]
    },
    {
     "data": {
      "text/html": [
       "<table>\n",
       "    <thead>\n",
       "        <tr>\n",
       "            <th>primary_type</th>\n",
       "            <th>COUNT(PRIMARY_TYPE)</th>\n",
       "        </tr>\n",
       "    </thead>\n",
       "    <tbody>\n",
       "        <tr>\n",
       "            <td>THEFT</td>\n",
       "            <td>75457</td>\n",
       "        </tr>\n",
       "        <tr>\n",
       "            <td>BATTERY</td>\n",
       "            <td>59130</td>\n",
       "        </tr>\n",
       "        <tr>\n",
       "            <td>CRIMINAL DAMAGE</td>\n",
       "            <td>35854</td>\n",
       "        </tr>\n",
       "        <tr>\n",
       "            <td>NARCOTICS</td>\n",
       "            <td>35483</td>\n",
       "        </tr>\n",
       "        <tr>\n",
       "            <td>BURGLARY</td>\n",
       "            <td>22841</td>\n",
       "        </tr>\n",
       "        <tr>\n",
       "            <td>ASSAULT</td>\n",
       "            <td>19895</td>\n",
       "        </tr>\n",
       "        <tr>\n",
       "            <td>OTHER OFFENSE</td>\n",
       "            <td>17524</td>\n",
       "        </tr>\n",
       "        <tr>\n",
       "            <td>MOTOR VEHICLE THEFT</td>\n",
       "            <td>16490</td>\n",
       "        </tr>\n",
       "        <tr>\n",
       "            <td>DECEPTIVE PRACTICE</td>\n",
       "            <td>13774</td>\n",
       "        </tr>\n",
       "        <tr>\n",
       "            <td>ROBBERY</td>\n",
       "            <td>13483</td>\n",
       "        </tr>\n",
       "        <tr>\n",
       "            <td>CRIMINAL TRESPASS</td>\n",
       "            <td>8216</td>\n",
       "        </tr>\n",
       "        <tr>\n",
       "            <td>WEAPONS VIOLATION</td>\n",
       "            <td>3907</td>\n",
       "        </tr>\n",
       "        <tr>\n",
       "            <td>PUBLIC PEACE VIOLATION</td>\n",
       "            <td>3007</td>\n",
       "        </tr>\n",
       "        <tr>\n",
       "            <td>OFFENSE INVOLVING CHILDREN</td>\n",
       "            <td>2339</td>\n",
       "        </tr>\n",
       "        <tr>\n",
       "            <td>PROSTITUTION</td>\n",
       "            <td>2204</td>\n",
       "        </tr>\n",
       "        <tr>\n",
       "            <td>CRIM SEXUAL ASSAULT</td>\n",
       "            <td>1384</td>\n",
       "        </tr>\n",
       "        <tr>\n",
       "            <td>INTERFERENCE WITH PUBLIC OFFICER</td>\n",
       "            <td>1228</td>\n",
       "        </tr>\n",
       "        <tr>\n",
       "            <td>SEX OFFENSE</td>\n",
       "            <td>1087</td>\n",
       "        </tr>\n",
       "        <tr>\n",
       "            <td>GAMBLING</td>\n",
       "            <td>724</td>\n",
       "        </tr>\n",
       "        <tr>\n",
       "            <td>LIQUOR LAW VIOLATION</td>\n",
       "            <td>573</td>\n",
       "        </tr>\n",
       "        <tr>\n",
       "            <td>HOMICIDE</td>\n",
       "            <td>515</td>\n",
       "        </tr>\n",
       "        <tr>\n",
       "            <td>ARSON</td>\n",
       "            <td>469</td>\n",
       "        </tr>\n",
       "        <tr>\n",
       "            <td>OTHER</td>\n",
       "            <td>294</td>\n",
       "        </tr>\n",
       "        <tr>\n",
       "            <td>KIDNAPPING</td>\n",
       "            <td>235</td>\n",
       "        </tr>\n",
       "        <tr>\n",
       "            <td>STALKING</td>\n",
       "            <td>207</td>\n",
       "        </tr>\n",
       "    </tbody>\n",
       "</table>"
      ],
      "text/plain": [
       "[('THEFT', 75457),\n",
       " ('BATTERY', 59130),\n",
       " ('CRIMINAL DAMAGE', 35854),\n",
       " ('NARCOTICS', 35483),\n",
       " ('BURGLARY', 22841),\n",
       " ('ASSAULT', 19895),\n",
       " ('OTHER OFFENSE', 17524),\n",
       " ('MOTOR VEHICLE THEFT', 16490),\n",
       " ('DECEPTIVE PRACTICE', 13774),\n",
       " ('ROBBERY', 13483),\n",
       " ('CRIMINAL TRESPASS', 8216),\n",
       " ('WEAPONS VIOLATION', 3907),\n",
       " ('PUBLIC PEACE VIOLATION', 3007),\n",
       " ('OFFENSE INVOLVING CHILDREN', 2339),\n",
       " ('PROSTITUTION', 2204),\n",
       " ('CRIM SEXUAL ASSAULT', 1384),\n",
       " ('INTERFERENCE WITH PUBLIC OFFICER', 1228),\n",
       " ('SEX OFFENSE', 1087),\n",
       " ('GAMBLING', 724),\n",
       " ('LIQUOR LAW VIOLATION', 573),\n",
       " ('HOMICIDE', 515),\n",
       " ('ARSON', 469),\n",
       " ('OTHER', 294),\n",
       " ('KIDNAPPING', 235),\n",
       " ('STALKING', 207)]"
      ]
     },
     "execution_count": 6,
     "metadata": {},
     "output_type": "execute_result"
    }
   ],
   "source": [
    "%%sql\n",
    "DROP VIEW IF EXISTS CDS_UPDATED;\n",
    "\n",
    "CREATE VIEW CDS_UPDATED AS\n",
    "SELECT\n",
    "    CASE\n",
    "        WHEN PRIMARY_TYPE IN (\n",
    "            SELECT PRIMARY_TYPE\n",
    "            FROM CRIME_DATA_SUB\n",
    "            GROUP BY PRIMARY_TYPE\n",
    "            HAVING COUNT(PRIMARY_TYPE) < 200\n",
    "        ) THEN 'OTHER'\n",
    "        ELSE PRIMARY_TYPE\n",
    "    END AS primary_type,\n",
    "    ARREST,\n",
    "    DOMESTIC,\n",
    "    COMMUNITY_AREA,\n",
    "    MONTH,\n",
    "    DAY,\n",
    "    WEEKDAY,\n",
    "    HOUR\n",
    "FROM CRIME_DATA_SUB;\n",
    "\n",
    "SELECT PRIMARY_TYPE, COUNT(PRIMARY_TYPE) FROM CDS_UPDATED GROUP BY PRIMARY_TYPE ORDER BY COUNT(PRIMARY_TYPE) DESC;"
   ]
  },
  {
   "cell_type": "code",
   "execution_count": 7,
   "metadata": {},
   "outputs": [
    {
     "name": "stdout",
     "output_type": "stream",
     "text": [
      " * sqlite:///CrimeReport.db\n",
      "Done.\n"
     ]
    },
    {
     "data": {
      "text/html": [
       "<table>\n",
       "    <thead>\n",
       "        <tr>\n",
       "            <th>primary_type</th>\n",
       "            <th>arrest</th>\n",
       "            <th>domestic</th>\n",
       "            <th>community_area</th>\n",
       "            <th>month</th>\n",
       "            <th>day</th>\n",
       "            <th>weekday</th>\n",
       "            <th>hour</th>\n",
       "        </tr>\n",
       "    </thead>\n",
       "    <tbody>\n",
       "        <tr>\n",
       "            <td>BURGLARY</td>\n",
       "            <td>0</td>\n",
       "            <td>0</td>\n",
       "            <td>17.0</td>\n",
       "            <td>12</td>\n",
       "            <td>31</td>\n",
       "            <td>1</td>\n",
       "            <td>23</td>\n",
       "        </tr>\n",
       "        <tr>\n",
       "            <td>THEFT</td>\n",
       "            <td>0</td>\n",
       "            <td>0</td>\n",
       "            <td>41.0</td>\n",
       "            <td>12</td>\n",
       "            <td>31</td>\n",
       "            <td>1</td>\n",
       "            <td>23</td>\n",
       "        </tr>\n",
       "        <tr>\n",
       "            <td>BURGLARY</td>\n",
       "            <td>0</td>\n",
       "            <td>0</td>\n",
       "            <td>16.0</td>\n",
       "            <td>12</td>\n",
       "            <td>31</td>\n",
       "            <td>1</td>\n",
       "            <td>23</td>\n",
       "        </tr>\n",
       "    </tbody>\n",
       "</table>"
      ],
      "text/plain": [
       "[('BURGLARY', 0, 0, 17.0, 12, 31, 1, 23),\n",
       " ('THEFT', 0, 0, 41.0, 12, 31, 1, 23),\n",
       " ('BURGLARY', 0, 0, 16.0, 12, 31, 1, 23)]"
      ]
     },
     "execution_count": 7,
     "metadata": {},
     "output_type": "execute_result"
    }
   ],
   "source": [
    "%%sql\n",
    "SELECT * FROM CDS_UPDATED LIMIT 3;"
   ]
  },
  {
   "cell_type": "code",
   "execution_count": 8,
   "metadata": {},
   "outputs": [
    {
     "name": "stdout",
     "output_type": "stream",
     "text": [
      " * sqlite:///CrimeReport.db\n",
      "Done.\n"
     ]
    },
    {
     "data": {
      "text/html": [
       "<div>\n",
       "<style scoped>\n",
       "    .dataframe tbody tr th:only-of-type {\n",
       "        vertical-align: middle;\n",
       "    }\n",
       "\n",
       "    .dataframe tbody tr th {\n",
       "        vertical-align: top;\n",
       "    }\n",
       "\n",
       "    .dataframe thead th {\n",
       "        text-align: right;\n",
       "    }\n",
       "</style>\n",
       "<table border=\"1\" class=\"dataframe\">\n",
       "  <thead>\n",
       "    <tr style=\"text-align: right;\">\n",
       "      <th></th>\n",
       "      <th>primary_type</th>\n",
       "      <th>arrest</th>\n",
       "      <th>domestic</th>\n",
       "      <th>community_area</th>\n",
       "      <th>month</th>\n",
       "      <th>day</th>\n",
       "      <th>weekday</th>\n",
       "      <th>hour</th>\n",
       "    </tr>\n",
       "  </thead>\n",
       "  <tbody>\n",
       "    <tr>\n",
       "      <th>0</th>\n",
       "      <td>BURGLARY</td>\n",
       "      <td>0</td>\n",
       "      <td>0</td>\n",
       "      <td>17.0</td>\n",
       "      <td>12</td>\n",
       "      <td>31</td>\n",
       "      <td>1</td>\n",
       "      <td>23</td>\n",
       "    </tr>\n",
       "    <tr>\n",
       "      <th>1</th>\n",
       "      <td>THEFT</td>\n",
       "      <td>0</td>\n",
       "      <td>0</td>\n",
       "      <td>41.0</td>\n",
       "      <td>12</td>\n",
       "      <td>31</td>\n",
       "      <td>1</td>\n",
       "      <td>23</td>\n",
       "    </tr>\n",
       "    <tr>\n",
       "      <th>2</th>\n",
       "      <td>BURGLARY</td>\n",
       "      <td>0</td>\n",
       "      <td>0</td>\n",
       "      <td>16.0</td>\n",
       "      <td>12</td>\n",
       "      <td>31</td>\n",
       "      <td>1</td>\n",
       "      <td>23</td>\n",
       "    </tr>\n",
       "    <tr>\n",
       "      <th>3</th>\n",
       "      <td>PUBLIC PEACE VIOLATION</td>\n",
       "      <td>1</td>\n",
       "      <td>0</td>\n",
       "      <td>8.0</td>\n",
       "      <td>12</td>\n",
       "      <td>31</td>\n",
       "      <td>1</td>\n",
       "      <td>23</td>\n",
       "    </tr>\n",
       "    <tr>\n",
       "      <th>4</th>\n",
       "      <td>THEFT</td>\n",
       "      <td>0</td>\n",
       "      <td>0</td>\n",
       "      <td>6.0</td>\n",
       "      <td>12</td>\n",
       "      <td>31</td>\n",
       "      <td>1</td>\n",
       "      <td>23</td>\n",
       "    </tr>\n",
       "  </tbody>\n",
       "</table>\n",
       "</div>"
      ],
      "text/plain": [
       "             primary_type  arrest  domestic  community_area  month  day  \\\n",
       "0                BURGLARY       0         0            17.0     12   31   \n",
       "1                   THEFT       0         0            41.0     12   31   \n",
       "2                BURGLARY       0         0            16.0     12   31   \n",
       "3  PUBLIC PEACE VIOLATION       1         0             8.0     12   31   \n",
       "4                   THEFT       0         0             6.0     12   31   \n",
       "\n",
       "   weekday  hour  \n",
       "0        1    23  \n",
       "1        1    23  \n",
       "2        1    23  \n",
       "3        1    23  \n",
       "4        1    23  "
      ]
     },
     "execution_count": 8,
     "metadata": {},
     "output_type": "execute_result"
    }
   ],
   "source": [
    "# Creating stacked barcharts for the primary_type of crime by year, month, weekday and hour\n",
    "crime_data_ = %sql SELECT * FROM CDS_UPDATED;\n",
    "crime_data_df = crime_data_.DataFrame()\n",
    "crime_data_df.head()"
   ]
  },
  {
   "cell_type": "code",
   "execution_count": null,
   "metadata": {},
   "outputs": [],
   "source": [
    "# Function to pivot table for each feature for stacked bar charts\n",
    "def create_pivot_df(variable):\n",
    "    query = conn.execute(f'''SELECT {variable}, ARREST, COUNT(*) AS FREQUENCY FROM CDS_UPDATED GROUP BY {variable}, ARREST''')\n",
    "    df = pd.DataFrame(query.fetchall(), columns=[variable, 'ARREST', 'FREQUENCY'])\n",
    "    # Community_Area requires sorting to display the data in the correct order\n",
    "    if variable == 'COMMUNITY_AREA':\n",
    "        df[variable] = df[variable].astype(int)\n",
    "        df = df.sort_values(by=variable)\n",
    "    pivot_df = df.pivot(index=variable, columns='ARREST', values='FREQUENCY').fillna(0)\n",
    "    return pivot_df"
   ]
  },
  {
   "cell_type": "code",
   "execution_count": null,
   "metadata": {},
   "outputs": [
    {
     "data": {
      "application/vnd.plotly.v1+json": {
       "config": {
        "plotlyServerURL": "https://plot.ly"
       },
       "data": [
        {
         "marker": {
          "color": "#636EFA"
         },
         "name": "Arrest: 0",
         "type": "bar",
         "x": [
          1,
          2,
          3,
          4,
          5,
          6,
          7,
          8,
          9,
          10,
          11,
          12
         ],
         "xaxis": "x",
         "y": [
          18750,
          16247,
          20171,
          19779,
          22213,
          23053,
          23542,
          22351,
          20505,
          20760,
          19504,
          18772
         ],
         "yaxis": "y"
        },
        {
         "marker": {
          "color": "#EF553B"
         },
         "name": "Arrest: 1",
         "type": "bar",
         "x": [
          1,
          2,
          3,
          4,
          5,
          6,
          7,
          8,
          9,
          10,
          11,
          12
         ],
         "xaxis": "x",
         "y": [
          7575,
          7629,
          8411,
          7411,
          7903,
          8047,
          8448,
          7716,
          7278,
          7236,
          6546,
          6473
         ],
         "yaxis": "y"
        },
        {
         "marker": {
          "color": "#636EFA"
         },
         "name": "Arrest: 0",
         "type": "bar",
         "x": [
          1,
          2,
          3,
          4,
          5,
          6,
          7,
          8,
          9,
          10,
          11,
          12,
          13,
          14,
          15,
          16,
          17,
          18,
          19,
          20,
          21,
          22,
          23,
          24,
          25,
          26,
          27,
          28,
          29,
          30,
          31
         ],
         "xaxis": "x2",
         "y": [
          10356,
          7939,
          7996,
          7832,
          7726,
          7892,
          8087,
          7948,
          8182,
          8005,
          7895,
          7940,
          7669,
          7955,
          8785,
          8034,
          8310,
          7926,
          7943,
          8059,
          8095,
          7668,
          8050,
          8012,
          7894,
          7630,
          7781,
          7990,
          8049,
          7354,
          4645
         ],
         "yaxis": "y2"
        },
        {
         "marker": {
          "color": "#EF553B"
         },
         "name": "Arrest: 1",
         "type": "bar",
         "x": [
          1,
          2,
          3,
          4,
          5,
          6,
          7,
          8,
          9,
          10,
          11,
          12,
          13,
          14,
          15,
          16,
          17,
          18,
          19,
          20,
          21,
          22,
          23,
          24,
          25,
          26,
          27,
          28,
          29,
          30,
          31
         ],
         "xaxis": "x2",
         "y": [
          3250,
          2946,
          3012,
          2934,
          2934,
          2973,
          3041,
          3131,
          2998,
          2977,
          3009,
          2976,
          2906,
          3134,
          2962,
          2988,
          2977,
          2866,
          2932,
          2909,
          2951,
          2764,
          3004,
          3009,
          2951,
          2846,
          2911,
          2996,
          3029,
          2691,
          1666
         ],
         "yaxis": "y2"
        },
        {
         "marker": {
          "color": "#636EFA"
         },
         "name": "Arrest: 0",
         "type": "bar",
         "x": [
          "Sunday",
          "Monday",
          "Tuesday",
          "Wednesday",
          "Thursday",
          "Friday",
          "Saturday"
         ],
         "xaxis": "x3",
         "y": [
          34765,
          34915,
          34407,
          35255,
          34417,
          36585,
          35303
         ],
         "yaxis": "y3"
        },
        {
         "marker": {
          "color": "#EF553B"
         },
         "name": "Arrest: 1",
         "type": "bar",
         "x": [
          "Sunday",
          "Monday",
          "Tuesday",
          "Wednesday",
          "Thursday",
          "Friday",
          "Saturday"
         ],
         "xaxis": "x3",
         "y": [
          12273,
          12423,
          13169,
          13712,
          13113,
          13343,
          12640
         ],
         "yaxis": "y3"
        },
        {
         "marker": {
          "color": "#636EFA"
         },
         "name": "Arrest: 0",
         "type": "bar",
         "x": [
          0,
          1,
          2,
          3,
          4,
          5,
          6,
          7,
          8,
          9,
          10,
          11,
          12,
          13,
          14,
          15,
          16,
          17,
          18,
          19,
          20,
          21,
          22,
          23
         ],
         "xaxis": "x4",
         "y": [
          14181,
          7754,
          6832,
          5840,
          4428,
          3913,
          4446,
          6757,
          9802,
          13135,
          10748,
          10092,
          14077,
          10949,
          12170,
          13060,
          12587,
          12731,
          13289,
          12362,
          12339,
          11904,
          12416,
          9835
         ],
         "yaxis": "y4"
        },
        {
         "marker": {
          "color": "#EF553B"
         },
         "name": "Arrest: 1",
         "type": "bar",
         "x": [
          0,
          1,
          2,
          3,
          4,
          5,
          6,
          7,
          8,
          9,
          10,
          11,
          12,
          13,
          14,
          15,
          16,
          17,
          18,
          19,
          20,
          21,
          22,
          23
         ],
         "xaxis": "x4",
         "y": [
          3761,
          2705,
          2064,
          1501,
          951,
          652,
          1130,
          1342,
          2148,
          2694,
          4017,
          5140,
          5111,
          4456,
          4803,
          4896,
          4564,
          4096,
          5045,
          6904,
          6390,
          5947,
          5651,
          4705
         ],
         "yaxis": "y4"
        }
       ],
       "layout": {
        "annotations": [
         {
          "font": {
           "size": 16
          },
          "showarrow": false,
          "text": "Crime Frequency by MONTH",
          "x": 0.225,
          "xanchor": "center",
          "xref": "paper",
          "y": 1,
          "yanchor": "bottom",
          "yref": "paper"
         },
         {
          "font": {
           "size": 16
          },
          "showarrow": false,
          "text": "Crime Frequency by DAY",
          "x": 0.775,
          "xanchor": "center",
          "xref": "paper",
          "y": 1,
          "yanchor": "bottom",
          "yref": "paper"
         },
         {
          "font": {
           "size": 16
          },
          "showarrow": false,
          "text": "Crime Frequency by WEEKDAY",
          "x": 0.225,
          "xanchor": "center",
          "xref": "paper",
          "y": 0.375,
          "yanchor": "bottom",
          "yref": "paper"
         },
         {
          "font": {
           "size": 16
          },
          "showarrow": false,
          "text": "Crime Frequency by HOUR",
          "x": 0.775,
          "xanchor": "center",
          "xref": "paper",
          "y": 0.375,
          "yanchor": "bottom",
          "yref": "paper"
         }
        ],
        "barmode": "stack",
        "height": 800,
        "showlegend": false,
        "template": {
         "data": {
          "bar": [
           {
            "error_x": {
             "color": "#2a3f5f"
            },
            "error_y": {
             "color": "#2a3f5f"
            },
            "marker": {
             "line": {
              "color": "#E5ECF6",
              "width": 0.5
             },
             "pattern": {
              "fillmode": "overlay",
              "size": 10,
              "solidity": 0.2
             }
            },
            "type": "bar"
           }
          ],
          "barpolar": [
           {
            "marker": {
             "line": {
              "color": "#E5ECF6",
              "width": 0.5
             },
             "pattern": {
              "fillmode": "overlay",
              "size": 10,
              "solidity": 0.2
             }
            },
            "type": "barpolar"
           }
          ],
          "carpet": [
           {
            "aaxis": {
             "endlinecolor": "#2a3f5f",
             "gridcolor": "white",
             "linecolor": "white",
             "minorgridcolor": "white",
             "startlinecolor": "#2a3f5f"
            },
            "baxis": {
             "endlinecolor": "#2a3f5f",
             "gridcolor": "white",
             "linecolor": "white",
             "minorgridcolor": "white",
             "startlinecolor": "#2a3f5f"
            },
            "type": "carpet"
           }
          ],
          "choropleth": [
           {
            "colorbar": {
             "outlinewidth": 0,
             "ticks": ""
            },
            "type": "choropleth"
           }
          ],
          "contour": [
           {
            "colorbar": {
             "outlinewidth": 0,
             "ticks": ""
            },
            "colorscale": [
             [
              0,
              "#0d0887"
             ],
             [
              0.1111111111111111,
              "#46039f"
             ],
             [
              0.2222222222222222,
              "#7201a8"
             ],
             [
              0.3333333333333333,
              "#9c179e"
             ],
             [
              0.4444444444444444,
              "#bd3786"
             ],
             [
              0.5555555555555556,
              "#d8576b"
             ],
             [
              0.6666666666666666,
              "#ed7953"
             ],
             [
              0.7777777777777778,
              "#fb9f3a"
             ],
             [
              0.8888888888888888,
              "#fdca26"
             ],
             [
              1,
              "#f0f921"
             ]
            ],
            "type": "contour"
           }
          ],
          "contourcarpet": [
           {
            "colorbar": {
             "outlinewidth": 0,
             "ticks": ""
            },
            "type": "contourcarpet"
           }
          ],
          "heatmap": [
           {
            "colorbar": {
             "outlinewidth": 0,
             "ticks": ""
            },
            "colorscale": [
             [
              0,
              "#0d0887"
             ],
             [
              0.1111111111111111,
              "#46039f"
             ],
             [
              0.2222222222222222,
              "#7201a8"
             ],
             [
              0.3333333333333333,
              "#9c179e"
             ],
             [
              0.4444444444444444,
              "#bd3786"
             ],
             [
              0.5555555555555556,
              "#d8576b"
             ],
             [
              0.6666666666666666,
              "#ed7953"
             ],
             [
              0.7777777777777778,
              "#fb9f3a"
             ],
             [
              0.8888888888888888,
              "#fdca26"
             ],
             [
              1,
              "#f0f921"
             ]
            ],
            "type": "heatmap"
           }
          ],
          "heatmapgl": [
           {
            "colorbar": {
             "outlinewidth": 0,
             "ticks": ""
            },
            "colorscale": [
             [
              0,
              "#0d0887"
             ],
             [
              0.1111111111111111,
              "#46039f"
             ],
             [
              0.2222222222222222,
              "#7201a8"
             ],
             [
              0.3333333333333333,
              "#9c179e"
             ],
             [
              0.4444444444444444,
              "#bd3786"
             ],
             [
              0.5555555555555556,
              "#d8576b"
             ],
             [
              0.6666666666666666,
              "#ed7953"
             ],
             [
              0.7777777777777778,
              "#fb9f3a"
             ],
             [
              0.8888888888888888,
              "#fdca26"
             ],
             [
              1,
              "#f0f921"
             ]
            ],
            "type": "heatmapgl"
           }
          ],
          "histogram": [
           {
            "marker": {
             "pattern": {
              "fillmode": "overlay",
              "size": 10,
              "solidity": 0.2
             }
            },
            "type": "histogram"
           }
          ],
          "histogram2d": [
           {
            "colorbar": {
             "outlinewidth": 0,
             "ticks": ""
            },
            "colorscale": [
             [
              0,
              "#0d0887"
             ],
             [
              0.1111111111111111,
              "#46039f"
             ],
             [
              0.2222222222222222,
              "#7201a8"
             ],
             [
              0.3333333333333333,
              "#9c179e"
             ],
             [
              0.4444444444444444,
              "#bd3786"
             ],
             [
              0.5555555555555556,
              "#d8576b"
             ],
             [
              0.6666666666666666,
              "#ed7953"
             ],
             [
              0.7777777777777778,
              "#fb9f3a"
             ],
             [
              0.8888888888888888,
              "#fdca26"
             ],
             [
              1,
              "#f0f921"
             ]
            ],
            "type": "histogram2d"
           }
          ],
          "histogram2dcontour": [
           {
            "colorbar": {
             "outlinewidth": 0,
             "ticks": ""
            },
            "colorscale": [
             [
              0,
              "#0d0887"
             ],
             [
              0.1111111111111111,
              "#46039f"
             ],
             [
              0.2222222222222222,
              "#7201a8"
             ],
             [
              0.3333333333333333,
              "#9c179e"
             ],
             [
              0.4444444444444444,
              "#bd3786"
             ],
             [
              0.5555555555555556,
              "#d8576b"
             ],
             [
              0.6666666666666666,
              "#ed7953"
             ],
             [
              0.7777777777777778,
              "#fb9f3a"
             ],
             [
              0.8888888888888888,
              "#fdca26"
             ],
             [
              1,
              "#f0f921"
             ]
            ],
            "type": "histogram2dcontour"
           }
          ],
          "mesh3d": [
           {
            "colorbar": {
             "outlinewidth": 0,
             "ticks": ""
            },
            "type": "mesh3d"
           }
          ],
          "parcoords": [
           {
            "line": {
             "colorbar": {
              "outlinewidth": 0,
              "ticks": ""
             }
            },
            "type": "parcoords"
           }
          ],
          "pie": [
           {
            "automargin": true,
            "type": "pie"
           }
          ],
          "scatter": [
           {
            "fillpattern": {
             "fillmode": "overlay",
             "size": 10,
             "solidity": 0.2
            },
            "type": "scatter"
           }
          ],
          "scatter3d": [
           {
            "line": {
             "colorbar": {
              "outlinewidth": 0,
              "ticks": ""
             }
            },
            "marker": {
             "colorbar": {
              "outlinewidth": 0,
              "ticks": ""
             }
            },
            "type": "scatter3d"
           }
          ],
          "scattercarpet": [
           {
            "marker": {
             "colorbar": {
              "outlinewidth": 0,
              "ticks": ""
             }
            },
            "type": "scattercarpet"
           }
          ],
          "scattergeo": [
           {
            "marker": {
             "colorbar": {
              "outlinewidth": 0,
              "ticks": ""
             }
            },
            "type": "scattergeo"
           }
          ],
          "scattergl": [
           {
            "marker": {
             "colorbar": {
              "outlinewidth": 0,
              "ticks": ""
             }
            },
            "type": "scattergl"
           }
          ],
          "scattermapbox": [
           {
            "marker": {
             "colorbar": {
              "outlinewidth": 0,
              "ticks": ""
             }
            },
            "type": "scattermapbox"
           }
          ],
          "scatterpolar": [
           {
            "marker": {
             "colorbar": {
              "outlinewidth": 0,
              "ticks": ""
             }
            },
            "type": "scatterpolar"
           }
          ],
          "scatterpolargl": [
           {
            "marker": {
             "colorbar": {
              "outlinewidth": 0,
              "ticks": ""
             }
            },
            "type": "scatterpolargl"
           }
          ],
          "scatterternary": [
           {
            "marker": {
             "colorbar": {
              "outlinewidth": 0,
              "ticks": ""
             }
            },
            "type": "scatterternary"
           }
          ],
          "surface": [
           {
            "colorbar": {
             "outlinewidth": 0,
             "ticks": ""
            },
            "colorscale": [
             [
              0,
              "#0d0887"
             ],
             [
              0.1111111111111111,
              "#46039f"
             ],
             [
              0.2222222222222222,
              "#7201a8"
             ],
             [
              0.3333333333333333,
              "#9c179e"
             ],
             [
              0.4444444444444444,
              "#bd3786"
             ],
             [
              0.5555555555555556,
              "#d8576b"
             ],
             [
              0.6666666666666666,
              "#ed7953"
             ],
             [
              0.7777777777777778,
              "#fb9f3a"
             ],
             [
              0.8888888888888888,
              "#fdca26"
             ],
             [
              1,
              "#f0f921"
             ]
            ],
            "type": "surface"
           }
          ],
          "table": [
           {
            "cells": {
             "fill": {
              "color": "#EBF0F8"
             },
             "line": {
              "color": "white"
             }
            },
            "header": {
             "fill": {
              "color": "#C8D4E3"
             },
             "line": {
              "color": "white"
             }
            },
            "type": "table"
           }
          ]
         },
         "layout": {
          "annotationdefaults": {
           "arrowcolor": "#2a3f5f",
           "arrowhead": 0,
           "arrowwidth": 1
          },
          "autotypenumbers": "strict",
          "coloraxis": {
           "colorbar": {
            "outlinewidth": 0,
            "ticks": ""
           }
          },
          "colorscale": {
           "diverging": [
            [
             0,
             "#8e0152"
            ],
            [
             0.1,
             "#c51b7d"
            ],
            [
             0.2,
             "#de77ae"
            ],
            [
             0.3,
             "#f1b6da"
            ],
            [
             0.4,
             "#fde0ef"
            ],
            [
             0.5,
             "#f7f7f7"
            ],
            [
             0.6,
             "#e6f5d0"
            ],
            [
             0.7,
             "#b8e186"
            ],
            [
             0.8,
             "#7fbc41"
            ],
            [
             0.9,
             "#4d9221"
            ],
            [
             1,
             "#276419"
            ]
           ],
           "sequential": [
            [
             0,
             "#0d0887"
            ],
            [
             0.1111111111111111,
             "#46039f"
            ],
            [
             0.2222222222222222,
             "#7201a8"
            ],
            [
             0.3333333333333333,
             "#9c179e"
            ],
            [
             0.4444444444444444,
             "#bd3786"
            ],
            [
             0.5555555555555556,
             "#d8576b"
            ],
            [
             0.6666666666666666,
             "#ed7953"
            ],
            [
             0.7777777777777778,
             "#fb9f3a"
            ],
            [
             0.8888888888888888,
             "#fdca26"
            ],
            [
             1,
             "#f0f921"
            ]
           ],
           "sequentialminus": [
            [
             0,
             "#0d0887"
            ],
            [
             0.1111111111111111,
             "#46039f"
            ],
            [
             0.2222222222222222,
             "#7201a8"
            ],
            [
             0.3333333333333333,
             "#9c179e"
            ],
            [
             0.4444444444444444,
             "#bd3786"
            ],
            [
             0.5555555555555556,
             "#d8576b"
            ],
            [
             0.6666666666666666,
             "#ed7953"
            ],
            [
             0.7777777777777778,
             "#fb9f3a"
            ],
            [
             0.8888888888888888,
             "#fdca26"
            ],
            [
             1,
             "#f0f921"
            ]
           ]
          },
          "colorway": [
           "#636efa",
           "#EF553B",
           "#00cc96",
           "#ab63fa",
           "#FFA15A",
           "#19d3f3",
           "#FF6692",
           "#B6E880",
           "#FF97FF",
           "#FECB52"
          ],
          "font": {
           "color": "#2a3f5f"
          },
          "geo": {
           "bgcolor": "white",
           "lakecolor": "white",
           "landcolor": "#E5ECF6",
           "showlakes": true,
           "showland": true,
           "subunitcolor": "white"
          },
          "hoverlabel": {
           "align": "left"
          },
          "hovermode": "closest",
          "mapbox": {
           "style": "light"
          },
          "paper_bgcolor": "white",
          "plot_bgcolor": "#E5ECF6",
          "polar": {
           "angularaxis": {
            "gridcolor": "white",
            "linecolor": "white",
            "ticks": ""
           },
           "bgcolor": "#E5ECF6",
           "radialaxis": {
            "gridcolor": "white",
            "linecolor": "white",
            "ticks": ""
           }
          },
          "scene": {
           "xaxis": {
            "backgroundcolor": "#E5ECF6",
            "gridcolor": "white",
            "gridwidth": 2,
            "linecolor": "white",
            "showbackground": true,
            "ticks": "",
            "zerolinecolor": "white"
           },
           "yaxis": {
            "backgroundcolor": "#E5ECF6",
            "gridcolor": "white",
            "gridwidth": 2,
            "linecolor": "white",
            "showbackground": true,
            "ticks": "",
            "zerolinecolor": "white"
           },
           "zaxis": {
            "backgroundcolor": "#E5ECF6",
            "gridcolor": "white",
            "gridwidth": 2,
            "linecolor": "white",
            "showbackground": true,
            "ticks": "",
            "zerolinecolor": "white"
           }
          },
          "shapedefaults": {
           "line": {
            "color": "#2a3f5f"
           }
          },
          "ternary": {
           "aaxis": {
            "gridcolor": "white",
            "linecolor": "white",
            "ticks": ""
           },
           "baxis": {
            "gridcolor": "white",
            "linecolor": "white",
            "ticks": ""
           },
           "bgcolor": "#E5ECF6",
           "caxis": {
            "gridcolor": "white",
            "linecolor": "white",
            "ticks": ""
           }
          },
          "title": {
           "x": 0.05
          },
          "xaxis": {
           "automargin": true,
           "gridcolor": "white",
           "linecolor": "white",
           "ticks": "",
           "title": {
            "standoff": 15
           },
           "zerolinecolor": "white",
           "zerolinewidth": 2
          },
          "yaxis": {
           "automargin": true,
           "gridcolor": "white",
           "linecolor": "white",
           "ticks": "",
           "title": {
            "standoff": 15
           },
           "zerolinecolor": "white",
           "zerolinewidth": 2
          }
         }
        },
        "title": {
         "text": "Stacked Crime Frequency by Temporal Variables"
        },
        "width": 1000,
        "xaxis": {
         "anchor": "y",
         "domain": [
          0,
          0.45
         ]
        },
        "xaxis2": {
         "anchor": "y2",
         "domain": [
          0.55,
          1
         ]
        },
        "xaxis3": {
         "anchor": "y3",
         "domain": [
          0,
          0.45
         ]
        },
        "xaxis4": {
         "anchor": "y4",
         "domain": [
          0.55,
          1
         ]
        },
        "yaxis": {
         "anchor": "x",
         "domain": [
          0.625,
          1
         ]
        },
        "yaxis2": {
         "anchor": "x2",
         "domain": [
          0.625,
          1
         ]
        },
        "yaxis3": {
         "anchor": "x3",
         "domain": [
          0,
          0.375
         ]
        },
        "yaxis4": {
         "anchor": "x4",
         "domain": [
          0,
          0.375
         ]
        }
       }
      }
     },
     "metadata": {},
     "output_type": "display_data"
    }
   ],
   "source": [
    "colors = ['#636EFA', '#EF553B']  # blue for no arrest, red for arrest\n",
    "\n",
    "# Temporal variables to plot\n",
    "temporal_variables = ['MONTH', 'DAY', 'WEEKDAY', 'HOUR']\n",
    "weekday_names = ['Sunday', 'Monday', 'Tuesday', 'Wednesday', 'Thursday', 'Friday', 'Saturday']\n",
    "\n",
    "# Create subplot figure\n",
    "fig = sp.make_subplots(rows=2, cols=2, subplot_titles=[f'Crime Frequency by {var}' for var in temporal_variables])\n",
    "\n",
    "# Loop through variables and add traces\n",
    "for idx, var in enumerate(temporal_variables):\n",
    "    pivot_df = create_pivot_df(var)\n",
    "    x_labels = pivot_df.index.tolist()\n",
    "    \n",
    "    if var == 'WEEKDAY':\n",
    "        x_labels = weekday_names  # Adjusting x-axis labels for weekdays\n",
    "    \n",
    "    row, col = divmod(idx, 2)\n",
    "    row += 1  # Adjust for 1-based indexing in plotly\n",
    "    col += 1\n",
    "    \n",
    "    for i, arrest_status in enumerate(pivot_df.columns):\n",
    "        fig.add_trace(\n",
    "            go.Bar(name=f'Arrest: {arrest_status}', x=x_labels, y=pivot_df[arrest_status], \n",
    "                   marker_color=colors[i]),\n",
    "            row=row, col=col\n",
    "        )\n",
    "\n",
    "# Update layout for readability\n",
    "fig.update_layout(\n",
    "    title='Stacked Crime Frequency by Temporal Variables',\n",
    "    barmode='stack',\n",
    "    height=800,\n",
    "    width=1000,\n",
    "    showlegend=False\n",
    ")\n",
    "\n",
    "# Show plot\n",
    "fig.show()\n"
   ]
  },
  {
   "cell_type": "code",
   "execution_count": null,
   "metadata": {},
   "outputs": [
    {
     "data": {
      "application/vnd.plotly.v1+json": {
       "config": {
        "plotlyServerURL": "https://plot.ly"
       },
       "data": [
        {
         "marker": {
          "color": "#636EFA"
         },
         "name": "Arrest: 0",
         "type": "bar",
         "x": [
          0,
          1
         ],
         "xaxis": "x",
         "y": [
          200721,
          44926
         ],
         "yaxis": "y"
        },
        {
         "marker": {
          "color": "#EF553B"
         },
         "name": "Arrest: 1",
         "type": "bar",
         "x": [
          0,
          1
         ],
         "xaxis": "x",
         "y": [
          80039,
          10634
         ],
         "yaxis": "y"
        },
        {
         "marker": {
          "color": "#636EFA"
         },
         "name": "Arrest: 0",
         "type": "bar",
         "x": [
          "0",
          "1",
          "2",
          "3",
          "4",
          "5",
          "6",
          "7",
          "8",
          "9",
          "10",
          "11",
          "12",
          "13",
          "14",
          "15",
          "16",
          "17",
          "18",
          "19",
          "20",
          "21",
          "22",
          "23",
          "24",
          "25",
          "26",
          "27",
          "28",
          "29",
          "30",
          "31",
          "32",
          "33",
          "34",
          "35",
          "36",
          "37",
          "38",
          "39",
          "40",
          "41",
          "42",
          "43",
          "44",
          "45",
          "46",
          "47",
          "48",
          "49",
          "50",
          "51",
          "52",
          "53",
          "54",
          "55",
          "56",
          "57",
          "58",
          "59",
          "60",
          "61",
          "62",
          "63",
          "64",
          "65",
          "66",
          "67",
          "68",
          "69",
          "70",
          "71",
          "72",
          "73",
          "74",
          "75",
          "76",
          "77"
         ],
         "xaxis": "x2",
         "y": [
          1,
          3425,
          3276,
          3359,
          1846,
          1639,
          6261,
          4407,
          8466,
          269,
          1278,
          1181,
          535,
          896,
          2311,
          3290,
          3239,
          1644,
          656,
          4755,
          1583,
          2655,
          5534,
          6840,
          8020,
          13271,
          3722,
          3861,
          7284,
          6695,
          4163,
          2425,
          5599,
          1491,
          1154,
          2101,
          644,
          789,
          3012,
          1506,
          2485,
          1671,
          3641,
          8933,
          5156,
          1492,
          4939,
          436,
          1644,
          6302,
          951,
          1795,
          1379,
          4136,
          1233,
          578,
          1801,
          949,
          2552,
          1020,
          1776,
          4533,
          1106,
          2365,
          1054,
          1853,
          5772,
          6811,
          6411,
          6102,
          2329,
          6656,
          1035,
          3010,
          624,
          2100,
          1375,
          2559
         ],
         "yaxis": "y2"
        },
        {
         "marker": {
          "color": "#EF553B"
         },
         "name": "Arrest: 1",
         "type": "bar",
         "x": [
          "0",
          "1",
          "2",
          "3",
          "4",
          "5",
          "6",
          "7",
          "8",
          "9",
          "10",
          "11",
          "12",
          "13",
          "14",
          "15",
          "16",
          "17",
          "18",
          "19",
          "20",
          "21",
          "22",
          "23",
          "24",
          "25",
          "26",
          "27",
          "28",
          "29",
          "30",
          "31",
          "32",
          "33",
          "34",
          "35",
          "36",
          "37",
          "38",
          "39",
          "40",
          "41",
          "42",
          "43",
          "44",
          "45",
          "46",
          "47",
          "48",
          "49",
          "50",
          "51",
          "52",
          "53",
          "54",
          "55",
          "56",
          "57",
          "58",
          "59",
          "60",
          "61",
          "62",
          "63",
          "64",
          "65",
          "66",
          "67",
          "68",
          "69",
          "70",
          "71",
          "72",
          "73",
          "74",
          "75",
          "76",
          "77"
         ],
         "xaxis": "x2",
         "y": [
          0,
          1507,
          764,
          1621,
          493,
          282,
          1438,
          604,
          2835,
          56,
          192,
          230,
          67,
          187,
          639,
          878,
          703,
          289,
          126,
          1623,
          476,
          625,
          1270,
          4383,
          1670,
          8105,
          2958,
          2331,
          2142,
          3703,
          1632,
          874,
          2182,
          374,
          386,
          678,
          129,
          436,
          1119,
          290,
          990,
          253,
          1769,
          2692,
          2093,
          317,
          1613,
          100,
          280,
          2739,
          315,
          503,
          369,
          1624,
          358,
          163,
          669,
          246,
          645,
          321,
          391,
          2300,
          264,
          883,
          225,
          602,
          2834,
          3186,
          2689,
          2637,
          505,
          2777,
          175,
          960,
          86,
          618,
          461,
          724
         ],
         "yaxis": "y2"
        },
        {
         "marker": {
          "color": "#636EFA"
         },
         "name": "Arrest: 0",
         "type": "bar",
         "x": [
          "ARSON",
          "ASSAULT",
          "BATTERY",
          "BURGLARY",
          "CRIM SEXUAL ASSAULT",
          "CRIMINAL DAMAGE",
          "CRIMINAL TRESPASS",
          "DECEPTIVE PRACTICE",
          "GAMBLING",
          "HOMICIDE",
          "INTERFERENCE WITH PUBLIC OFFICER",
          "KIDNAPPING",
          "LIQUOR LAW VIOLATION",
          "MOTOR VEHICLE THEFT",
          "NARCOTICS",
          "OFFENSE INVOLVING CHILDREN",
          "OTHER",
          "OTHER OFFENSE",
          "PROSTITUTION",
          "PUBLIC PEACE VIOLATION",
          "ROBBERY",
          "SEX OFFENSE",
          "STALKING",
          "THEFT",
          "WEAPONS VIOLATION"
         ],
         "xaxis": "x3",
         "y": [
          423,
          15106,
          46067,
          21553,
          1177,
          33391,
          2161,
          10798,
          1,
          274,
          66,
          213,
          11,
          15622,
          257,
          1890,
          198,
          14759,
          15,
          756,
          12097,
          791,
          169,
          67209,
          643
         ],
         "yaxis": "y3"
        },
        {
         "marker": {
          "color": "#EF553B"
         },
         "name": "Arrest: 1",
         "type": "bar",
         "x": [
          "ARSON",
          "ASSAULT",
          "BATTERY",
          "BURGLARY",
          "CRIM SEXUAL ASSAULT",
          "CRIMINAL DAMAGE",
          "CRIMINAL TRESPASS",
          "DECEPTIVE PRACTICE",
          "GAMBLING",
          "HOMICIDE",
          "INTERFERENCE WITH PUBLIC OFFICER",
          "KIDNAPPING",
          "LIQUOR LAW VIOLATION",
          "MOTOR VEHICLE THEFT",
          "NARCOTICS",
          "OFFENSE INVOLVING CHILDREN",
          "OTHER",
          "OTHER OFFENSE",
          "PROSTITUTION",
          "PUBLIC PEACE VIOLATION",
          "ROBBERY",
          "SEX OFFENSE",
          "STALKING",
          "THEFT",
          "WEAPONS VIOLATION"
         ],
         "xaxis": "x3",
         "y": [
          46,
          4789,
          13063,
          1288,
          207,
          2463,
          6055,
          2976,
          723,
          241,
          1162,
          22,
          562,
          868,
          35226,
          449,
          96,
          2765,
          2189,
          2251,
          1386,
          296,
          38,
          8248,
          3264
         ],
         "yaxis": "y3"
        }
       ],
       "layout": {
        "annotations": [
         {
          "font": {
           "size": 16
          },
          "showarrow": false,
          "text": "Crime Frequency by DOMESTIC",
          "x": 0.5,
          "xanchor": "center",
          "xref": "paper",
          "y": 1,
          "yanchor": "bottom",
          "yref": "paper"
         },
         {
          "font": {
           "size": 16
          },
          "showarrow": false,
          "text": "Crime Frequency by COMMUNITY_AREA",
          "x": 0.5,
          "xanchor": "center",
          "xref": "paper",
          "y": 0.6111111111111112,
          "yanchor": "bottom",
          "yref": "paper"
         },
         {
          "font": {
           "size": 16
          },
          "showarrow": false,
          "text": "Crime Frequency by PRIMARY_TYPE",
          "x": 0.5,
          "xanchor": "center",
          "xref": "paper",
          "y": 0.22222222222222224,
          "yanchor": "bottom",
          "yref": "paper"
         }
        ],
        "barmode": "stack",
        "height": 900,
        "showlegend": false,
        "template": {
         "data": {
          "bar": [
           {
            "error_x": {
             "color": "#2a3f5f"
            },
            "error_y": {
             "color": "#2a3f5f"
            },
            "marker": {
             "line": {
              "color": "#E5ECF6",
              "width": 0.5
             },
             "pattern": {
              "fillmode": "overlay",
              "size": 10,
              "solidity": 0.2
             }
            },
            "type": "bar"
           }
          ],
          "barpolar": [
           {
            "marker": {
             "line": {
              "color": "#E5ECF6",
              "width": 0.5
             },
             "pattern": {
              "fillmode": "overlay",
              "size": 10,
              "solidity": 0.2
             }
            },
            "type": "barpolar"
           }
          ],
          "carpet": [
           {
            "aaxis": {
             "endlinecolor": "#2a3f5f",
             "gridcolor": "white",
             "linecolor": "white",
             "minorgridcolor": "white",
             "startlinecolor": "#2a3f5f"
            },
            "baxis": {
             "endlinecolor": "#2a3f5f",
             "gridcolor": "white",
             "linecolor": "white",
             "minorgridcolor": "white",
             "startlinecolor": "#2a3f5f"
            },
            "type": "carpet"
           }
          ],
          "choropleth": [
           {
            "colorbar": {
             "outlinewidth": 0,
             "ticks": ""
            },
            "type": "choropleth"
           }
          ],
          "contour": [
           {
            "colorbar": {
             "outlinewidth": 0,
             "ticks": ""
            },
            "colorscale": [
             [
              0,
              "#0d0887"
             ],
             [
              0.1111111111111111,
              "#46039f"
             ],
             [
              0.2222222222222222,
              "#7201a8"
             ],
             [
              0.3333333333333333,
              "#9c179e"
             ],
             [
              0.4444444444444444,
              "#bd3786"
             ],
             [
              0.5555555555555556,
              "#d8576b"
             ],
             [
              0.6666666666666666,
              "#ed7953"
             ],
             [
              0.7777777777777778,
              "#fb9f3a"
             ],
             [
              0.8888888888888888,
              "#fdca26"
             ],
             [
              1,
              "#f0f921"
             ]
            ],
            "type": "contour"
           }
          ],
          "contourcarpet": [
           {
            "colorbar": {
             "outlinewidth": 0,
             "ticks": ""
            },
            "type": "contourcarpet"
           }
          ],
          "heatmap": [
           {
            "colorbar": {
             "outlinewidth": 0,
             "ticks": ""
            },
            "colorscale": [
             [
              0,
              "#0d0887"
             ],
             [
              0.1111111111111111,
              "#46039f"
             ],
             [
              0.2222222222222222,
              "#7201a8"
             ],
             [
              0.3333333333333333,
              "#9c179e"
             ],
             [
              0.4444444444444444,
              "#bd3786"
             ],
             [
              0.5555555555555556,
              "#d8576b"
             ],
             [
              0.6666666666666666,
              "#ed7953"
             ],
             [
              0.7777777777777778,
              "#fb9f3a"
             ],
             [
              0.8888888888888888,
              "#fdca26"
             ],
             [
              1,
              "#f0f921"
             ]
            ],
            "type": "heatmap"
           }
          ],
          "heatmapgl": [
           {
            "colorbar": {
             "outlinewidth": 0,
             "ticks": ""
            },
            "colorscale": [
             [
              0,
              "#0d0887"
             ],
             [
              0.1111111111111111,
              "#46039f"
             ],
             [
              0.2222222222222222,
              "#7201a8"
             ],
             [
              0.3333333333333333,
              "#9c179e"
             ],
             [
              0.4444444444444444,
              "#bd3786"
             ],
             [
              0.5555555555555556,
              "#d8576b"
             ],
             [
              0.6666666666666666,
              "#ed7953"
             ],
             [
              0.7777777777777778,
              "#fb9f3a"
             ],
             [
              0.8888888888888888,
              "#fdca26"
             ],
             [
              1,
              "#f0f921"
             ]
            ],
            "type": "heatmapgl"
           }
          ],
          "histogram": [
           {
            "marker": {
             "pattern": {
              "fillmode": "overlay",
              "size": 10,
              "solidity": 0.2
             }
            },
            "type": "histogram"
           }
          ],
          "histogram2d": [
           {
            "colorbar": {
             "outlinewidth": 0,
             "ticks": ""
            },
            "colorscale": [
             [
              0,
              "#0d0887"
             ],
             [
              0.1111111111111111,
              "#46039f"
             ],
             [
              0.2222222222222222,
              "#7201a8"
             ],
             [
              0.3333333333333333,
              "#9c179e"
             ],
             [
              0.4444444444444444,
              "#bd3786"
             ],
             [
              0.5555555555555556,
              "#d8576b"
             ],
             [
              0.6666666666666666,
              "#ed7953"
             ],
             [
              0.7777777777777778,
              "#fb9f3a"
             ],
             [
              0.8888888888888888,
              "#fdca26"
             ],
             [
              1,
              "#f0f921"
             ]
            ],
            "type": "histogram2d"
           }
          ],
          "histogram2dcontour": [
           {
            "colorbar": {
             "outlinewidth": 0,
             "ticks": ""
            },
            "colorscale": [
             [
              0,
              "#0d0887"
             ],
             [
              0.1111111111111111,
              "#46039f"
             ],
             [
              0.2222222222222222,
              "#7201a8"
             ],
             [
              0.3333333333333333,
              "#9c179e"
             ],
             [
              0.4444444444444444,
              "#bd3786"
             ],
             [
              0.5555555555555556,
              "#d8576b"
             ],
             [
              0.6666666666666666,
              "#ed7953"
             ],
             [
              0.7777777777777778,
              "#fb9f3a"
             ],
             [
              0.8888888888888888,
              "#fdca26"
             ],
             [
              1,
              "#f0f921"
             ]
            ],
            "type": "histogram2dcontour"
           }
          ],
          "mesh3d": [
           {
            "colorbar": {
             "outlinewidth": 0,
             "ticks": ""
            },
            "type": "mesh3d"
           }
          ],
          "parcoords": [
           {
            "line": {
             "colorbar": {
              "outlinewidth": 0,
              "ticks": ""
             }
            },
            "type": "parcoords"
           }
          ],
          "pie": [
           {
            "automargin": true,
            "type": "pie"
           }
          ],
          "scatter": [
           {
            "fillpattern": {
             "fillmode": "overlay",
             "size": 10,
             "solidity": 0.2
            },
            "type": "scatter"
           }
          ],
          "scatter3d": [
           {
            "line": {
             "colorbar": {
              "outlinewidth": 0,
              "ticks": ""
             }
            },
            "marker": {
             "colorbar": {
              "outlinewidth": 0,
              "ticks": ""
             }
            },
            "type": "scatter3d"
           }
          ],
          "scattercarpet": [
           {
            "marker": {
             "colorbar": {
              "outlinewidth": 0,
              "ticks": ""
             }
            },
            "type": "scattercarpet"
           }
          ],
          "scattergeo": [
           {
            "marker": {
             "colorbar": {
              "outlinewidth": 0,
              "ticks": ""
             }
            },
            "type": "scattergeo"
           }
          ],
          "scattergl": [
           {
            "marker": {
             "colorbar": {
              "outlinewidth": 0,
              "ticks": ""
             }
            },
            "type": "scattergl"
           }
          ],
          "scattermapbox": [
           {
            "marker": {
             "colorbar": {
              "outlinewidth": 0,
              "ticks": ""
             }
            },
            "type": "scattermapbox"
           }
          ],
          "scatterpolar": [
           {
            "marker": {
             "colorbar": {
              "outlinewidth": 0,
              "ticks": ""
             }
            },
            "type": "scatterpolar"
           }
          ],
          "scatterpolargl": [
           {
            "marker": {
             "colorbar": {
              "outlinewidth": 0,
              "ticks": ""
             }
            },
            "type": "scatterpolargl"
           }
          ],
          "scatterternary": [
           {
            "marker": {
             "colorbar": {
              "outlinewidth": 0,
              "ticks": ""
             }
            },
            "type": "scatterternary"
           }
          ],
          "surface": [
           {
            "colorbar": {
             "outlinewidth": 0,
             "ticks": ""
            },
            "colorscale": [
             [
              0,
              "#0d0887"
             ],
             [
              0.1111111111111111,
              "#46039f"
             ],
             [
              0.2222222222222222,
              "#7201a8"
             ],
             [
              0.3333333333333333,
              "#9c179e"
             ],
             [
              0.4444444444444444,
              "#bd3786"
             ],
             [
              0.5555555555555556,
              "#d8576b"
             ],
             [
              0.6666666666666666,
              "#ed7953"
             ],
             [
              0.7777777777777778,
              "#fb9f3a"
             ],
             [
              0.8888888888888888,
              "#fdca26"
             ],
             [
              1,
              "#f0f921"
             ]
            ],
            "type": "surface"
           }
          ],
          "table": [
           {
            "cells": {
             "fill": {
              "color": "#EBF0F8"
             },
             "line": {
              "color": "white"
             }
            },
            "header": {
             "fill": {
              "color": "#C8D4E3"
             },
             "line": {
              "color": "white"
             }
            },
            "type": "table"
           }
          ]
         },
         "layout": {
          "annotationdefaults": {
           "arrowcolor": "#2a3f5f",
           "arrowhead": 0,
           "arrowwidth": 1
          },
          "autotypenumbers": "strict",
          "coloraxis": {
           "colorbar": {
            "outlinewidth": 0,
            "ticks": ""
           }
          },
          "colorscale": {
           "diverging": [
            [
             0,
             "#8e0152"
            ],
            [
             0.1,
             "#c51b7d"
            ],
            [
             0.2,
             "#de77ae"
            ],
            [
             0.3,
             "#f1b6da"
            ],
            [
             0.4,
             "#fde0ef"
            ],
            [
             0.5,
             "#f7f7f7"
            ],
            [
             0.6,
             "#e6f5d0"
            ],
            [
             0.7,
             "#b8e186"
            ],
            [
             0.8,
             "#7fbc41"
            ],
            [
             0.9,
             "#4d9221"
            ],
            [
             1,
             "#276419"
            ]
           ],
           "sequential": [
            [
             0,
             "#0d0887"
            ],
            [
             0.1111111111111111,
             "#46039f"
            ],
            [
             0.2222222222222222,
             "#7201a8"
            ],
            [
             0.3333333333333333,
             "#9c179e"
            ],
            [
             0.4444444444444444,
             "#bd3786"
            ],
            [
             0.5555555555555556,
             "#d8576b"
            ],
            [
             0.6666666666666666,
             "#ed7953"
            ],
            [
             0.7777777777777778,
             "#fb9f3a"
            ],
            [
             0.8888888888888888,
             "#fdca26"
            ],
            [
             1,
             "#f0f921"
            ]
           ],
           "sequentialminus": [
            [
             0,
             "#0d0887"
            ],
            [
             0.1111111111111111,
             "#46039f"
            ],
            [
             0.2222222222222222,
             "#7201a8"
            ],
            [
             0.3333333333333333,
             "#9c179e"
            ],
            [
             0.4444444444444444,
             "#bd3786"
            ],
            [
             0.5555555555555556,
             "#d8576b"
            ],
            [
             0.6666666666666666,
             "#ed7953"
            ],
            [
             0.7777777777777778,
             "#fb9f3a"
            ],
            [
             0.8888888888888888,
             "#fdca26"
            ],
            [
             1,
             "#f0f921"
            ]
           ]
          },
          "colorway": [
           "#636efa",
           "#EF553B",
           "#00cc96",
           "#ab63fa",
           "#FFA15A",
           "#19d3f3",
           "#FF6692",
           "#B6E880",
           "#FF97FF",
           "#FECB52"
          ],
          "font": {
           "color": "#2a3f5f"
          },
          "geo": {
           "bgcolor": "white",
           "lakecolor": "white",
           "landcolor": "#E5ECF6",
           "showlakes": true,
           "showland": true,
           "subunitcolor": "white"
          },
          "hoverlabel": {
           "align": "left"
          },
          "hovermode": "closest",
          "mapbox": {
           "style": "light"
          },
          "paper_bgcolor": "white",
          "plot_bgcolor": "#E5ECF6",
          "polar": {
           "angularaxis": {
            "gridcolor": "white",
            "linecolor": "white",
            "ticks": ""
           },
           "bgcolor": "#E5ECF6",
           "radialaxis": {
            "gridcolor": "white",
            "linecolor": "white",
            "ticks": ""
           }
          },
          "scene": {
           "xaxis": {
            "backgroundcolor": "#E5ECF6",
            "gridcolor": "white",
            "gridwidth": 2,
            "linecolor": "white",
            "showbackground": true,
            "ticks": "",
            "zerolinecolor": "white"
           },
           "yaxis": {
            "backgroundcolor": "#E5ECF6",
            "gridcolor": "white",
            "gridwidth": 2,
            "linecolor": "white",
            "showbackground": true,
            "ticks": "",
            "zerolinecolor": "white"
           },
           "zaxis": {
            "backgroundcolor": "#E5ECF6",
            "gridcolor": "white",
            "gridwidth": 2,
            "linecolor": "white",
            "showbackground": true,
            "ticks": "",
            "zerolinecolor": "white"
           }
          },
          "shapedefaults": {
           "line": {
            "color": "#2a3f5f"
           }
          },
          "ternary": {
           "aaxis": {
            "gridcolor": "white",
            "linecolor": "white",
            "ticks": ""
           },
           "baxis": {
            "gridcolor": "white",
            "linecolor": "white",
            "ticks": ""
           },
           "bgcolor": "#E5ECF6",
           "caxis": {
            "gridcolor": "white",
            "linecolor": "white",
            "ticks": ""
           }
          },
          "title": {
           "x": 0.05
          },
          "xaxis": {
           "automargin": true,
           "gridcolor": "white",
           "linecolor": "white",
           "ticks": "",
           "title": {
            "standoff": 15
           },
           "zerolinecolor": "white",
           "zerolinewidth": 2
          },
          "yaxis": {
           "automargin": true,
           "gridcolor": "white",
           "linecolor": "white",
           "ticks": "",
           "title": {
            "standoff": 15
           },
           "zerolinecolor": "white",
           "zerolinewidth": 2
          }
         }
        },
        "title": {
         "text": "Stacked Crime Frequency by Other Variables"
        },
        "width": 1000,
        "xaxis": {
         "anchor": "y",
         "domain": [
          0,
          1
         ],
         "type": "category"
        },
        "xaxis2": {
         "anchor": "y2",
         "domain": [
          0,
          1
         ]
        },
        "xaxis3": {
         "anchor": "y3",
         "domain": [
          0,
          1
         ]
        },
        "yaxis": {
         "anchor": "x",
         "domain": [
          0.7777777777777778,
          1
         ]
        },
        "yaxis2": {
         "anchor": "x2",
         "domain": [
          0.3888888888888889,
          0.6111111111111112
         ]
        },
        "yaxis3": {
         "anchor": "x3",
         "domain": [
          0,
          0.22222222222222224
         ]
        }
       }
      }
     },
     "metadata": {},
     "output_type": "display_data"
    }
   ],
   "source": [
    "# Plotting the other non-temporal variables in the dataset\n",
    "other_variables = ['DOMESTIC', 'COMMUNITY_AREA', 'PRIMARY_TYPE']\n",
    "\n",
    "# Create subplot figure\n",
    "fig = sp.make_subplots(rows=3, cols=1, subplot_titles=[f'Crime Frequency by {var}' for var in other_variables])\n",
    "\n",
    "# Loop through variables and add traces\n",
    "for idx, var in enumerate(other_variables):\n",
    "    pivot_df = create_pivot_df(var)\n",
    "    x_labels = pivot_df.index.tolist()\n",
    "    \n",
    "    if var == 'COMMUNITY_AREA':\n",
    "        x_labels = [str(label) for label in x_labels]  # Ensure all labels are visible\n",
    "    \n",
    "    row = idx + 1  # Adjust for 1-based indexing in plotly\n",
    "    \n",
    "    for i, arrest_status in enumerate(pivot_df.columns):\n",
    "        fig.add_trace(\n",
    "            go.Bar(name=f'Arrest: {arrest_status}', x=x_labels, y=pivot_df[arrest_status], \n",
    "                   marker_color=colors[i]),\n",
    "            row=row, col=1\n",
    "        )\n",
    "\n",
    "# Update layout for readability\n",
    "fig.update_layout(\n",
    "    title='Stacked Crime Frequency by Other Variables',\n",
    "    barmode='stack',\n",
    "    height=900,\n",
    "    width=1000,\n",
    "    showlegend=False,\n",
    "    xaxis=dict(type='category')  # Ensure categorical treatment of x-axis\n",
    ")\n",
    "\n",
    "# Show plot\n",
    "fig.show()"
   ]
  },
  {
   "cell_type": "markdown",
   "metadata": {},
   "source": [
    "---"
   ]
  },
  {
   "cell_type": "markdown",
   "metadata": {},
   "source": [
    "### **Data Preprocessing**"
   ]
  },
  {
   "cell_type": "code",
   "execution_count": 17,
   "metadata": {},
   "outputs": [
    {
     "data": {
      "text/html": [
       "<div>\n",
       "<style scoped>\n",
       "    .dataframe tbody tr th:only-of-type {\n",
       "        vertical-align: middle;\n",
       "    }\n",
       "\n",
       "    .dataframe tbody tr th {\n",
       "        vertical-align: top;\n",
       "    }\n",
       "\n",
       "    .dataframe thead th {\n",
       "        text-align: right;\n",
       "    }\n",
       "</style>\n",
       "<table border=\"1\" class=\"dataframe\">\n",
       "  <thead>\n",
       "    <tr style=\"text-align: right;\">\n",
       "      <th></th>\n",
       "      <th>primary_type</th>\n",
       "      <th>arrest</th>\n",
       "      <th>domestic</th>\n",
       "      <th>community_area</th>\n",
       "      <th>month</th>\n",
       "      <th>day</th>\n",
       "      <th>weekday</th>\n",
       "      <th>hour</th>\n",
       "    </tr>\n",
       "  </thead>\n",
       "  <tbody>\n",
       "    <tr>\n",
       "      <th>0</th>\n",
       "      <td>BURGLARY</td>\n",
       "      <td>0</td>\n",
       "      <td>0</td>\n",
       "      <td>17.0</td>\n",
       "      <td>12</td>\n",
       "      <td>31</td>\n",
       "      <td>1</td>\n",
       "      <td>23</td>\n",
       "    </tr>\n",
       "    <tr>\n",
       "      <th>1</th>\n",
       "      <td>THEFT</td>\n",
       "      <td>0</td>\n",
       "      <td>0</td>\n",
       "      <td>41.0</td>\n",
       "      <td>12</td>\n",
       "      <td>31</td>\n",
       "      <td>1</td>\n",
       "      <td>23</td>\n",
       "    </tr>\n",
       "    <tr>\n",
       "      <th>2</th>\n",
       "      <td>BURGLARY</td>\n",
       "      <td>0</td>\n",
       "      <td>0</td>\n",
       "      <td>16.0</td>\n",
       "      <td>12</td>\n",
       "      <td>31</td>\n",
       "      <td>1</td>\n",
       "      <td>23</td>\n",
       "    </tr>\n",
       "    <tr>\n",
       "      <th>3</th>\n",
       "      <td>PUBLIC PEACE VIOLATION</td>\n",
       "      <td>1</td>\n",
       "      <td>0</td>\n",
       "      <td>8.0</td>\n",
       "      <td>12</td>\n",
       "      <td>31</td>\n",
       "      <td>1</td>\n",
       "      <td>23</td>\n",
       "    </tr>\n",
       "    <tr>\n",
       "      <th>4</th>\n",
       "      <td>THEFT</td>\n",
       "      <td>0</td>\n",
       "      <td>0</td>\n",
       "      <td>6.0</td>\n",
       "      <td>12</td>\n",
       "      <td>31</td>\n",
       "      <td>1</td>\n",
       "      <td>23</td>\n",
       "    </tr>\n",
       "  </tbody>\n",
       "</table>\n",
       "</div>"
      ],
      "text/plain": [
       "             primary_type  arrest  domestic  community_area  month  day  \\\n",
       "0                BURGLARY       0         0            17.0     12   31   \n",
       "1                   THEFT       0         0            41.0     12   31   \n",
       "2                BURGLARY       0         0            16.0     12   31   \n",
       "3  PUBLIC PEACE VIOLATION       1         0             8.0     12   31   \n",
       "4                   THEFT       0         0             6.0     12   31   \n",
       "\n",
       "   weekday  hour  \n",
       "0        1    23  \n",
       "1        1    23  \n",
       "2        1    23  \n",
       "3        1    23  \n",
       "4        1    23  "
      ]
     },
     "execution_count": 17,
     "metadata": {},
     "output_type": "execute_result"
    }
   ],
   "source": [
    "crime_data_df.head()"
   ]
  },
  {
   "cell_type": "code",
   "execution_count": 18,
   "metadata": {},
   "outputs": [
    {
     "name": "stdout",
     "output_type": "stream",
     "text": [
      "Unique values in 'arrest_train':\n",
      "arrest\n",
      "0    196537\n",
      "1     72519\n",
      "Name: count, dtype: int64\n",
      "\n",
      "Unique values in 'arrest_test':\n",
      "arrest\n",
      "0    49110\n",
      "1    18154\n",
      "Name: count, dtype: int64\n"
     ]
    }
   ],
   "source": [
    "# base data transformation\n",
    "# Encode hour as sin and cos, one-hot encode the categorical variables and split the data into two dataframes for arrest and domestic.\n",
    "crime_data_df['hour_sin'] = np.sin(2 * np.pi * crime_data_df['hour'] / 24)\n",
    "crime_data_df['hour_cos'] = np.cos(2 * np.pi * crime_data_df['hour'] / 24)\n",
    "\n",
    "# One-hot encode the categorical variables\n",
    "crime_data_df = pd.get_dummies(crime_data_df, columns=['primary_type', 'weekday', 'month', 'community_area'], drop_first=True)\n",
    "crime_data_df_arrest = crime_data_df\n",
    "\n",
    "arrest_train, arrest_test = train_test_split(crime_data_df_arrest, test_size=0.2, random_state=42)\n",
    "print(\"Unique values in 'arrest_train':\")\n",
    "print(arrest_train['arrest'].value_counts())\n",
    "print(\"\\nUnique values in 'arrest_test':\")\n",
    "print(arrest_test['arrest'].value_counts())"
   ]
  },
  {
   "cell_type": "code",
   "execution_count": 19,
   "metadata": {},
   "outputs": [],
   "source": [
    "# Implementing bootstrap aggregation to create multiple balanced datasets for the arrest and domestic dataframes\n",
    "# Bootstrap aggregation is used as the dataset is imbalanced in favor of arrest = 0. Upsampling can cause overfitting and downsampling can cause loss of information.\n",
    "# Creating 10 balanced datasets for the arrest data ensures that loss of information is minimized and overfitting is avoided.\n",
    "\n",
    "def bootstrap_aggregation(dataset, var):\n",
    "    n_bootstraps = 10\n",
    "    downsampled_datasets = []\n",
    "    majority_class = dataset[dataset[var] == 0]\n",
    "    minority_class = dataset[dataset[var] == 1]\n",
    "\n",
    "    # creating 10 random seed values to be used in the resampling\n",
    "    random.seed(0)\n",
    "    random_values = [random.randint(0, 1000) for _ in range(n_bootstraps)] # [864, 394, 776, 911, 430, 41, 265, 988, 523, 497]\n",
    "\n",
    "    for i in range(n_bootstraps):\n",
    "        downsampled_majority = resample(majority_class, replace=False, n_samples=minority_class.shape[0], random_state=random_values[0])\n",
    "        downsampled_data = pd.concat([downsampled_majority, minority_class])\n",
    "        downsampled_datasets.append(downsampled_data)\n",
    "        \n",
    "    return downsampled_datasets"
   ]
  },
  {
   "cell_type": "code",
   "execution_count": 20,
   "metadata": {},
   "outputs": [],
   "source": [
    "arrest_ba = bootstrap_aggregation(arrest_train, 'arrest')"
   ]
  },
  {
   "cell_type": "code",
   "execution_count": 21,
   "metadata": {},
   "outputs": [
    {
     "data": {
      "text/html": [
       "<style>#sk-container-id-1 {\n",
       "  /* Definition of color scheme common for light and dark mode */\n",
       "  --sklearn-color-text: black;\n",
       "  --sklearn-color-line: gray;\n",
       "  /* Definition of color scheme for unfitted estimators */\n",
       "  --sklearn-color-unfitted-level-0: #fff5e6;\n",
       "  --sklearn-color-unfitted-level-1: #f6e4d2;\n",
       "  --sklearn-color-unfitted-level-2: #ffe0b3;\n",
       "  --sklearn-color-unfitted-level-3: chocolate;\n",
       "  /* Definition of color scheme for fitted estimators */\n",
       "  --sklearn-color-fitted-level-0: #f0f8ff;\n",
       "  --sklearn-color-fitted-level-1: #d4ebff;\n",
       "  --sklearn-color-fitted-level-2: #b3dbfd;\n",
       "  --sklearn-color-fitted-level-3: cornflowerblue;\n",
       "\n",
       "  /* Specific color for light theme */\n",
       "  --sklearn-color-text-on-default-background: var(--sg-text-color, var(--theme-code-foreground, var(--jp-content-font-color1, black)));\n",
       "  --sklearn-color-background: var(--sg-background-color, var(--theme-background, var(--jp-layout-color0, white)));\n",
       "  --sklearn-color-border-box: var(--sg-text-color, var(--theme-code-foreground, var(--jp-content-font-color1, black)));\n",
       "  --sklearn-color-icon: #696969;\n",
       "\n",
       "  @media (prefers-color-scheme: dark) {\n",
       "    /* Redefinition of color scheme for dark theme */\n",
       "    --sklearn-color-text-on-default-background: var(--sg-text-color, var(--theme-code-foreground, var(--jp-content-font-color1, white)));\n",
       "    --sklearn-color-background: var(--sg-background-color, var(--theme-background, var(--jp-layout-color0, #111)));\n",
       "    --sklearn-color-border-box: var(--sg-text-color, var(--theme-code-foreground, var(--jp-content-font-color1, white)));\n",
       "    --sklearn-color-icon: #878787;\n",
       "  }\n",
       "}\n",
       "\n",
       "#sk-container-id-1 {\n",
       "  color: var(--sklearn-color-text);\n",
       "}\n",
       "\n",
       "#sk-container-id-1 pre {\n",
       "  padding: 0;\n",
       "}\n",
       "\n",
       "#sk-container-id-1 input.sk-hidden--visually {\n",
       "  border: 0;\n",
       "  clip: rect(1px 1px 1px 1px);\n",
       "  clip: rect(1px, 1px, 1px, 1px);\n",
       "  height: 1px;\n",
       "  margin: -1px;\n",
       "  overflow: hidden;\n",
       "  padding: 0;\n",
       "  position: absolute;\n",
       "  width: 1px;\n",
       "}\n",
       "\n",
       "#sk-container-id-1 div.sk-dashed-wrapped {\n",
       "  border: 1px dashed var(--sklearn-color-line);\n",
       "  margin: 0 0.4em 0.5em 0.4em;\n",
       "  box-sizing: border-box;\n",
       "  padding-bottom: 0.4em;\n",
       "  background-color: var(--sklearn-color-background);\n",
       "}\n",
       "\n",
       "#sk-container-id-1 div.sk-container {\n",
       "  /* jupyter's `normalize.less` sets `[hidden] { display: none; }`\n",
       "     but bootstrap.min.css set `[hidden] { display: none !important; }`\n",
       "     so we also need the `!important` here to be able to override the\n",
       "     default hidden behavior on the sphinx rendered scikit-learn.org.\n",
       "     See: https://github.com/scikit-learn/scikit-learn/issues/21755 */\n",
       "  display: inline-block !important;\n",
       "  position: relative;\n",
       "}\n",
       "\n",
       "#sk-container-id-1 div.sk-text-repr-fallback {\n",
       "  display: none;\n",
       "}\n",
       "\n",
       "div.sk-parallel-item,\n",
       "div.sk-serial,\n",
       "div.sk-item {\n",
       "  /* draw centered vertical line to link estimators */\n",
       "  background-image: linear-gradient(var(--sklearn-color-text-on-default-background), var(--sklearn-color-text-on-default-background));\n",
       "  background-size: 2px 100%;\n",
       "  background-repeat: no-repeat;\n",
       "  background-position: center center;\n",
       "}\n",
       "\n",
       "/* Parallel-specific style estimator block */\n",
       "\n",
       "#sk-container-id-1 div.sk-parallel-item::after {\n",
       "  content: \"\";\n",
       "  width: 100%;\n",
       "  border-bottom: 2px solid var(--sklearn-color-text-on-default-background);\n",
       "  flex-grow: 1;\n",
       "}\n",
       "\n",
       "#sk-container-id-1 div.sk-parallel {\n",
       "  display: flex;\n",
       "  align-items: stretch;\n",
       "  justify-content: center;\n",
       "  background-color: var(--sklearn-color-background);\n",
       "  position: relative;\n",
       "}\n",
       "\n",
       "#sk-container-id-1 div.sk-parallel-item {\n",
       "  display: flex;\n",
       "  flex-direction: column;\n",
       "}\n",
       "\n",
       "#sk-container-id-1 div.sk-parallel-item:first-child::after {\n",
       "  align-self: flex-end;\n",
       "  width: 50%;\n",
       "}\n",
       "\n",
       "#sk-container-id-1 div.sk-parallel-item:last-child::after {\n",
       "  align-self: flex-start;\n",
       "  width: 50%;\n",
       "}\n",
       "\n",
       "#sk-container-id-1 div.sk-parallel-item:only-child::after {\n",
       "  width: 0;\n",
       "}\n",
       "\n",
       "/* Serial-specific style estimator block */\n",
       "\n",
       "#sk-container-id-1 div.sk-serial {\n",
       "  display: flex;\n",
       "  flex-direction: column;\n",
       "  align-items: center;\n",
       "  background-color: var(--sklearn-color-background);\n",
       "  padding-right: 1em;\n",
       "  padding-left: 1em;\n",
       "}\n",
       "\n",
       "\n",
       "/* Toggleable style: style used for estimator/Pipeline/ColumnTransformer box that is\n",
       "clickable and can be expanded/collapsed.\n",
       "- Pipeline and ColumnTransformer use this feature and define the default style\n",
       "- Estimators will overwrite some part of the style using the `sk-estimator` class\n",
       "*/\n",
       "\n",
       "/* Pipeline and ColumnTransformer style (default) */\n",
       "\n",
       "#sk-container-id-1 div.sk-toggleable {\n",
       "  /* Default theme specific background. It is overwritten whether we have a\n",
       "  specific estimator or a Pipeline/ColumnTransformer */\n",
       "  background-color: var(--sklearn-color-background);\n",
       "}\n",
       "\n",
       "/* Toggleable label */\n",
       "#sk-container-id-1 label.sk-toggleable__label {\n",
       "  cursor: pointer;\n",
       "  display: block;\n",
       "  width: 100%;\n",
       "  margin-bottom: 0;\n",
       "  padding: 0.5em;\n",
       "  box-sizing: border-box;\n",
       "  text-align: center;\n",
       "}\n",
       "\n",
       "#sk-container-id-1 label.sk-toggleable__label-arrow:before {\n",
       "  /* Arrow on the left of the label */\n",
       "  content: \"▸\";\n",
       "  float: left;\n",
       "  margin-right: 0.25em;\n",
       "  color: var(--sklearn-color-icon);\n",
       "}\n",
       "\n",
       "#sk-container-id-1 label.sk-toggleable__label-arrow:hover:before {\n",
       "  color: var(--sklearn-color-text);\n",
       "}\n",
       "\n",
       "/* Toggleable content - dropdown */\n",
       "\n",
       "#sk-container-id-1 div.sk-toggleable__content {\n",
       "  max-height: 0;\n",
       "  max-width: 0;\n",
       "  overflow: hidden;\n",
       "  text-align: left;\n",
       "  /* unfitted */\n",
       "  background-color: var(--sklearn-color-unfitted-level-0);\n",
       "}\n",
       "\n",
       "#sk-container-id-1 div.sk-toggleable__content.fitted {\n",
       "  /* fitted */\n",
       "  background-color: var(--sklearn-color-fitted-level-0);\n",
       "}\n",
       "\n",
       "#sk-container-id-1 div.sk-toggleable__content pre {\n",
       "  margin: 0.2em;\n",
       "  border-radius: 0.25em;\n",
       "  color: var(--sklearn-color-text);\n",
       "  /* unfitted */\n",
       "  background-color: var(--sklearn-color-unfitted-level-0);\n",
       "}\n",
       "\n",
       "#sk-container-id-1 div.sk-toggleable__content.fitted pre {\n",
       "  /* unfitted */\n",
       "  background-color: var(--sklearn-color-fitted-level-0);\n",
       "}\n",
       "\n",
       "#sk-container-id-1 input.sk-toggleable__control:checked~div.sk-toggleable__content {\n",
       "  /* Expand drop-down */\n",
       "  max-height: 200px;\n",
       "  max-width: 100%;\n",
       "  overflow: auto;\n",
       "}\n",
       "\n",
       "#sk-container-id-1 input.sk-toggleable__control:checked~label.sk-toggleable__label-arrow:before {\n",
       "  content: \"▾\";\n",
       "}\n",
       "\n",
       "/* Pipeline/ColumnTransformer-specific style */\n",
       "\n",
       "#sk-container-id-1 div.sk-label input.sk-toggleable__control:checked~label.sk-toggleable__label {\n",
       "  color: var(--sklearn-color-text);\n",
       "  background-color: var(--sklearn-color-unfitted-level-2);\n",
       "}\n",
       "\n",
       "#sk-container-id-1 div.sk-label.fitted input.sk-toggleable__control:checked~label.sk-toggleable__label {\n",
       "  background-color: var(--sklearn-color-fitted-level-2);\n",
       "}\n",
       "\n",
       "/* Estimator-specific style */\n",
       "\n",
       "/* Colorize estimator box */\n",
       "#sk-container-id-1 div.sk-estimator input.sk-toggleable__control:checked~label.sk-toggleable__label {\n",
       "  /* unfitted */\n",
       "  background-color: var(--sklearn-color-unfitted-level-2);\n",
       "}\n",
       "\n",
       "#sk-container-id-1 div.sk-estimator.fitted input.sk-toggleable__control:checked~label.sk-toggleable__label {\n",
       "  /* fitted */\n",
       "  background-color: var(--sklearn-color-fitted-level-2);\n",
       "}\n",
       "\n",
       "#sk-container-id-1 div.sk-label label.sk-toggleable__label,\n",
       "#sk-container-id-1 div.sk-label label {\n",
       "  /* The background is the default theme color */\n",
       "  color: var(--sklearn-color-text-on-default-background);\n",
       "}\n",
       "\n",
       "/* On hover, darken the color of the background */\n",
       "#sk-container-id-1 div.sk-label:hover label.sk-toggleable__label {\n",
       "  color: var(--sklearn-color-text);\n",
       "  background-color: var(--sklearn-color-unfitted-level-2);\n",
       "}\n",
       "\n",
       "/* Label box, darken color on hover, fitted */\n",
       "#sk-container-id-1 div.sk-label.fitted:hover label.sk-toggleable__label.fitted {\n",
       "  color: var(--sklearn-color-text);\n",
       "  background-color: var(--sklearn-color-fitted-level-2);\n",
       "}\n",
       "\n",
       "/* Estimator label */\n",
       "\n",
       "#sk-container-id-1 div.sk-label label {\n",
       "  font-family: monospace;\n",
       "  font-weight: bold;\n",
       "  display: inline-block;\n",
       "  line-height: 1.2em;\n",
       "}\n",
       "\n",
       "#sk-container-id-1 div.sk-label-container {\n",
       "  text-align: center;\n",
       "}\n",
       "\n",
       "/* Estimator-specific */\n",
       "#sk-container-id-1 div.sk-estimator {\n",
       "  font-family: monospace;\n",
       "  border: 1px dotted var(--sklearn-color-border-box);\n",
       "  border-radius: 0.25em;\n",
       "  box-sizing: border-box;\n",
       "  margin-bottom: 0.5em;\n",
       "  /* unfitted */\n",
       "  background-color: var(--sklearn-color-unfitted-level-0);\n",
       "}\n",
       "\n",
       "#sk-container-id-1 div.sk-estimator.fitted {\n",
       "  /* fitted */\n",
       "  background-color: var(--sklearn-color-fitted-level-0);\n",
       "}\n",
       "\n",
       "/* on hover */\n",
       "#sk-container-id-1 div.sk-estimator:hover {\n",
       "  /* unfitted */\n",
       "  background-color: var(--sklearn-color-unfitted-level-2);\n",
       "}\n",
       "\n",
       "#sk-container-id-1 div.sk-estimator.fitted:hover {\n",
       "  /* fitted */\n",
       "  background-color: var(--sklearn-color-fitted-level-2);\n",
       "}\n",
       "\n",
       "/* Specification for estimator info (e.g. \"i\" and \"?\") */\n",
       "\n",
       "/* Common style for \"i\" and \"?\" */\n",
       "\n",
       ".sk-estimator-doc-link,\n",
       "a:link.sk-estimator-doc-link,\n",
       "a:visited.sk-estimator-doc-link {\n",
       "  float: right;\n",
       "  font-size: smaller;\n",
       "  line-height: 1em;\n",
       "  font-family: monospace;\n",
       "  background-color: var(--sklearn-color-background);\n",
       "  border-radius: 1em;\n",
       "  height: 1em;\n",
       "  width: 1em;\n",
       "  text-decoration: none !important;\n",
       "  margin-left: 1ex;\n",
       "  /* unfitted */\n",
       "  border: var(--sklearn-color-unfitted-level-1) 1pt solid;\n",
       "  color: var(--sklearn-color-unfitted-level-1);\n",
       "}\n",
       "\n",
       ".sk-estimator-doc-link.fitted,\n",
       "a:link.sk-estimator-doc-link.fitted,\n",
       "a:visited.sk-estimator-doc-link.fitted {\n",
       "  /* fitted */\n",
       "  border: var(--sklearn-color-fitted-level-1) 1pt solid;\n",
       "  color: var(--sklearn-color-fitted-level-1);\n",
       "}\n",
       "\n",
       "/* On hover */\n",
       "div.sk-estimator:hover .sk-estimator-doc-link:hover,\n",
       ".sk-estimator-doc-link:hover,\n",
       "div.sk-label-container:hover .sk-estimator-doc-link:hover,\n",
       ".sk-estimator-doc-link:hover {\n",
       "  /* unfitted */\n",
       "  background-color: var(--sklearn-color-unfitted-level-3);\n",
       "  color: var(--sklearn-color-background);\n",
       "  text-decoration: none;\n",
       "}\n",
       "\n",
       "div.sk-estimator.fitted:hover .sk-estimator-doc-link.fitted:hover,\n",
       ".sk-estimator-doc-link.fitted:hover,\n",
       "div.sk-label-container:hover .sk-estimator-doc-link.fitted:hover,\n",
       ".sk-estimator-doc-link.fitted:hover {\n",
       "  /* fitted */\n",
       "  background-color: var(--sklearn-color-fitted-level-3);\n",
       "  color: var(--sklearn-color-background);\n",
       "  text-decoration: none;\n",
       "}\n",
       "\n",
       "/* Span, style for the box shown on hovering the info icon */\n",
       ".sk-estimator-doc-link span {\n",
       "  display: none;\n",
       "  z-index: 9999;\n",
       "  position: relative;\n",
       "  font-weight: normal;\n",
       "  right: .2ex;\n",
       "  padding: .5ex;\n",
       "  margin: .5ex;\n",
       "  width: min-content;\n",
       "  min-width: 20ex;\n",
       "  max-width: 50ex;\n",
       "  color: var(--sklearn-color-text);\n",
       "  box-shadow: 2pt 2pt 4pt #999;\n",
       "  /* unfitted */\n",
       "  background: var(--sklearn-color-unfitted-level-0);\n",
       "  border: .5pt solid var(--sklearn-color-unfitted-level-3);\n",
       "}\n",
       "\n",
       ".sk-estimator-doc-link.fitted span {\n",
       "  /* fitted */\n",
       "  background: var(--sklearn-color-fitted-level-0);\n",
       "  border: var(--sklearn-color-fitted-level-3);\n",
       "}\n",
       "\n",
       ".sk-estimator-doc-link:hover span {\n",
       "  display: block;\n",
       "}\n",
       "\n",
       "/* \"?\"-specific style due to the `<a>` HTML tag */\n",
       "\n",
       "#sk-container-id-1 a.estimator_doc_link {\n",
       "  float: right;\n",
       "  font-size: 1rem;\n",
       "  line-height: 1em;\n",
       "  font-family: monospace;\n",
       "  background-color: var(--sklearn-color-background);\n",
       "  border-radius: 1rem;\n",
       "  height: 1rem;\n",
       "  width: 1rem;\n",
       "  text-decoration: none;\n",
       "  /* unfitted */\n",
       "  color: var(--sklearn-color-unfitted-level-1);\n",
       "  border: var(--sklearn-color-unfitted-level-1) 1pt solid;\n",
       "}\n",
       "\n",
       "#sk-container-id-1 a.estimator_doc_link.fitted {\n",
       "  /* fitted */\n",
       "  border: var(--sklearn-color-fitted-level-1) 1pt solid;\n",
       "  color: var(--sklearn-color-fitted-level-1);\n",
       "}\n",
       "\n",
       "/* On hover */\n",
       "#sk-container-id-1 a.estimator_doc_link:hover {\n",
       "  /* unfitted */\n",
       "  background-color: var(--sklearn-color-unfitted-level-3);\n",
       "  color: var(--sklearn-color-background);\n",
       "  text-decoration: none;\n",
       "}\n",
       "\n",
       "#sk-container-id-1 a.estimator_doc_link.fitted:hover {\n",
       "  /* fitted */\n",
       "  background-color: var(--sklearn-color-fitted-level-3);\n",
       "}\n",
       "</style><div id=\"sk-container-id-1\" class=\"sk-top-container\"><div class=\"sk-text-repr-fallback\"><pre>StandardScaler()</pre><b>In a Jupyter environment, please rerun this cell to show the HTML representation or trust the notebook. <br />On GitHub, the HTML representation is unable to render, please try loading this page with nbviewer.org.</b></div><div class=\"sk-container\" hidden><div class=\"sk-item\"><div class=\"sk-estimator fitted sk-toggleable\"><input class=\"sk-toggleable__control sk-hidden--visually\" id=\"sk-estimator-id-1\" type=\"checkbox\" checked><label for=\"sk-estimator-id-1\" class=\"sk-toggleable__label fitted sk-toggleable__label-arrow fitted\">&nbsp;&nbsp;StandardScaler<a class=\"sk-estimator-doc-link fitted\" rel=\"noreferrer\" target=\"_blank\" href=\"https://scikit-learn.org/1.5/modules/generated/sklearn.preprocessing.StandardScaler.html\">?<span>Documentation for StandardScaler</span></a><span class=\"sk-estimator-doc-link fitted\">i<span>Fitted</span></span></label><div class=\"sk-toggleable__content fitted\"><pre>StandardScaler()</pre></div> </div></div></div></div>"
      ],
      "text/plain": [
       "StandardScaler()"
      ]
     },
     "execution_count": 21,
     "metadata": {},
     "output_type": "execute_result"
    }
   ],
   "source": [
    "# defining scaler and fitting to the full training dataset for use later in the models\n",
    "scaler = StandardScaler()\n",
    "scaler.fit(arrest_train[arrest_train.columns.drop('arrest')])"
   ]
  },
  {
   "cell_type": "markdown",
   "metadata": {},
   "source": [
    "---"
   ]
  },
  {
   "cell_type": "markdown",
   "metadata": {},
   "source": [
    "## **Classification Models**:"
   ]
  },
  {
   "cell_type": "code",
   "execution_count": 22,
   "metadata": {},
   "outputs": [],
   "source": [
    "def eval_metrics(y_pred, y_test):\n",
    "    f1 = f1_score(y_test, y_pred)\n",
    "    roc_auc = roc_auc_score(y_test, y_pred)\n",
    "    precision_recall = precision_recall_curve(y_test, y_pred)\n",
    "    pr_auc = auc(precision_recall[1], precision_recall[0])\n",
    "    confusion_matrix_ = confusion_matrix(y_test, y_pred)\n",
    "    classification_report_ = classification_report(y_test, y_pred)\n",
    "    \n",
    "    return f1, roc_auc, pr_auc, confusion_matrix_, classification_report_"
   ]
  },
  {
   "cell_type": "markdown",
   "metadata": {},
   "source": [
    "### **Naive Bayes**"
   ]
  },
  {
   "cell_type": "code",
   "execution_count": 23,
   "metadata": {},
   "outputs": [],
   "source": [
    "def nb_classifier(bootstrap_aggregation):\n",
    "    models = []\n",
    "    # For assessing the model performance on the training data\n",
    "    f1_scores = []\n",
    "    roc_auc_scores = []\n",
    "    pr_auc_scores = []\n",
    "\n",
    "    # Train models and evaluate on the training data\n",
    "    for i, dataset in enumerate(bootstrap_aggregation):\n",
    "        X_train = dataset[dataset.columns.drop('arrest')]\n",
    "        X_train_scaled = scaler.transform(X_train)\n",
    "        y_train = dataset['arrest']\n",
    "        #print(f\"Processing bootstrapped dataset {i+1}\")\n",
    "        \n",
    "        # Gaussian Naive Bayes classifier\n",
    "        model = GaussianNB()\n",
    "        model.fit(X_train_scaled, y_train)\n",
    "        models.append(model)\n",
    "        \n",
    "        # Predict probabilities and labels for the training set\n",
    "        y_prob = model.predict_proba(X_train_scaled)[:, 1]\n",
    "        y_pred = (y_prob >= 0.5).astype(int)\n",
    "        \n",
    "        # Calculate metrics\n",
    "        f1, roc_auc, pr_auc, confusion_matrix_, classification_report_ = eval_metrics(y_pred, y_train)\n",
    "        \n",
    "        # Store scores for each model\n",
    "        f1_scores.append(f1)\n",
    "        roc_auc_scores.append(roc_auc)\n",
    "        pr_auc_scores.append(pr_auc)\n",
    "    \n",
    "    # Calculate mean scores across all models\n",
    "    mean_f1 = np.mean(f1_scores)\n",
    "    mean_roc_auc = np.mean(roc_auc_scores)\n",
    "    mean_pr_auc = np.mean(pr_auc_scores)\n",
    "    \n",
    "    # Print results\n",
    "    print(f\"\\nTraining Mean F1 Score across all models: {mean_f1:.4f}\")\n",
    "    print(f\"Training Mean ROC AUC across all models: {mean_roc_auc:.4f}\")\n",
    "    print(f\"Training Mean Precision-Recall AUC across all models: {mean_pr_auc:.4f}\")\n",
    "    \n",
    "    return models"
   ]
  },
  {
   "cell_type": "code",
   "execution_count": 24,
   "metadata": {},
   "outputs": [],
   "source": [
    "def nb_predict(train_data, test_data):\n",
    "    # Fit NB models to the bootstrap aggregated training data\n",
    "    models = nb_classifier(train_data)\n",
    "    \n",
    "    X_test = test_data[test_data.columns.drop('arrest')]\n",
    "    y_test = test_data['arrest']\n",
    "    X_test_scaled = scaler.transform(X_test)\n",
    "    \n",
    "    # Apply NB models to test data and get classification probabilities\n",
    "    all_probs = []\n",
    "    for model in models:\n",
    "        probs = model.predict_proba(X_test_scaled)[:, 1]\n",
    "        all_probs.append(probs)\n",
    "    \n",
    "    # Average probabilities across models\n",
    "    average_probs = np.mean(all_probs, axis=0)\n",
    "\n",
    "    # Assign class labels based on the average probabilities where >= 0.5 is 1 and < 0.5 is 0\n",
    "    y_pred = (average_probs >= 0.5).astype(int)\n",
    "\n",
    "    # Evaluation metrics\n",
    "    f1, roc_auc, pr_auc, confusion_matrix_, classification_report_ = eval_metrics(y_pred, y_test)\n",
    "    \n",
    "    print(\"\\nNaive Bayes Classification Model Evaluation:\")\n",
    "    print(f\"F1 Score: {f1:.4f}\")\n",
    "    print(f\"ROC AUC Score: {roc_auc:.4f}\")\n",
    "    print(f\"Precision-Recall AUC: {pr_auc:.4f}\")\n",
    "    print(\"Confusion Matrix:\")\n",
    "    print(f\"\\t{confusion_matrix_[0]}\")\n",
    "    print(f\"\\t{confusion_matrix_[1]}\")\n",
    "    print(\"Classification Report:\")\n",
    "    print(f\"{classification_report_}\")\n",
    "    \n",
    "    return y_pred, models, all_probs"
   ]
  },
  {
   "cell_type": "code",
   "execution_count": 25,
   "metadata": {},
   "outputs": [
    {
     "name": "stdout",
     "output_type": "stream",
     "text": [
      "\n",
      "Training Mean F1 Score across all models: 0.7202\n",
      "Training Mean ROC AUC across all models: 0.7740\n",
      "Training Mean Precision-Recall AUC across all models: 0.8680\n",
      "\n",
      "Naive Bayes Classification Model Evaluation:\n",
      "F1 Score: 0.6910\n",
      "ROC AUC Score: 0.7709\n",
      "Precision-Recall AUC: 0.7784\n",
      "Confusion Matrix:\n",
      "\t[47520  1590]\n",
      "\t[ 7731 10423]\n",
      "Classification Report:\n",
      "              precision    recall  f1-score   support\n",
      "\n",
      "           0       0.86      0.97      0.91     49110\n",
      "           1       0.87      0.57      0.69     18154\n",
      "\n",
      "    accuracy                           0.86     67264\n",
      "   macro avg       0.86      0.77      0.80     67264\n",
      "weighted avg       0.86      0.86      0.85     67264\n",
      "\n"
     ]
    }
   ],
   "source": [
    "nb_preds, nb_models, np_all_probs = nb_predict(arrest_ba, arrest_test)"
   ]
  },
  {
   "cell_type": "markdown",
   "metadata": {},
   "source": [
    "---"
   ]
  },
  {
   "cell_type": "markdown",
   "metadata": {},
   "source": [
    "### **Logistic Regression**"
   ]
  },
  {
   "cell_type": "code",
   "execution_count": 26,
   "metadata": {},
   "outputs": [],
   "source": [
    "def train_logistic_regression(bootstrap_aggregation):\n",
    "    models = []\n",
    "    # creating 10 random seed values to be used in the resampling for reproducibility\n",
    "    random.seed(0)\n",
    "    random_values = [random.randint(0, 1000) for _ in range(10)] # [864, 394, 776, 911, 430, 41, 265, 988, 523, 497]\n",
    "    \n",
    "    # storing the feature names for graphing the feature importances\n",
    "    features = bootstrap_aggregation[0].columns.drop('arrest')\n",
    "    feat_importances = []\n",
    "    \n",
    "    f1_scores = []\n",
    "    roc_auc_scores = []\n",
    "    pr_auc_scores = []\n",
    "    \n",
    "    # fitting the Logistic Regression model to each of the bootstrapped datasets\n",
    "    for i, dataset in enumerate(bootstrap_aggregation):\n",
    "        #print(f\"Processing bootstrapped dataset {i+1}\")\n",
    "        X_train = dataset[dataset.columns.drop('arrest')]\n",
    "        y_train = dataset['arrest']\n",
    "        X_train_scaled = scaler.transform(X_train)\n",
    "        \n",
    "        # the logistic regression model utilised\n",
    "        model = LogisticRegression(max_iter=1000, random_state = random_values[i], solver = 'lbfgs', n_jobs = -1, penalty = 'l2')\n",
    "        model.fit(X_train_scaled, y_train)\n",
    "        \n",
    "        # getting the feature importances from each model\n",
    "        coef = model.coef_.flatten()\n",
    "        feature_importance = pd.DataFrame({'Feature': features, 'Importance': coef})\n",
    "        feat_importances.append(feature_importance.reindex(feature_importance['Importance'].abs().sort_values(ascending=False).index))\n",
    "        \n",
    "        models.append(model)\n",
    "        \n",
    "        y_prob = model.predict_proba(X_train_scaled)[:, 1]\n",
    "        y_pred = (y_prob >= 0.5).astype(int)\n",
    "        \n",
    "        f1, roc_auc, pr_auc, confusion_matrix_, classification_report_ = eval_metrics(y_pred, y_train)\n",
    "        \n",
    "        f1_scores.append(f1)\n",
    "        roc_auc_scores.append(roc_auc)\n",
    "        pr_auc_scores.append(pr_auc)\n",
    "        \n",
    "    # Calculate mean scores across all models\n",
    "    mean_f1 = np.mean(f1_scores)\n",
    "    mean_roc_auc = np.mean(roc_auc_scores)\n",
    "    mean_pr_auc = np.mean(pr_auc_scores)\n",
    "    \n",
    "    # Print results\n",
    "    print(f\"\\nTraining Mean F1 Score across all models: {mean_f1:.4f}\")\n",
    "    print(f\"Training Mean ROC AUC across all models: {mean_roc_auc:.4f}\")\n",
    "    print(f\"Training Mean Precision-Recall AUC across all models: {mean_pr_auc:.4f}\")\n",
    "        \n",
    "    return models, feat_importances"
   ]
  },
  {
   "cell_type": "code",
   "execution_count": 27,
   "metadata": {},
   "outputs": [],
   "source": [
    "def logistic_regression_predict(test_data, train_data):\n",
    "    X_test = test_data[test_data.columns.drop('arrest')]\n",
    "    y_test = test_data['arrest']\n",
    "    X_test_scaled = scaler.transform(X_test)\n",
    "    all_probs = []\n",
    "    \n",
    "    # fitting the train data to the logistic regression model and getting the feature importances\n",
    "    models, feat_importances = train_logistic_regression(train_data)\n",
    "    # Averaging the feature importances across the models, will graph later\n",
    "    avg_feat_importances = pd.concat(feat_importances).groupby('Feature').mean().sort_values(by='Importance', ascending=False)\n",
    "    \n",
    "    # Predicting the test data and getting the classification probabilities\n",
    "    for model in models:\n",
    "        probs = model.predict_proba(X_test_scaled)[:, 1]\n",
    "        all_probs.append(probs)\n",
    "    \n",
    "    # Averaging the probabilities across the models with a threshold of 0.5 where >= 0.5 is 1 and < 0.5 is 0\n",
    "    average_probs = np.mean(all_probs, axis=0)\n",
    "    y_pred = (average_probs >= 0.5).astype(int)\n",
    "    \n",
    "    # Evaluation metrics\n",
    "    f1, roc_auc, pr_auc, confusion_matrix_, classification_report_ = eval_metrics(y_pred, y_test)\n",
    "    \n",
    "    print(\"\\nLogistic Regression Classification Model Evaluation:\")\n",
    "    print(f\"F1 Score: {f1:.4f}\")\n",
    "    print(f\"ROC AUC Score: {roc_auc:.4f}\")\n",
    "    print(f\"Precision-Recall AUC: {pr_auc:.4f}\")\n",
    "    print(\"Confusion Matrix:\")\n",
    "    print(f\"\\t{confusion_matrix_[0]}\")\n",
    "    print(f\"\\t{confusion_matrix_[1]}\")\n",
    "    print(\"Classification Report:\")\n",
    "    print(f\"{classification_report_}\")\n",
    "    \n",
    "    return y_pred, models, all_probs, avg_feat_importances"
   ]
  },
  {
   "cell_type": "code",
   "execution_count": 28,
   "metadata": {},
   "outputs": [
    {
     "name": "stdout",
     "output_type": "stream",
     "text": [
      "\n",
      "Training Mean F1 Score across all models: 0.7333\n",
      "Training Mean ROC AUC across all models: 0.7782\n",
      "Training Mean Precision-Recall AUC across all models: 0.8622\n",
      "\n",
      "Logistic Regression Classification Model Evaluation:\n",
      "F1 Score: 0.6900\n",
      "ROC AUC Score: 0.7747\n",
      "Precision-Recall AUC: 0.7585\n",
      "Confusion Matrix:\n",
      "\t[46500  2610]\n",
      "\t[ 7217 10937]\n",
      "Classification Report:\n",
      "              precision    recall  f1-score   support\n",
      "\n",
      "           0       0.87      0.95      0.90     49110\n",
      "           1       0.81      0.60      0.69     18154\n",
      "\n",
      "    accuracy                           0.85     67264\n",
      "   macro avg       0.84      0.77      0.80     67264\n",
      "weighted avg       0.85      0.85      0.85     67264\n",
      "\n"
     ]
    }
   ],
   "source": [
    "lr_preds, lr_models, lr_all_probs, avg_feat_importances = logistic_regression_predict(arrest_test, arrest_ba)"
   ]
  },
  {
   "cell_type": "code",
   "execution_count": 29,
   "metadata": {},
   "outputs": [
    {
     "data": {
      "image/png": "[encoded data removed]",
      "text/plain": [
       "<Figure size 1000x800 with 1 Axes>"
      ]
     },
     "metadata": {},
     "output_type": "display_data"
    }
   ],
   "source": [
    "#  logistic regression feature importances\n",
    "plt.figure(figsize=(10, 8))\n",
    "sns.barplot(x='Importance', y='Feature', data=avg_feat_importances.head(20))\n",
    "plt.title('Top 20 Feature Importances from Logistic Regression')\n",
    "plt.show()"
   ]
  },
  {
   "cell_type": "markdown",
   "metadata": {},
   "source": [
    "---"
   ]
  },
  {
   "cell_type": "markdown",
   "metadata": {},
   "source": [
    "### **Random Forest**"
   ]
  },
  {
   "cell_type": "code",
   "execution_count": 30,
   "metadata": {},
   "outputs": [],
   "source": [
    "# the Random Forest model utilises a randomized search to find the best parameters for each dataset\n",
    "def train_rf(bootstrap_aggregation, var):\n",
    "    # Each model with utilise a randomized search to find the best parameters\n",
    "    param_dist = {\n",
    "        'n_estimators': stats.randint(50, 200),\n",
    "        'max_depth': [None] + list(range(5, 21)),\n",
    "        'min_samples_split': stats.randint(2, 15),\n",
    "        'min_samples_leaf': stats.randint(1, 10)\n",
    "    }\n",
    "\n",
    "    # Initialize lists to store cross-validation scores for each metric\n",
    "    f1_scores = []\n",
    "    roc_auc_scores = []\n",
    "    pr_auc_scores = []\n",
    "    rf_models = []\n",
    "    \n",
    "    # creating 10 random seed values to be used in the resampling for reproducibility. Same seeds as the previous model.\n",
    "    random.seed(0)\n",
    "    random_values = [random.randint(0, 1000) for _ in range(10)] # [864, 394, 776, 911, 430, 41, 265, 988, 523, 497]\n",
    "\n",
    "    for i, dataset in enumerate(bootstrap_aggregation):\n",
    "        X_train = dataset[dataset.columns.drop([var])]\n",
    "        y_train = dataset[var]\n",
    "        # Initial Random Forest model for hyperparameter tuning\n",
    "        rf = RandomForestClassifier(random_state=random_values[i], n_jobs=-1)\n",
    "        \n",
    "        # Randomized search to find the best parameters for each dataset\n",
    "        random_search = RandomizedSearchCV(\n",
    "            estimator=rf, \n",
    "            param_distributions=param_dist, \n",
    "            n_iter=30,\n",
    "            scoring='roc_auc',\n",
    "            cv=5,\n",
    "            n_jobs=-1,\n",
    "            random_state=random_values[i],\n",
    "            verbose=0\n",
    "        )\n",
    "        \n",
    "        random_search.fit(X_train, y_train)\n",
    "        \n",
    "        # Get the best parameters and initialize the model with them\n",
    "        best_params = random_search.best_params_\n",
    "        print(f'Best Parameters from Randomized Search for {var}:', best_params)\n",
    "        # appending the best parameters to the model\n",
    "        model = RandomForestClassifier(**best_params, random_state=random_values[i], n_jobs=-1)\n",
    "        model.fit(X_train, y_train)\n",
    "        rf_models.append(model)\n",
    "        \n",
    "        # prediction for the training data\n",
    "        y_pred = model.predict(X_train)\n",
    "        \n",
    "        # evaluation metrics\n",
    "        f1, roc_auc, pr_auc, confusion_matrix_, classification_report_ = eval_metrics(y_pred, y_train)\n",
    "        \n",
    "        f1_scores.append(f1)\n",
    "        roc_auc_scores.append(roc_auc)\n",
    "        pr_auc_scores.append(pr_auc)\n",
    "\n",
    "    # Calculate mean scores across all models\n",
    "    mean_f1 = np.mean(f1_scores)\n",
    "    mean_roc_auc = np.mean(roc_auc_scores)\n",
    "    mean_pr_auc = np.mean(pr_auc_scores)\n",
    "    \n",
    "    # Print results\n",
    "    print(f\"\\nTraining Mean F1 Score across all models: {mean_f1:.4f}\")\n",
    "    print(f\"Training Mean ROC AUC across all models: {mean_roc_auc:.4f}\")\n",
    "    print(f\"Training Mean Precision-Recall AUC across all models: {mean_pr_auc:.4f}\")\n",
    "    \n",
    "    return rf_models\n"
   ]
  },
  {
   "cell_type": "code",
   "execution_count": 31,
   "metadata": {},
   "outputs": [],
   "source": [
    "def ensemble_rf_predict(rf_models, test_data):\n",
    "    x_test = test_data[test_data.columns.drop(['arrest'])]\n",
    "    y_test = test_data['arrest']\n",
    "\n",
    "    # Gather predictions from each model in the ensemble\n",
    "    predictions = np.array([rf.predict(x_test) for rf in rf_models])\n",
    "    # Ge the majority vote for the predictions\n",
    "    mode_prediction_ = stats.mode(predictions, axis = 0)\n",
    "    y_pred = mode_prediction_[0]\n",
    "\n",
    "    # Evaluation metrics\n",
    "    f1, roc_auc, pr_auc, confusion_matrix_, classification_report_ = eval_metrics(y_pred, y_test)\n",
    "    \n",
    "    print(\"\\nRandom Forest Classification Model Evaluation:\")\n",
    "    print(f\"F1 Score: {f1:.4f}\")\n",
    "    print(f\"ROC AUC Score: {roc_auc:.4f}\")\n",
    "    print(f\"Precision-Recall AUC: {pr_auc:.4f}\")\n",
    "    print(\"Confusion Matrix:\")\n",
    "    print(f\"\\t{confusion_matrix_[0]}\")\n",
    "    print(f\"\\t{confusion_matrix_[1]}\")\n",
    "    print(\"Classification Report:\")\n",
    "    print(f\"{classification_report_}\")\n",
    "    \n",
    "    return rf_models, y_pred, predictions"
   ]
  },
  {
   "cell_type": "code",
   "execution_count": 32,
   "metadata": {},
   "outputs": [],
   "source": [
    "def get_top_features(rf_models):\n",
    "    # Get the average feature importances with names from the ensemble of models and sort them.\n",
    "    avg_feature_importances = np.mean([rf.feature_importances_ for rf in rf_models], axis=0)\n",
    "    feature_names = crime_data_df_arrest.columns.drop('arrest')\n",
    "    feature_importances_df = pd.DataFrame({'Feature': feature_names, 'Importance': avg_feature_importances})\n",
    "    feature_importances_df = feature_importances_df.sort_values(by='Importance', ascending=False)\n",
    "    #print(feature_importances_df)\n",
    "    \n",
    "    # graph top 20 features\n",
    "    plt.figure(figsize=(10, 8))\n",
    "    sns.barplot(x='Importance', y='Feature', data=feature_importances_df.head(20))\n",
    "    plt.title('Top 20 Feature Importances')\n",
    "    plt.show()"
   ]
  },
  {
   "cell_type": "code",
   "execution_count": 33,
   "metadata": {},
   "outputs": [
    {
     "name": "stdout",
     "output_type": "stream",
     "text": [
      "Best Parameters from Randomized Search for arrest: {'max_depth': None, 'min_samples_leaf': 2, 'min_samples_split': 12, 'n_estimators': 120}\n",
      "Best Parameters from Randomized Search for arrest: {'max_depth': 20, 'min_samples_leaf': 5, 'min_samples_split': 13, 'n_estimators': 125}\n"
     ]
    },
    {
     "ename": "KeyboardInterrupt",
     "evalue": "",
     "output_type": "error",
     "traceback": [
      "\u001b[1;31m---------------------------------------------------------------------------\u001b[0m",
      "\u001b[1;31mKeyboardInterrupt\u001b[0m                         Traceback (most recent call last)",
      "Cell \u001b[1;32mIn[33], line 1\u001b[0m\n\u001b[1;32m----> 1\u001b[0m arrest_rf \u001b[38;5;241m=\u001b[39m \u001b[43mtrain_rf\u001b[49m\u001b[43m(\u001b[49m\u001b[43marrest_ba\u001b[49m\u001b[43m,\u001b[49m\u001b[43m \u001b[49m\u001b[38;5;124;43m'\u001b[39;49m\u001b[38;5;124;43marrest\u001b[39;49m\u001b[38;5;124;43m'\u001b[39;49m\u001b[43m)\u001b[49m\n",
      "Cell \u001b[1;32mIn[30], line 39\u001b[0m, in \u001b[0;36mtrain_rf\u001b[1;34m(bootstrap_aggregation, var)\u001b[0m\n\u001b[0;32m     27\u001b[0m \u001b[38;5;66;03m# Randomized search to find the best parameters for each dataset\u001b[39;00m\n\u001b[0;32m     28\u001b[0m random_search \u001b[38;5;241m=\u001b[39m RandomizedSearchCV(\n\u001b[0;32m     29\u001b[0m     estimator\u001b[38;5;241m=\u001b[39mrf, \n\u001b[0;32m     30\u001b[0m     param_distributions\u001b[38;5;241m=\u001b[39mparam_dist, \n\u001b[1;32m   (...)\u001b[0m\n\u001b[0;32m     36\u001b[0m     verbose\u001b[38;5;241m=\u001b[39m\u001b[38;5;241m0\u001b[39m\n\u001b[0;32m     37\u001b[0m )\n\u001b[1;32m---> 39\u001b[0m \u001b[43mrandom_search\u001b[49m\u001b[38;5;241;43m.\u001b[39;49m\u001b[43mfit\u001b[49m\u001b[43m(\u001b[49m\u001b[43mX_train\u001b[49m\u001b[43m,\u001b[49m\u001b[43m \u001b[49m\u001b[43my_train\u001b[49m\u001b[43m)\u001b[49m\n\u001b[0;32m     41\u001b[0m \u001b[38;5;66;03m# Get the best parameters and initialize the model with them\u001b[39;00m\n\u001b[0;32m     42\u001b[0m best_params \u001b[38;5;241m=\u001b[39m random_search\u001b[38;5;241m.\u001b[39mbest_params_\n",
      "File \u001b[1;32m~\\AppData\\Local\\Packages\\PythonSoftwareFoundation.Python.3.11_qbz5n2kfra8p0\\LocalCache\\local-packages\\Python311\\site-packages\\sklearn\\base.py:1473\u001b[0m, in \u001b[0;36m_fit_context.<locals>.decorator.<locals>.wrapper\u001b[1;34m(estimator, *args, **kwargs)\u001b[0m\n\u001b[0;32m   1466\u001b[0m     estimator\u001b[38;5;241m.\u001b[39m_validate_params()\n\u001b[0;32m   1468\u001b[0m \u001b[38;5;28;01mwith\u001b[39;00m config_context(\n\u001b[0;32m   1469\u001b[0m     skip_parameter_validation\u001b[38;5;241m=\u001b[39m(\n\u001b[0;32m   1470\u001b[0m         prefer_skip_nested_validation \u001b[38;5;129;01mor\u001b[39;00m global_skip_validation\n\u001b[0;32m   1471\u001b[0m     )\n\u001b[0;32m   1472\u001b[0m ):\n\u001b[1;32m-> 1473\u001b[0m     \u001b[38;5;28;01mreturn\u001b[39;00m \u001b[43mfit_method\u001b[49m\u001b[43m(\u001b[49m\u001b[43mestimator\u001b[49m\u001b[43m,\u001b[49m\u001b[43m \u001b[49m\u001b[38;5;241;43m*\u001b[39;49m\u001b[43margs\u001b[49m\u001b[43m,\u001b[49m\u001b[43m \u001b[49m\u001b[38;5;241;43m*\u001b[39;49m\u001b[38;5;241;43m*\u001b[39;49m\u001b[43mkwargs\u001b[49m\u001b[43m)\u001b[49m\n",
      "File \u001b[1;32m~\\AppData\\Local\\Packages\\PythonSoftwareFoundation.Python.3.11_qbz5n2kfra8p0\\LocalCache\\local-packages\\Python311\\site-packages\\sklearn\\model_selection\\_search.py:1019\u001b[0m, in \u001b[0;36mBaseSearchCV.fit\u001b[1;34m(self, X, y, **params)\u001b[0m\n\u001b[0;32m   1013\u001b[0m     results \u001b[38;5;241m=\u001b[39m \u001b[38;5;28mself\u001b[39m\u001b[38;5;241m.\u001b[39m_format_results(\n\u001b[0;32m   1014\u001b[0m         all_candidate_params, n_splits, all_out, all_more_results\n\u001b[0;32m   1015\u001b[0m     )\n\u001b[0;32m   1017\u001b[0m     \u001b[38;5;28;01mreturn\u001b[39;00m results\n\u001b[1;32m-> 1019\u001b[0m \u001b[38;5;28;43mself\u001b[39;49m\u001b[38;5;241;43m.\u001b[39;49m\u001b[43m_run_search\u001b[49m\u001b[43m(\u001b[49m\u001b[43mevaluate_candidates\u001b[49m\u001b[43m)\u001b[49m\n\u001b[0;32m   1021\u001b[0m \u001b[38;5;66;03m# multimetric is determined here because in the case of a callable\u001b[39;00m\n\u001b[0;32m   1022\u001b[0m \u001b[38;5;66;03m# self.scoring the return type is only known after calling\u001b[39;00m\n\u001b[0;32m   1023\u001b[0m first_test_score \u001b[38;5;241m=\u001b[39m all_out[\u001b[38;5;241m0\u001b[39m][\u001b[38;5;124m\"\u001b[39m\u001b[38;5;124mtest_scores\u001b[39m\u001b[38;5;124m\"\u001b[39m]\n",
      "File \u001b[1;32m~\\AppData\\Local\\Packages\\PythonSoftwareFoundation.Python.3.11_qbz5n2kfra8p0\\LocalCache\\local-packages\\Python311\\site-packages\\sklearn\\model_selection\\_search.py:1960\u001b[0m, in \u001b[0;36mRandomizedSearchCV._run_search\u001b[1;34m(self, evaluate_candidates)\u001b[0m\n\u001b[0;32m   1958\u001b[0m \u001b[38;5;28;01mdef\u001b[39;00m \u001b[38;5;21m_run_search\u001b[39m(\u001b[38;5;28mself\u001b[39m, evaluate_candidates):\n\u001b[0;32m   1959\u001b[0m \u001b[38;5;250m    \u001b[39m\u001b[38;5;124;03m\"\"\"Search n_iter candidates from param_distributions\"\"\"\u001b[39;00m\n\u001b[1;32m-> 1960\u001b[0m     \u001b[43mevaluate_candidates\u001b[49m\u001b[43m(\u001b[49m\n\u001b[0;32m   1961\u001b[0m \u001b[43m        \u001b[49m\u001b[43mParameterSampler\u001b[49m\u001b[43m(\u001b[49m\n\u001b[0;32m   1962\u001b[0m \u001b[43m            \u001b[49m\u001b[38;5;28;43mself\u001b[39;49m\u001b[38;5;241;43m.\u001b[39;49m\u001b[43mparam_distributions\u001b[49m\u001b[43m,\u001b[49m\u001b[43m \u001b[49m\u001b[38;5;28;43mself\u001b[39;49m\u001b[38;5;241;43m.\u001b[39;49m\u001b[43mn_iter\u001b[49m\u001b[43m,\u001b[49m\u001b[43m \u001b[49m\u001b[43mrandom_state\u001b[49m\u001b[38;5;241;43m=\u001b[39;49m\u001b[38;5;28;43mself\u001b[39;49m\u001b[38;5;241;43m.\u001b[39;49m\u001b[43mrandom_state\u001b[49m\n\u001b[0;32m   1963\u001b[0m \u001b[43m        \u001b[49m\u001b[43m)\u001b[49m\n\u001b[0;32m   1964\u001b[0m \u001b[43m    \u001b[49m\u001b[43m)\u001b[49m\n",
      "File \u001b[1;32m~\\AppData\\Local\\Packages\\PythonSoftwareFoundation.Python.3.11_qbz5n2kfra8p0\\LocalCache\\local-packages\\Python311\\site-packages\\sklearn\\model_selection\\_search.py:965\u001b[0m, in \u001b[0;36mBaseSearchCV.fit.<locals>.evaluate_candidates\u001b[1;34m(candidate_params, cv, more_results)\u001b[0m\n\u001b[0;32m    957\u001b[0m \u001b[38;5;28;01mif\u001b[39;00m \u001b[38;5;28mself\u001b[39m\u001b[38;5;241m.\u001b[39mverbose \u001b[38;5;241m>\u001b[39m \u001b[38;5;241m0\u001b[39m:\n\u001b[0;32m    958\u001b[0m     \u001b[38;5;28mprint\u001b[39m(\n\u001b[0;32m    959\u001b[0m         \u001b[38;5;124m\"\u001b[39m\u001b[38;5;124mFitting \u001b[39m\u001b[38;5;132;01m{0}\u001b[39;00m\u001b[38;5;124m folds for each of \u001b[39m\u001b[38;5;132;01m{1}\u001b[39;00m\u001b[38;5;124m candidates,\u001b[39m\u001b[38;5;124m\"\u001b[39m\n\u001b[0;32m    960\u001b[0m         \u001b[38;5;124m\"\u001b[39m\u001b[38;5;124m totalling \u001b[39m\u001b[38;5;132;01m{2}\u001b[39;00m\u001b[38;5;124m fits\u001b[39m\u001b[38;5;124m\"\u001b[39m\u001b[38;5;241m.\u001b[39mformat(\n\u001b[0;32m    961\u001b[0m             n_splits, n_candidates, n_candidates \u001b[38;5;241m*\u001b[39m n_splits\n\u001b[0;32m    962\u001b[0m         )\n\u001b[0;32m    963\u001b[0m     )\n\u001b[1;32m--> 965\u001b[0m out \u001b[38;5;241m=\u001b[39m \u001b[43mparallel\u001b[49m\u001b[43m(\u001b[49m\n\u001b[0;32m    966\u001b[0m \u001b[43m    \u001b[49m\u001b[43mdelayed\u001b[49m\u001b[43m(\u001b[49m\u001b[43m_fit_and_score\u001b[49m\u001b[43m)\u001b[49m\u001b[43m(\u001b[49m\n\u001b[0;32m    967\u001b[0m \u001b[43m        \u001b[49m\u001b[43mclone\u001b[49m\u001b[43m(\u001b[49m\u001b[43mbase_estimator\u001b[49m\u001b[43m)\u001b[49m\u001b[43m,\u001b[49m\n\u001b[0;32m    968\u001b[0m \u001b[43m        \u001b[49m\u001b[43mX\u001b[49m\u001b[43m,\u001b[49m\n\u001b[0;32m    969\u001b[0m \u001b[43m        \u001b[49m\u001b[43my\u001b[49m\u001b[43m,\u001b[49m\n\u001b[0;32m    970\u001b[0m \u001b[43m        \u001b[49m\u001b[43mtrain\u001b[49m\u001b[38;5;241;43m=\u001b[39;49m\u001b[43mtrain\u001b[49m\u001b[43m,\u001b[49m\n\u001b[0;32m    971\u001b[0m \u001b[43m        \u001b[49m\u001b[43mtest\u001b[49m\u001b[38;5;241;43m=\u001b[39;49m\u001b[43mtest\u001b[49m\u001b[43m,\u001b[49m\n\u001b[0;32m    972\u001b[0m \u001b[43m        \u001b[49m\u001b[43mparameters\u001b[49m\u001b[38;5;241;43m=\u001b[39;49m\u001b[43mparameters\u001b[49m\u001b[43m,\u001b[49m\n\u001b[0;32m    973\u001b[0m \u001b[43m        \u001b[49m\u001b[43msplit_progress\u001b[49m\u001b[38;5;241;43m=\u001b[39;49m\u001b[43m(\u001b[49m\u001b[43msplit_idx\u001b[49m\u001b[43m,\u001b[49m\u001b[43m \u001b[49m\u001b[43mn_splits\u001b[49m\u001b[43m)\u001b[49m\u001b[43m,\u001b[49m\n\u001b[0;32m    974\u001b[0m \u001b[43m        \u001b[49m\u001b[43mcandidate_progress\u001b[49m\u001b[38;5;241;43m=\u001b[39;49m\u001b[43m(\u001b[49m\u001b[43mcand_idx\u001b[49m\u001b[43m,\u001b[49m\u001b[43m \u001b[49m\u001b[43mn_candidates\u001b[49m\u001b[43m)\u001b[49m\u001b[43m,\u001b[49m\n\u001b[0;32m    975\u001b[0m \u001b[43m        \u001b[49m\u001b[38;5;241;43m*\u001b[39;49m\u001b[38;5;241;43m*\u001b[39;49m\u001b[43mfit_and_score_kwargs\u001b[49m\u001b[43m,\u001b[49m\n\u001b[0;32m    976\u001b[0m \u001b[43m    \u001b[49m\u001b[43m)\u001b[49m\n\u001b[0;32m    977\u001b[0m \u001b[43m    \u001b[49m\u001b[38;5;28;43;01mfor\u001b[39;49;00m\u001b[43m \u001b[49m\u001b[43m(\u001b[49m\u001b[43mcand_idx\u001b[49m\u001b[43m,\u001b[49m\u001b[43m \u001b[49m\u001b[43mparameters\u001b[49m\u001b[43m)\u001b[49m\u001b[43m,\u001b[49m\u001b[43m \u001b[49m\u001b[43m(\u001b[49m\u001b[43msplit_idx\u001b[49m\u001b[43m,\u001b[49m\u001b[43m \u001b[49m\u001b[43m(\u001b[49m\u001b[43mtrain\u001b[49m\u001b[43m,\u001b[49m\u001b[43m \u001b[49m\u001b[43mtest\u001b[49m\u001b[43m)\u001b[49m\u001b[43m)\u001b[49m\u001b[43m \u001b[49m\u001b[38;5;129;43;01min\u001b[39;49;00m\u001b[43m \u001b[49m\u001b[43mproduct\u001b[49m\u001b[43m(\u001b[49m\n\u001b[0;32m    978\u001b[0m \u001b[43m        \u001b[49m\u001b[38;5;28;43menumerate\u001b[39;49m\u001b[43m(\u001b[49m\u001b[43mcandidate_params\u001b[49m\u001b[43m)\u001b[49m\u001b[43m,\u001b[49m\n\u001b[0;32m    979\u001b[0m \u001b[43m        \u001b[49m\u001b[38;5;28;43menumerate\u001b[39;49m\u001b[43m(\u001b[49m\u001b[43mcv\u001b[49m\u001b[38;5;241;43m.\u001b[39;49m\u001b[43msplit\u001b[49m\u001b[43m(\u001b[49m\u001b[43mX\u001b[49m\u001b[43m,\u001b[49m\u001b[43m \u001b[49m\u001b[43my\u001b[49m\u001b[43m,\u001b[49m\u001b[43m \u001b[49m\u001b[38;5;241;43m*\u001b[39;49m\u001b[38;5;241;43m*\u001b[39;49m\u001b[43mrouted_params\u001b[49m\u001b[38;5;241;43m.\u001b[39;49m\u001b[43msplitter\u001b[49m\u001b[38;5;241;43m.\u001b[39;49m\u001b[43msplit\u001b[49m\u001b[43m)\u001b[49m\u001b[43m)\u001b[49m\u001b[43m,\u001b[49m\n\u001b[0;32m    980\u001b[0m \u001b[43m    \u001b[49m\u001b[43m)\u001b[49m\n\u001b[0;32m    981\u001b[0m \u001b[43m\u001b[49m\u001b[43m)\u001b[49m\n\u001b[0;32m    983\u001b[0m \u001b[38;5;28;01mif\u001b[39;00m \u001b[38;5;28mlen\u001b[39m(out) \u001b[38;5;241m<\u001b[39m \u001b[38;5;241m1\u001b[39m:\n\u001b[0;32m    984\u001b[0m     \u001b[38;5;28;01mraise\u001b[39;00m \u001b[38;5;167;01mValueError\u001b[39;00m(\n\u001b[0;32m    985\u001b[0m         \u001b[38;5;124m\"\u001b[39m\u001b[38;5;124mNo fits were performed. \u001b[39m\u001b[38;5;124m\"\u001b[39m\n\u001b[0;32m    986\u001b[0m         \u001b[38;5;124m\"\u001b[39m\u001b[38;5;124mWas the CV iterator empty? \u001b[39m\u001b[38;5;124m\"\u001b[39m\n\u001b[0;32m    987\u001b[0m         \u001b[38;5;124m\"\u001b[39m\u001b[38;5;124mWere there no candidates?\u001b[39m\u001b[38;5;124m\"\u001b[39m\n\u001b[0;32m    988\u001b[0m     )\n",
      "File \u001b[1;32m~\\AppData\\Local\\Packages\\PythonSoftwareFoundation.Python.3.11_qbz5n2kfra8p0\\LocalCache\\local-packages\\Python311\\site-packages\\sklearn\\utils\\parallel.py:74\u001b[0m, in \u001b[0;36mParallel.__call__\u001b[1;34m(self, iterable)\u001b[0m\n\u001b[0;32m     69\u001b[0m config \u001b[38;5;241m=\u001b[39m get_config()\n\u001b[0;32m     70\u001b[0m iterable_with_config \u001b[38;5;241m=\u001b[39m (\n\u001b[0;32m     71\u001b[0m     (_with_config(delayed_func, config), args, kwargs)\n\u001b[0;32m     72\u001b[0m     \u001b[38;5;28;01mfor\u001b[39;00m delayed_func, args, kwargs \u001b[38;5;129;01min\u001b[39;00m iterable\n\u001b[0;32m     73\u001b[0m )\n\u001b[1;32m---> 74\u001b[0m \u001b[38;5;28;01mreturn\u001b[39;00m \u001b[38;5;28;43msuper\u001b[39;49m\u001b[43m(\u001b[49m\u001b[43m)\u001b[49m\u001b[38;5;241;43m.\u001b[39;49m\u001b[38;5;21;43m__call__\u001b[39;49m\u001b[43m(\u001b[49m\u001b[43miterable_with_config\u001b[49m\u001b[43m)\u001b[49m\n",
      "File \u001b[1;32m~\\AppData\\Local\\Packages\\PythonSoftwareFoundation.Python.3.11_qbz5n2kfra8p0\\LocalCache\\local-packages\\Python311\\site-packages\\joblib\\parallel.py:2007\u001b[0m, in \u001b[0;36mParallel.__call__\u001b[1;34m(self, iterable)\u001b[0m\n\u001b[0;32m   2001\u001b[0m \u001b[38;5;66;03m# The first item from the output is blank, but it makes the interpreter\u001b[39;00m\n\u001b[0;32m   2002\u001b[0m \u001b[38;5;66;03m# progress until it enters the Try/Except block of the generator and\u001b[39;00m\n\u001b[0;32m   2003\u001b[0m \u001b[38;5;66;03m# reaches the first `yield` statement. This starts the asynchronous\u001b[39;00m\n\u001b[0;32m   2004\u001b[0m \u001b[38;5;66;03m# dispatch of the tasks to the workers.\u001b[39;00m\n\u001b[0;32m   2005\u001b[0m \u001b[38;5;28mnext\u001b[39m(output)\n\u001b[1;32m-> 2007\u001b[0m \u001b[38;5;28;01mreturn\u001b[39;00m output \u001b[38;5;28;01mif\u001b[39;00m \u001b[38;5;28mself\u001b[39m\u001b[38;5;241m.\u001b[39mreturn_generator \u001b[38;5;28;01melse\u001b[39;00m \u001b[38;5;28mlist\u001b[39m(output)\n",
      "File \u001b[1;32m~\\AppData\\Local\\Packages\\PythonSoftwareFoundation.Python.3.11_qbz5n2kfra8p0\\LocalCache\\local-packages\\Python311\\site-packages\\joblib\\parallel.py:1650\u001b[0m, in \u001b[0;36mParallel._get_outputs\u001b[1;34m(self, iterator, pre_dispatch)\u001b[0m\n\u001b[0;32m   1647\u001b[0m     \u001b[38;5;28;01myield\u001b[39;00m\n\u001b[0;32m   1649\u001b[0m     \u001b[38;5;28;01mwith\u001b[39;00m \u001b[38;5;28mself\u001b[39m\u001b[38;5;241m.\u001b[39m_backend\u001b[38;5;241m.\u001b[39mretrieval_context():\n\u001b[1;32m-> 1650\u001b[0m         \u001b[38;5;28;01myield from\u001b[39;00m \u001b[38;5;28mself\u001b[39m\u001b[38;5;241m.\u001b[39m_retrieve()\n\u001b[0;32m   1652\u001b[0m \u001b[38;5;28;01mexcept\u001b[39;00m \u001b[38;5;167;01mGeneratorExit\u001b[39;00m:\n\u001b[0;32m   1653\u001b[0m     \u001b[38;5;66;03m# The generator has been garbage collected before being fully\u001b[39;00m\n\u001b[0;32m   1654\u001b[0m     \u001b[38;5;66;03m# consumed. This aborts the remaining tasks if possible and warn\u001b[39;00m\n\u001b[0;32m   1655\u001b[0m     \u001b[38;5;66;03m# the user if necessary.\u001b[39;00m\n\u001b[0;32m   1656\u001b[0m     \u001b[38;5;28mself\u001b[39m\u001b[38;5;241m.\u001b[39m_exception \u001b[38;5;241m=\u001b[39m \u001b[38;5;28;01mTrue\u001b[39;00m\n",
      "File \u001b[1;32m~\\AppData\\Local\\Packages\\PythonSoftwareFoundation.Python.3.11_qbz5n2kfra8p0\\LocalCache\\local-packages\\Python311\\site-packages\\joblib\\parallel.py:1762\u001b[0m, in \u001b[0;36mParallel._retrieve\u001b[1;34m(self)\u001b[0m\n\u001b[0;32m   1757\u001b[0m \u001b[38;5;66;03m# If the next job is not ready for retrieval yet, we just wait for\u001b[39;00m\n\u001b[0;32m   1758\u001b[0m \u001b[38;5;66;03m# async callbacks to progress.\u001b[39;00m\n\u001b[0;32m   1759\u001b[0m \u001b[38;5;28;01mif\u001b[39;00m ((\u001b[38;5;28mlen\u001b[39m(\u001b[38;5;28mself\u001b[39m\u001b[38;5;241m.\u001b[39m_jobs) \u001b[38;5;241m==\u001b[39m \u001b[38;5;241m0\u001b[39m) \u001b[38;5;129;01mor\u001b[39;00m\n\u001b[0;32m   1760\u001b[0m     (\u001b[38;5;28mself\u001b[39m\u001b[38;5;241m.\u001b[39m_jobs[\u001b[38;5;241m0\u001b[39m]\u001b[38;5;241m.\u001b[39mget_status(\n\u001b[0;32m   1761\u001b[0m         timeout\u001b[38;5;241m=\u001b[39m\u001b[38;5;28mself\u001b[39m\u001b[38;5;241m.\u001b[39mtimeout) \u001b[38;5;241m==\u001b[39m TASK_PENDING)):\n\u001b[1;32m-> 1762\u001b[0m     time\u001b[38;5;241m.\u001b[39msleep(\u001b[38;5;241m0.01\u001b[39m)\n\u001b[0;32m   1763\u001b[0m     \u001b[38;5;28;01mcontinue\u001b[39;00m\n\u001b[0;32m   1765\u001b[0m \u001b[38;5;66;03m# We need to be careful: the job list can be filling up as\u001b[39;00m\n\u001b[0;32m   1766\u001b[0m \u001b[38;5;66;03m# we empty it and Python list are not thread-safe by\u001b[39;00m\n\u001b[0;32m   1767\u001b[0m \u001b[38;5;66;03m# default hence the use of the lock\u001b[39;00m\n",
      "\u001b[1;31mKeyboardInterrupt\u001b[0m: "
     ]
    }
   ],
   "source": [
    "arrest_rf = train_rf(arrest_ba, 'arrest')"
   ]
  },
  {
   "cell_type": "code",
   "execution_count": null,
   "metadata": {},
   "outputs": [
    {
     "name": "stdout",
     "output_type": "stream",
     "text": [
      "\n",
      "Random Forest Classification Model Evaluation:\n",
      "F1 Score: 0.7036\n",
      "ROC AUC Score: 0.7852\n",
      "Precision-Recall AUC: 0.7635\n",
      "Confusion Matrix:\n",
      "\t[46211  2899]\n",
      "\t[ 6727 11427]\n",
      "Classification Report:\n",
      "              precision    recall  f1-score   support\n",
      "\n",
      "           0       0.87      0.94      0.91     49110\n",
      "           1       0.80      0.63      0.70     18154\n",
      "\n",
      "    accuracy                           0.86     67264\n",
      "   macro avg       0.84      0.79      0.80     67264\n",
      "weighted avg       0.85      0.86      0.85     67264\n",
      "\n"
     ]
    }
   ],
   "source": [
    "rf_models, rf_preds, rf_all_predictions = ensemble_rf_predict(arrest_rf, arrest_test)"
   ]
  },
  {
   "cell_type": "code",
   "execution_count": null,
   "metadata": {},
   "outputs": [
    {
     "data": {
      "image/png": "[encoded data removed]",
      "text/plain": [
       "<Figure size 1000x800 with 1 Axes>"
      ]
     },
     "metadata": {},
     "output_type": "display_data"
    }
   ],
   "source": [
    "# graphing the top features from the Random Forest model\n",
    "get_top_features(arrest_rf)"
   ]
  },
  {
   "cell_type": "markdown",
   "metadata": {},
   "source": [
    "---"
   ]
  },
  {
   "cell_type": "markdown",
   "metadata": {},
   "source": [
    "### **High-Density Based Spatial Clustering of Applications with Noise (HDBSCAN) Clustering Model**"
   ]
  },
  {
   "cell_type": "code",
   "execution_count": null,
   "metadata": {},
   "outputs": [],
   "source": [
    "# The model works by creating n clusters from the dataset. Then for each cluster the probability of arrest is calculated.\n",
    "# The centroid of each cluster and the probability of arrest is returned for each iteration of the model.\n",
    "\n",
    "def cluster_HDBSCAN(arrest_ba):\n",
    "    centroid_sets = []\n",
    "    \n",
    "    f1_scores = []\n",
    "    roc_auc_scores = []\n",
    "    pr_auc_scores = []\n",
    "    \n",
    "    # iterate through the bootstrapped datasets\n",
    "    for i, dataset in enumerate(arrest_ba):\n",
    "        X_train = dataset[dataset.columns.drop('arrest')]\n",
    "        y_train = dataset['arrest']\n",
    "        print(f\"Processing bootstrapped dataset {i+1}\")\n",
    "        \n",
    "        # Scale the data\n",
    "        #scaler = StandardScaler()\n",
    "        X_train_scaled = scaler.transform(X_train)\n",
    "        \n",
    "        # initialise the HDBSCAN clusterer, fit the model and get the labels\n",
    "        hdbscan_clusterer = hdbscan.HDBSCAN(min_cluster_size=50, min_samples=1)\n",
    "        hdbscan_labels = hdbscan_clusterer.fit_predict(X_train_scaled)\n",
    "\n",
    "        # get the unique clusters and calculate the centroids\n",
    "        unique_clusters = np.unique(hdbscan_labels)\n",
    "        centroids = []\n",
    "        centroid_probs = []\n",
    "        \n",
    "        for cluster in unique_clusters:\n",
    "            # clusters with label -1 dont belong to any cluster and are considered noise\n",
    "            if cluster == -1:\n",
    "                continue\n",
    "            \n",
    "            # assign indicies to each value in the cluster\n",
    "            cluster_indices = np.where(hdbscan_labels == cluster)[0]\n",
    "            # label the classification for each value in the cluster\n",
    "            cluster_labels = y_train.iloc[cluster_indices]\n",
    "            # calculate the probability of arrest for each cluster\n",
    "            prob_arrest = np.mean(cluster_labels)\n",
    "            # calculate the centroid of the cluster\n",
    "            cluster_centroid = X_train_scaled[cluster_indices].mean(axis=0)\n",
    "            # append the centroid and probability to the list\n",
    "            centroids.append(cluster_centroid)\n",
    "            centroid_probs.append(prob_arrest)\n",
    "        # append each models centroids and probabilities to the list\n",
    "        centroid_sets.append((np.array(centroids), centroid_probs))\n",
    "        \n",
    "        # Generate predictions for training data\n",
    "        y_pred = []\n",
    "        for x in X_train_scaled:\n",
    "            distances = cdist([x], centroids, metric='euclidean')\n",
    "            nearest_centroid = np.argmin(distances)\n",
    "            y_pred.append(1 if centroid_probs[nearest_centroid] >= 0.5 else 0)\n",
    "        \n",
    "        # Calculate metrics\n",
    "        f1, roc_auc, pr_auc, confusion_matrix_, classification_report_ = eval_metrics(y_pred, y_train)\n",
    "        \n",
    "        f1_scores.append(f1)\n",
    "        roc_auc_scores.append(roc_auc)\n",
    "        pr_auc_scores.append(pr_auc)\n",
    "\n",
    "    # Calculate mean scores across all models\n",
    "    mean_f1 = np.mean(f1_scores)\n",
    "    mean_roc_auc = np.mean(roc_auc_scores)\n",
    "    mean_pr_auc = np.mean(pr_auc_scores)\n",
    "    \n",
    "    # Print results\n",
    "    print(f\"\\nTraining Mean F1 Score across all models: {mean_f1:.4f}\")\n",
    "    print(f\"Training Mean ROC AUC across all models: {mean_roc_auc:.4f}\")\n",
    "    print(f\"Training Mean Precision-Recall AUC across all models: {mean_pr_auc:.4f}\")\n",
    "        \n",
    "    return centroid_sets"
   ]
  },
  {
   "cell_type": "code",
   "execution_count": null,
   "metadata": {},
   "outputs": [],
   "source": [
    "def classify_HDBSCAN(test_data, centroid_sets):\n",
    "    X_test = test_data[test_data.columns.drop('arrest')]\n",
    "    y_test = test_data['arrest']\n",
    "    \n",
    "    # Scale the data\n",
    "    X_test_scaled = scaler.transform(X_test)\n",
    "    arrest_probs_aggregated = []\n",
    "    all_predictions = []\n",
    "\n",
    "    # Generate predictions for test data\n",
    "    for x in X_test_scaled:\n",
    "        prob_list = []\n",
    "        \n",
    "        for centroids, centroid_probs in centroid_sets:\n",
    "            distances = cdist([x], centroids, metric='euclidean')\n",
    "            nearest_centroid = np.argmin(distances)\n",
    "            prob_list.append(centroid_probs[nearest_centroid])\n",
    "        all_predictions.append(prob_list)\n",
    "        arrest_probs_aggregated.append(np.mean(prob_list))\n",
    "        \n",
    "    y_pred = (np.array(arrest_probs_aggregated) >= 0.5).astype(int)\n",
    "    \n",
    "    # Evaluation metrics\n",
    "    f1, roc_auc, pr_auc, confusion_matrix_, classification_report_ = eval_metrics(y_pred, y_test)\n",
    "    \n",
    "    print(\"\\nHDBSCAN Classification Model Evaluation:\")\n",
    "    print(f\"F1 Score: {f1:.4f}\")\n",
    "    print(f\"ROC AUC Score: {roc_auc:.4f}\")\n",
    "    print(f\"Precision-Recall AUC: {pr_auc:.4f}\")\n",
    "    print(\"Confusion Matrix:\")\n",
    "    print(f\"\\t{confusion_matrix_[0]}\")\n",
    "    print(f\"\\t{confusion_matrix_[1]}\")\n",
    "    print(\"Classification Report:\")\n",
    "    print(f\"{classification_report_}\")\n",
    "    \n",
    "    return y_pred, all_predictions"
   ]
  },
  {
   "cell_type": "code",
   "execution_count": null,
   "metadata": {},
   "outputs": [
    {
     "name": "stdout",
     "output_type": "stream",
     "text": [
      "Processing bootstrapped dataset 1\n",
      "Processing bootstrapped dataset 2\n",
      "Processing bootstrapped dataset 3\n",
      "Processing bootstrapped dataset 4\n",
      "Processing bootstrapped dataset 5\n",
      "Processing bootstrapped dataset 6\n",
      "Processing bootstrapped dataset 7\n",
      "Processing bootstrapped dataset 8\n",
      "Processing bootstrapped dataset 9\n",
      "Processing bootstrapped dataset 10\n",
      "\n",
      "Training Mean F1 Score across all models: 0.5575\n",
      "Training Mean ROC AUC across all models: 0.6673\n",
      "Training Mean Precision-Recall AUC across all models: 0.7709\n",
      "\n",
      "HDBSCAN Classification Model Evaluation:\n",
      "F1 Score: 0.4117\n",
      "ROC AUC Score: 0.6669\n",
      "Precision-Recall AUC: 0.4470\n",
      "Confusion Matrix:\n",
      "\t[42322  3864]\n",
      "\t[3691 2644]\n",
      "Classification Report:\n",
      "              precision    recall  f1-score   support\n",
      "\n",
      "           0       0.92      0.92      0.92     46186\n",
      "           1       0.41      0.42      0.41      6335\n",
      "\n",
      "    accuracy                           0.86     52521\n",
      "   macro avg       0.66      0.67      0.66     52521\n",
      "weighted avg       0.86      0.86      0.86     52521\n",
      "\n"
     ]
    }
   ],
   "source": [
    "centroid_sets = cluster_HDBSCAN(arrest_ba)\n",
    "cluster_preds, cluster_all_preds = classify_HDBSCAN(arrest_test, centroid_sets)"
   ]
  },
  {
   "cell_type": "markdown",
   "metadata": {},
   "source": [
    "---"
   ]
  },
  {
   "cell_type": "markdown",
   "metadata": {},
   "source": [
    "### **Multi-Layer Perceptron**"
   ]
  },
  {
   "cell_type": "code",
   "execution_count": null,
   "metadata": {},
   "outputs": [],
   "source": [
    "# The model is a simple Multi-Layer Perceptron with 3 hidden layers and ReLU activation functions.\n",
    "# The model uses dropout and weight decay to prevent overfitting.\n",
    "# Binary cross-entropy loss is used as the loss function and Adam as the optimizer with a learning rate of 0.001.\n",
    "\n",
    "class MLP(nn.Module):\n",
    "    def __init__(self, input_size):\n",
    "        super(MLP, self).__init__()\n",
    "        # defining the model architecture with 3 hidden layers and dropout\n",
    "        self.model = nn.Sequential(\n",
    "            nn.Linear(input_size, 128),\n",
    "            nn.ReLU(),\n",
    "            nn.Dropout(0.3),\n",
    "            nn.Linear(128, 64),\n",
    "            nn.ReLU(),\n",
    "            nn.Dropout(0.3),\n",
    "            nn.Linear(64, 32),\n",
    "            nn.ReLU(),\n",
    "            nn.Dropout(0.3),\n",
    "            nn.Linear(32, 1),\n",
    "            nn.Sigmoid()\n",
    "        )\n",
    "        \n",
    "    def forward(self, x):\n",
    "        return self.model(x)"
   ]
  },
  {
   "cell_type": "code",
   "execution_count": null,
   "metadata": {},
   "outputs": [],
   "source": [
    "def train_mlp_model(X_train, y_train, X_val, y_val):\n",
    "    # Initialize the model\n",
    "    input_size = X_train.shape[1]\n",
    "    # Move model to GPU if available\n",
    "    device = torch.device('cuda' if torch.cuda.is_available() else 'cpu')\n",
    "    model = MLP(input_size).to(device)\n",
    "    criterion = nn.BCELoss()  # Binary Cross-Entropy Loss\n",
    "    optimizer = optim.Adam(model.parameters(), lr=0.0001, weight_decay=1e-4)  # Add learning rate and weight decay\n",
    "\n",
    "    # Move data to GPU\n",
    "    X_train, y_train = X_train.to(device), y_train.to(device)\n",
    "    X_val, y_val = X_val.to(device), y_val.to(device)\n",
    "\n",
    "    # Prepare data loaders\n",
    "    train_dataset = torch.utils.data.TensorDataset(X_train, y_train)\n",
    "    train_loader = torch.utils.data.DataLoader(train_dataset, batch_size=64, shuffle=True)\n",
    "    val_dataset = torch.utils.data.TensorDataset(X_val, y_val)\n",
    "    val_loader = torch.utils.data.DataLoader(val_dataset, batch_size=64, shuffle=False)\n",
    "\n",
    "    # Track loss and early stopping criteria\n",
    "    num_epochs = 200\n",
    "    epoch_losses = []\n",
    "    val_losses = []\n",
    "    # Early stopping criteria\n",
    "    best_val_loss = float('inf')\n",
    "    patience = 5\n",
    "    min_es = 0.001\n",
    "    patience_counter = 0\n",
    "\n",
    "    # Train the model\n",
    "    for epoch in range(num_epochs):\n",
    "        model.train()\n",
    "        running_loss = 0.0\n",
    "        # use batch processing for imporved convergence speed\n",
    "        for X_batch, y_batch in train_loader:\n",
    "            X_batch, y_batch = X_batch.to(device), y_batch.to(device)\n",
    "            optimizer.zero_grad()\n",
    "            outputs = model(X_batch).squeeze()\n",
    "            loss = criterion(outputs, y_batch)\n",
    "            loss.backward()\n",
    "            optimizer.step()\n",
    "            running_loss += loss.item() * X_batch.size(0)\n",
    "        \n",
    "        avg_train_loss = running_loss / len(train_loader.dataset)\n",
    "        epoch_losses.append(avg_train_loss)\n",
    "\n",
    "        # Validation loss\n",
    "        model.eval()\n",
    "        val_loss = 0.0\n",
    "        with torch.no_grad():\n",
    "            for X_batch, y_batch in val_loader:\n",
    "                X_batch, y_batch = X_batch.to(device), y_batch.to(device)\n",
    "                outputs = model(X_batch).squeeze()\n",
    "                loss = criterion(outputs, y_batch)\n",
    "                val_loss += loss.item() * X_batch.size(0)\n",
    "        avg_val_loss = val_loss / len(val_loader.dataset)\n",
    "        val_losses.append(avg_val_loss)\n",
    "\n",
    "        # Early stopping check\n",
    "        if avg_val_loss < best_val_loss - min_es:\n",
    "            best_val_loss = avg_val_loss\n",
    "            patience_counter = 0\n",
    "        else:\n",
    "            patience_counter += 1\n",
    "\n",
    "        if patience_counter >= patience:\n",
    "            print(f\"Early stopping triggered after {epoch+1} epochs\")\n",
    "            break\n",
    "\n",
    "        # printing the loss for each epoch\n",
    "        #print(f\"Epoch {epoch+1}: Train Loss = {avg_train_loss:.4f}, Val Loss = {avg_val_loss:.4f}\")\n",
    "    \n",
    "    return model, epoch_losses, val_losses"
   ]
  },
  {
   "cell_type": "code",
   "execution_count": null,
   "metadata": {},
   "outputs": [],
   "source": [
    "# graphing the loss for each epoch for all 10 models\n",
    "def plot_loss_curves(all_epoch_losses, all_val_losses):\n",
    "    plt.figure(figsize=(12, 8))\n",
    "    for i, (epoch_losses, val_losses) in enumerate(zip(all_epoch_losses, all_val_losses)):\n",
    "        plt.plot(range(1, len(epoch_losses) + 1), epoch_losses, label=f\"Train Loss Model {i+1}\")\n",
    "        plt.plot(range(1, len(val_losses) + 1), val_losses, linestyle=\"--\", label=f\"Val Loss Model {i+1}\")\n",
    "    plt.xlabel(\"Epoch\")\n",
    "    plt.ylabel(\"Loss\")\n",
    "    plt.title(\"Training and Validation Loss Over Epochs for Each Model\")\n",
    "    plt.legend()\n",
    "    plt.show()"
   ]
  },
  {
   "cell_type": "code",
   "execution_count": null,
   "metadata": {},
   "outputs": [],
   "source": [
    "def mlp_classifier(downsampled_datasets):\n",
    "    # Move model to GPU if available\n",
    "    device = torch.device('cuda' if torch.cuda.is_available() else 'cpu')\n",
    "    \n",
    "    models = []\n",
    "    f1_scores = []\n",
    "    roc_auc_scores = []\n",
    "    pr_auc_scores = []\n",
    "    all_epoch_losses = []\n",
    "    all_val_losses = []\n",
    "\n",
    "    for i, dataset in enumerate(downsampled_datasets):\n",
    "        X_train = dataset[dataset.columns.drop('arrest')]\n",
    "        y_train = dataset['arrest']\n",
    "        print(f\"Processing bootstrapped dataset {i+1}\")\n",
    "\n",
    "        # Split into training and validation sets (e.g., 80/20 split)\n",
    "        from sklearn.model_selection import train_test_split\n",
    "        X_train_split, X_val, y_train_split, y_val = train_test_split(X_train, y_train, test_size=0.2, random_state=i)\n",
    "\n",
    "        # Scale and convert data to tensors\n",
    "        X_train_scaled = scaler.transform(X_train_split)\n",
    "        X_val_scaled = scaler.transform(X_val)\n",
    "        X_train_tensor = torch.tensor(X_train_scaled, dtype=torch.float32).to(device)\n",
    "        y_train_tensor = torch.tensor(y_train_split.values, dtype=torch.float32).to(device)\n",
    "        X_val_tensor = torch.tensor(X_val_scaled, dtype=torch.float32).to(device)\n",
    "        y_val_tensor = torch.tensor(y_val.values, dtype=torch.float32).to(device)\n",
    "\n",
    "        # Train model with validation\n",
    "        model, epoch_losses, val_losses = train_mlp_model(X_train_tensor, y_train_tensor, X_val_tensor, y_val_tensor)\n",
    "        # append the model and losses to the list\n",
    "        models.append(model)\n",
    "        all_epoch_losses.append(epoch_losses)\n",
    "        all_val_losses.append(val_losses)\n",
    "\n",
    "        # Predict for training data\n",
    "        with torch.no_grad():\n",
    "            model.eval()\n",
    "            y_pred = model(X_train_tensor).squeeze().cpu().numpy()\n",
    "            y_pred = (y_pred >= 0.5).astype(int)\n",
    "\n",
    "        # Calculate metrics\n",
    "        f1, roc_auc, pr_auc, confusion_matrix_, classification_report_ = eval_metrics(y_pred, y_train_split)\n",
    "\n",
    "        f1_scores.append(f1)\n",
    "        roc_auc_scores.append(roc_auc)\n",
    "        pr_auc_scores.append(pr_auc)\n",
    "    \n",
    "    # Plot loss curves\n",
    "    plot_loss_curves(all_epoch_losses, all_val_losses)\n",
    "\n",
    "    mean_f1 = np.mean(f1_scores)\n",
    "    mean_roc_auc = np.mean(roc_auc_scores)\n",
    "    mean_pr_auc = np.mean(pr_auc_scores)\n",
    "\n",
    "    print(f\"\\nTraining Mean F1 Score across all models: {mean_f1:.4f}\")\n",
    "    print(f\"Training Mean ROC AUC across all models: {mean_roc_auc:.4f}\")\n",
    "    print(f\"Training Mean Precision-Recall AUC across all models: {mean_pr_auc:.4f}\")\n",
    "\n",
    "    return models"
   ]
  },
  {
   "cell_type": "code",
   "execution_count": null,
   "metadata": {},
   "outputs": [],
   "source": [
    "def mlp_predict(train_data, test_data):\n",
    "    # Move model to GPU if available\n",
    "    device = torch.device('cuda' if torch.cuda.is_available() else 'cpu')\n",
    "    models = mlp_classifier(train_data)\n",
    "    \n",
    "    # Scale and convert test data to tensors\n",
    "    X_test = test_data[test_data.columns.drop('arrest')]\n",
    "    y_test = test_data['arrest']\n",
    "    X_test_scaled = scaler.transform(X_test)\n",
    "    X_test_tensor = torch.tensor(X_test_scaled, dtype=torch.float32).to(device)\n",
    "\n",
    "    all_probs = []\n",
    "    # Predict for test data on each model\n",
    "    for model in models:\n",
    "        model.eval()\n",
    "        with torch.no_grad():\n",
    "            probs = model(X_test_tensor).squeeze().cpu().numpy()\n",
    "            all_probs.append(probs)\n",
    "    \n",
    "    # Average probabilities across models\n",
    "    average_probs = np.mean(all_probs, axis=0)\n",
    "    # Assign class labels based on the average probabilities where >= 0.5 is 1 and < 0.5 is 0\n",
    "    y_pred = (average_probs >= 0.5).astype(int)\n",
    "\n",
    "    # Evaluation metrics\n",
    "    f1, roc_auc, pr_auc, confusion_matrix_, classification_report_ = eval_metrics(y_pred, y_test)\n",
    "    \n",
    "    print(\"\\nMLP Classification Model Evaluation:\")\n",
    "    print(f\"F1 Score: {f1:.4f}\")\n",
    "    print(f\"ROC AUC Score: {roc_auc:.4f}\")\n",
    "    print(f\"Precision-Recall AUC: {pr_auc:.4f}\")\n",
    "    print(\"Confusion Matrix:\")\n",
    "    print(f\"\\t{confusion_matrix_[0]}\")\n",
    "    print(f\"\\t{confusion_matrix_[1]}\")\n",
    "    print(\"Classification Report:\")\n",
    "    print(f\"{classification_report_}\")\n",
    "    \n",
    "    return models, y_pred\n"
   ]
  },
  {
   "cell_type": "code",
   "execution_count": null,
   "metadata": {},
   "outputs": [
    {
     "name": "stdout",
     "output_type": "stream",
     "text": [
      "Processing bootstrapped dataset 1\n",
      "Early stopping triggered after 20 epochs\n",
      "Processing bootstrapped dataset 2\n",
      "Early stopping triggered after 23 epochs\n",
      "Processing bootstrapped dataset 3\n"
     ]
    },
    {
     "ename": "KeyboardInterrupt",
     "evalue": "",
     "output_type": "error",
     "traceback": [
      "\u001b[1;31m---------------------------------------------------------------------------\u001b[0m",
      "\u001b[1;31mKeyboardInterrupt\u001b[0m                         Traceback (most recent call last)",
      "Cell \u001b[1;32mIn[39], line 1\u001b[0m\n\u001b[1;32m----> 1\u001b[0m mlp_models, mlp_predictions \u001b[38;5;241m=\u001b[39m \u001b[43mmlp_predict\u001b[49m\u001b[43m(\u001b[49m\u001b[43marrest_ba\u001b[49m\u001b[43m,\u001b[49m\u001b[43m \u001b[49m\u001b[43marrest_test\u001b[49m\u001b[43m)\u001b[49m\n",
      "Cell \u001b[1;32mIn[38], line 4\u001b[0m, in \u001b[0;36mmlp_predict\u001b[1;34m(train_data, test_data)\u001b[0m\n\u001b[0;32m      1\u001b[0m \u001b[38;5;28;01mdef\u001b[39;00m \u001b[38;5;21mmlp_predict\u001b[39m(train_data, test_data):\n\u001b[0;32m      2\u001b[0m     \u001b[38;5;66;03m# Move model to GPU if available\u001b[39;00m\n\u001b[0;32m      3\u001b[0m     device \u001b[38;5;241m=\u001b[39m torch\u001b[38;5;241m.\u001b[39mdevice(\u001b[38;5;124m'\u001b[39m\u001b[38;5;124mcuda\u001b[39m\u001b[38;5;124m'\u001b[39m \u001b[38;5;28;01mif\u001b[39;00m torch\u001b[38;5;241m.\u001b[39mcuda\u001b[38;5;241m.\u001b[39mis_available() \u001b[38;5;28;01melse\u001b[39;00m \u001b[38;5;124m'\u001b[39m\u001b[38;5;124mcpu\u001b[39m\u001b[38;5;124m'\u001b[39m)\n\u001b[1;32m----> 4\u001b[0m     models \u001b[38;5;241m=\u001b[39m \u001b[43mmlp_classifier\u001b[49m\u001b[43m(\u001b[49m\u001b[43mtrain_data\u001b[49m\u001b[43m)\u001b[49m\n\u001b[0;32m      6\u001b[0m     \u001b[38;5;66;03m# Scale and convert test data to tensors\u001b[39;00m\n\u001b[0;32m      7\u001b[0m     X_test \u001b[38;5;241m=\u001b[39m test_data[test_data\u001b[38;5;241m.\u001b[39mcolumns\u001b[38;5;241m.\u001b[39mdrop(\u001b[38;5;124m'\u001b[39m\u001b[38;5;124marrest\u001b[39m\u001b[38;5;124m'\u001b[39m)]\n",
      "Cell \u001b[1;32mIn[37], line 30\u001b[0m, in \u001b[0;36mmlp_classifier\u001b[1;34m(downsampled_datasets)\u001b[0m\n\u001b[0;32m     27\u001b[0m y_val_tensor \u001b[38;5;241m=\u001b[39m torch\u001b[38;5;241m.\u001b[39mtensor(y_val\u001b[38;5;241m.\u001b[39mvalues, dtype\u001b[38;5;241m=\u001b[39mtorch\u001b[38;5;241m.\u001b[39mfloat32)\u001b[38;5;241m.\u001b[39mto(device)\n\u001b[0;32m     29\u001b[0m \u001b[38;5;66;03m# Train model with validation\u001b[39;00m\n\u001b[1;32m---> 30\u001b[0m model, epoch_losses, val_losses \u001b[38;5;241m=\u001b[39m \u001b[43mtrain_mlp_model\u001b[49m\u001b[43m(\u001b[49m\u001b[43mX_train_tensor\u001b[49m\u001b[43m,\u001b[49m\u001b[43m \u001b[49m\u001b[43my_train_tensor\u001b[49m\u001b[43m,\u001b[49m\u001b[43m \u001b[49m\u001b[43mX_val_tensor\u001b[49m\u001b[43m,\u001b[49m\u001b[43m \u001b[49m\u001b[43my_val_tensor\u001b[49m\u001b[43m)\u001b[49m\n\u001b[0;32m     31\u001b[0m \u001b[38;5;66;03m# append the model and losses to the list\u001b[39;00m\n\u001b[0;32m     32\u001b[0m models\u001b[38;5;241m.\u001b[39mappend(model)\n",
      "Cell \u001b[1;32mIn[35], line 35\u001b[0m, in \u001b[0;36mtrain_mlp_model\u001b[1;34m(X_train, y_train, X_val, y_val)\u001b[0m\n\u001b[0;32m     33\u001b[0m running_loss \u001b[38;5;241m=\u001b[39m \u001b[38;5;241m0.0\u001b[39m\n\u001b[0;32m     34\u001b[0m \u001b[38;5;66;03m# use batch processing for imporved convergence speed\u001b[39;00m\n\u001b[1;32m---> 35\u001b[0m \u001b[43m\u001b[49m\u001b[38;5;28;43;01mfor\u001b[39;49;00m\u001b[43m \u001b[49m\u001b[43mX_batch\u001b[49m\u001b[43m,\u001b[49m\u001b[43m \u001b[49m\u001b[43my_batch\u001b[49m\u001b[43m \u001b[49m\u001b[38;5;129;43;01min\u001b[39;49;00m\u001b[43m \u001b[49m\u001b[43mtrain_loader\u001b[49m\u001b[43m:\u001b[49m\n\u001b[0;32m     36\u001b[0m \u001b[43m    \u001b[49m\u001b[43mX_batch\u001b[49m\u001b[43m,\u001b[49m\u001b[43m \u001b[49m\u001b[43my_batch\u001b[49m\u001b[43m \u001b[49m\u001b[38;5;241;43m=\u001b[39;49m\u001b[43m \u001b[49m\u001b[43mX_batch\u001b[49m\u001b[38;5;241;43m.\u001b[39;49m\u001b[43mto\u001b[49m\u001b[43m(\u001b[49m\u001b[43mdevice\u001b[49m\u001b[43m)\u001b[49m\u001b[43m,\u001b[49m\u001b[43m \u001b[49m\u001b[43my_batch\u001b[49m\u001b[38;5;241;43m.\u001b[39;49m\u001b[43mto\u001b[49m\u001b[43m(\u001b[49m\u001b[43mdevice\u001b[49m\u001b[43m)\u001b[49m\n\u001b[0;32m     37\u001b[0m \u001b[43m    \u001b[49m\u001b[43moptimizer\u001b[49m\u001b[38;5;241;43m.\u001b[39;49m\u001b[43mzero_grad\u001b[49m\u001b[43m(\u001b[49m\u001b[43m)\u001b[49m\n",
      "File \u001b[1;32m~\\AppData\\Local\\Packages\\PythonSoftwareFoundation.Python.3.11_qbz5n2kfra8p0\\LocalCache\\local-packages\\Python311\\site-packages\\torch\\utils\\data\\dataloader.py:701\u001b[0m, in \u001b[0;36m_BaseDataLoaderIter.__next__\u001b[1;34m(self)\u001b[0m\n\u001b[0;32m    698\u001b[0m \u001b[38;5;28;01mif\u001b[39;00m \u001b[38;5;28mself\u001b[39m\u001b[38;5;241m.\u001b[39m_sampler_iter \u001b[38;5;129;01mis\u001b[39;00m \u001b[38;5;28;01mNone\u001b[39;00m:\n\u001b[0;32m    699\u001b[0m     \u001b[38;5;66;03m# TODO(https://github.com/pytorch/pytorch/issues/76750)\u001b[39;00m\n\u001b[0;32m    700\u001b[0m     \u001b[38;5;28mself\u001b[39m\u001b[38;5;241m.\u001b[39m_reset()  \u001b[38;5;66;03m# type: ignore[call-arg]\u001b[39;00m\n\u001b[1;32m--> 701\u001b[0m data \u001b[38;5;241m=\u001b[39m \u001b[38;5;28;43mself\u001b[39;49m\u001b[38;5;241;43m.\u001b[39;49m\u001b[43m_next_data\u001b[49m\u001b[43m(\u001b[49m\u001b[43m)\u001b[49m\n\u001b[0;32m    702\u001b[0m \u001b[38;5;28mself\u001b[39m\u001b[38;5;241m.\u001b[39m_num_yielded \u001b[38;5;241m+\u001b[39m\u001b[38;5;241m=\u001b[39m \u001b[38;5;241m1\u001b[39m\n\u001b[0;32m    703\u001b[0m \u001b[38;5;28;01mif\u001b[39;00m (\n\u001b[0;32m    704\u001b[0m     \u001b[38;5;28mself\u001b[39m\u001b[38;5;241m.\u001b[39m_dataset_kind \u001b[38;5;241m==\u001b[39m _DatasetKind\u001b[38;5;241m.\u001b[39mIterable\n\u001b[0;32m    705\u001b[0m     \u001b[38;5;129;01mand\u001b[39;00m \u001b[38;5;28mself\u001b[39m\u001b[38;5;241m.\u001b[39m_IterableDataset_len_called \u001b[38;5;129;01mis\u001b[39;00m \u001b[38;5;129;01mnot\u001b[39;00m \u001b[38;5;28;01mNone\u001b[39;00m\n\u001b[0;32m    706\u001b[0m     \u001b[38;5;129;01mand\u001b[39;00m \u001b[38;5;28mself\u001b[39m\u001b[38;5;241m.\u001b[39m_num_yielded \u001b[38;5;241m>\u001b[39m \u001b[38;5;28mself\u001b[39m\u001b[38;5;241m.\u001b[39m_IterableDataset_len_called\n\u001b[0;32m    707\u001b[0m ):\n",
      "File \u001b[1;32m~\\AppData\\Local\\Packages\\PythonSoftwareFoundation.Python.3.11_qbz5n2kfra8p0\\LocalCache\\local-packages\\Python311\\site-packages\\torch\\utils\\data\\dataloader.py:757\u001b[0m, in \u001b[0;36m_SingleProcessDataLoaderIter._next_data\u001b[1;34m(self)\u001b[0m\n\u001b[0;32m    755\u001b[0m \u001b[38;5;28;01mdef\u001b[39;00m \u001b[38;5;21m_next_data\u001b[39m(\u001b[38;5;28mself\u001b[39m):\n\u001b[0;32m    756\u001b[0m     index \u001b[38;5;241m=\u001b[39m \u001b[38;5;28mself\u001b[39m\u001b[38;5;241m.\u001b[39m_next_index()  \u001b[38;5;66;03m# may raise StopIteration\u001b[39;00m\n\u001b[1;32m--> 757\u001b[0m     data \u001b[38;5;241m=\u001b[39m \u001b[38;5;28;43mself\u001b[39;49m\u001b[38;5;241;43m.\u001b[39;49m\u001b[43m_dataset_fetcher\u001b[49m\u001b[38;5;241;43m.\u001b[39;49m\u001b[43mfetch\u001b[49m\u001b[43m(\u001b[49m\u001b[43mindex\u001b[49m\u001b[43m)\u001b[49m  \u001b[38;5;66;03m# may raise StopIteration\u001b[39;00m\n\u001b[0;32m    758\u001b[0m     \u001b[38;5;28;01mif\u001b[39;00m \u001b[38;5;28mself\u001b[39m\u001b[38;5;241m.\u001b[39m_pin_memory:\n\u001b[0;32m    759\u001b[0m         data \u001b[38;5;241m=\u001b[39m _utils\u001b[38;5;241m.\u001b[39mpin_memory\u001b[38;5;241m.\u001b[39mpin_memory(data, \u001b[38;5;28mself\u001b[39m\u001b[38;5;241m.\u001b[39m_pin_memory_device)\n",
      "File \u001b[1;32m~\\AppData\\Local\\Packages\\PythonSoftwareFoundation.Python.3.11_qbz5n2kfra8p0\\LocalCache\\local-packages\\Python311\\site-packages\\torch\\utils\\data\\_utils\\fetch.py:55\u001b[0m, in \u001b[0;36m_MapDatasetFetcher.fetch\u001b[1;34m(self, possibly_batched_index)\u001b[0m\n\u001b[0;32m     53\u001b[0m \u001b[38;5;28;01melse\u001b[39;00m:\n\u001b[0;32m     54\u001b[0m     data \u001b[38;5;241m=\u001b[39m \u001b[38;5;28mself\u001b[39m\u001b[38;5;241m.\u001b[39mdataset[possibly_batched_index]\n\u001b[1;32m---> 55\u001b[0m \u001b[38;5;28;01mreturn\u001b[39;00m \u001b[38;5;28;43mself\u001b[39;49m\u001b[38;5;241;43m.\u001b[39;49m\u001b[43mcollate_fn\u001b[49m\u001b[43m(\u001b[49m\u001b[43mdata\u001b[49m\u001b[43m)\u001b[49m\n",
      "File \u001b[1;32m~\\AppData\\Local\\Packages\\PythonSoftwareFoundation.Python.3.11_qbz5n2kfra8p0\\LocalCache\\local-packages\\Python311\\site-packages\\torch\\utils\\data\\_utils\\collate.py:398\u001b[0m, in \u001b[0;36mdefault_collate\u001b[1;34m(batch)\u001b[0m\n\u001b[0;32m    337\u001b[0m \u001b[38;5;28;01mdef\u001b[39;00m \u001b[38;5;21mdefault_collate\u001b[39m(batch):\n\u001b[0;32m    338\u001b[0m \u001b[38;5;250m    \u001b[39m\u001b[38;5;124mr\u001b[39m\u001b[38;5;124;03m\"\"\"\u001b[39;00m\n\u001b[0;32m    339\u001b[0m \u001b[38;5;124;03m    Take in a batch of data and put the elements within the batch into a tensor with an additional outer dimension - batch size.\u001b[39;00m\n\u001b[0;32m    340\u001b[0m \n\u001b[1;32m   (...)\u001b[0m\n\u001b[0;32m    396\u001b[0m \u001b[38;5;124;03m        >>> default_collate(batch)  # Handle `CustomType` automatically\u001b[39;00m\n\u001b[0;32m    397\u001b[0m \u001b[38;5;124;03m    \"\"\"\u001b[39;00m\n\u001b[1;32m--> 398\u001b[0m     \u001b[38;5;28;01mreturn\u001b[39;00m \u001b[43mcollate\u001b[49m\u001b[43m(\u001b[49m\u001b[43mbatch\u001b[49m\u001b[43m,\u001b[49m\u001b[43m \u001b[49m\u001b[43mcollate_fn_map\u001b[49m\u001b[38;5;241;43m=\u001b[39;49m\u001b[43mdefault_collate_fn_map\u001b[49m\u001b[43m)\u001b[49m\n",
      "File \u001b[1;32m~\\AppData\\Local\\Packages\\PythonSoftwareFoundation.Python.3.11_qbz5n2kfra8p0\\LocalCache\\local-packages\\Python311\\site-packages\\torch\\utils\\data\\_utils\\collate.py:211\u001b[0m, in \u001b[0;36mcollate\u001b[1;34m(batch, collate_fn_map)\u001b[0m\n\u001b[0;32m    208\u001b[0m transposed \u001b[38;5;241m=\u001b[39m \u001b[38;5;28mlist\u001b[39m(\u001b[38;5;28mzip\u001b[39m(\u001b[38;5;241m*\u001b[39mbatch))  \u001b[38;5;66;03m# It may be accessed twice, so we use a list.\u001b[39;00m\n\u001b[0;32m    210\u001b[0m \u001b[38;5;28;01mif\u001b[39;00m \u001b[38;5;28misinstance\u001b[39m(elem, \u001b[38;5;28mtuple\u001b[39m):\n\u001b[1;32m--> 211\u001b[0m     \u001b[38;5;28;01mreturn\u001b[39;00m \u001b[43m[\u001b[49m\n\u001b[0;32m    212\u001b[0m \u001b[43m        \u001b[49m\u001b[43mcollate\u001b[49m\u001b[43m(\u001b[49m\u001b[43msamples\u001b[49m\u001b[43m,\u001b[49m\u001b[43m \u001b[49m\u001b[43mcollate_fn_map\u001b[49m\u001b[38;5;241;43m=\u001b[39;49m\u001b[43mcollate_fn_map\u001b[49m\u001b[43m)\u001b[49m\n\u001b[0;32m    213\u001b[0m \u001b[43m        \u001b[49m\u001b[38;5;28;43;01mfor\u001b[39;49;00m\u001b[43m \u001b[49m\u001b[43msamples\u001b[49m\u001b[43m \u001b[49m\u001b[38;5;129;43;01min\u001b[39;49;00m\u001b[43m \u001b[49m\u001b[43mtransposed\u001b[49m\n\u001b[0;32m    214\u001b[0m \u001b[43m    \u001b[49m\u001b[43m]\u001b[49m  \u001b[38;5;66;03m# Backwards compatibility.\u001b[39;00m\n\u001b[0;32m    215\u001b[0m \u001b[38;5;28;01melse\u001b[39;00m:\n\u001b[0;32m    216\u001b[0m     \u001b[38;5;28;01mtry\u001b[39;00m:\n",
      "File \u001b[1;32m~\\AppData\\Local\\Packages\\PythonSoftwareFoundation.Python.3.11_qbz5n2kfra8p0\\LocalCache\\local-packages\\Python311\\site-packages\\torch\\utils\\data\\_utils\\collate.py:212\u001b[0m, in \u001b[0;36m<listcomp>\u001b[1;34m(.0)\u001b[0m\n\u001b[0;32m    208\u001b[0m transposed \u001b[38;5;241m=\u001b[39m \u001b[38;5;28mlist\u001b[39m(\u001b[38;5;28mzip\u001b[39m(\u001b[38;5;241m*\u001b[39mbatch))  \u001b[38;5;66;03m# It may be accessed twice, so we use a list.\u001b[39;00m\n\u001b[0;32m    210\u001b[0m \u001b[38;5;28;01mif\u001b[39;00m \u001b[38;5;28misinstance\u001b[39m(elem, \u001b[38;5;28mtuple\u001b[39m):\n\u001b[0;32m    211\u001b[0m     \u001b[38;5;28;01mreturn\u001b[39;00m [\n\u001b[1;32m--> 212\u001b[0m         \u001b[43mcollate\u001b[49m\u001b[43m(\u001b[49m\u001b[43msamples\u001b[49m\u001b[43m,\u001b[49m\u001b[43m \u001b[49m\u001b[43mcollate_fn_map\u001b[49m\u001b[38;5;241;43m=\u001b[39;49m\u001b[43mcollate_fn_map\u001b[49m\u001b[43m)\u001b[49m\n\u001b[0;32m    213\u001b[0m         \u001b[38;5;28;01mfor\u001b[39;00m samples \u001b[38;5;129;01min\u001b[39;00m transposed\n\u001b[0;32m    214\u001b[0m     ]  \u001b[38;5;66;03m# Backwards compatibility.\u001b[39;00m\n\u001b[0;32m    215\u001b[0m \u001b[38;5;28;01melse\u001b[39;00m:\n\u001b[0;32m    216\u001b[0m     \u001b[38;5;28;01mtry\u001b[39;00m:\n",
      "File \u001b[1;32m~\\AppData\\Local\\Packages\\PythonSoftwareFoundation.Python.3.11_qbz5n2kfra8p0\\LocalCache\\local-packages\\Python311\\site-packages\\torch\\utils\\data\\_utils\\collate.py:155\u001b[0m, in \u001b[0;36mcollate\u001b[1;34m(batch, collate_fn_map)\u001b[0m\n\u001b[0;32m    153\u001b[0m \u001b[38;5;28;01mif\u001b[39;00m collate_fn_map \u001b[38;5;129;01mis\u001b[39;00m \u001b[38;5;129;01mnot\u001b[39;00m \u001b[38;5;28;01mNone\u001b[39;00m:\n\u001b[0;32m    154\u001b[0m     \u001b[38;5;28;01mif\u001b[39;00m elem_type \u001b[38;5;129;01min\u001b[39;00m collate_fn_map:\n\u001b[1;32m--> 155\u001b[0m         \u001b[38;5;28;01mreturn\u001b[39;00m \u001b[43mcollate_fn_map\u001b[49m\u001b[43m[\u001b[49m\u001b[43melem_type\u001b[49m\u001b[43m]\u001b[49m\u001b[43m(\u001b[49m\u001b[43mbatch\u001b[49m\u001b[43m,\u001b[49m\u001b[43m \u001b[49m\u001b[43mcollate_fn_map\u001b[49m\u001b[38;5;241;43m=\u001b[39;49m\u001b[43mcollate_fn_map\u001b[49m\u001b[43m)\u001b[49m\n\u001b[0;32m    157\u001b[0m     \u001b[38;5;28;01mfor\u001b[39;00m collate_type \u001b[38;5;129;01min\u001b[39;00m collate_fn_map:\n\u001b[0;32m    158\u001b[0m         \u001b[38;5;28;01mif\u001b[39;00m \u001b[38;5;28misinstance\u001b[39m(elem, collate_type):\n",
      "File \u001b[1;32m~\\AppData\\Local\\Packages\\PythonSoftwareFoundation.Python.3.11_qbz5n2kfra8p0\\LocalCache\\local-packages\\Python311\\site-packages\\torch\\utils\\data\\_utils\\collate.py:272\u001b[0m, in \u001b[0;36mcollate_tensor_fn\u001b[1;34m(batch, collate_fn_map)\u001b[0m\n\u001b[0;32m    270\u001b[0m     storage \u001b[38;5;241m=\u001b[39m elem\u001b[38;5;241m.\u001b[39m_typed_storage()\u001b[38;5;241m.\u001b[39m_new_shared(numel, device\u001b[38;5;241m=\u001b[39melem\u001b[38;5;241m.\u001b[39mdevice)\n\u001b[0;32m    271\u001b[0m     out \u001b[38;5;241m=\u001b[39m elem\u001b[38;5;241m.\u001b[39mnew(storage)\u001b[38;5;241m.\u001b[39mresize_(\u001b[38;5;28mlen\u001b[39m(batch), \u001b[38;5;241m*\u001b[39m\u001b[38;5;28mlist\u001b[39m(elem\u001b[38;5;241m.\u001b[39msize()))\n\u001b[1;32m--> 272\u001b[0m \u001b[38;5;28;01mreturn\u001b[39;00m \u001b[43mtorch\u001b[49m\u001b[38;5;241;43m.\u001b[39;49m\u001b[43mstack\u001b[49m\u001b[43m(\u001b[49m\u001b[43mbatch\u001b[49m\u001b[43m,\u001b[49m\u001b[43m \u001b[49m\u001b[38;5;241;43m0\u001b[39;49m\u001b[43m,\u001b[49m\u001b[43m \u001b[49m\u001b[43mout\u001b[49m\u001b[38;5;241;43m=\u001b[39;49m\u001b[43mout\u001b[49m\u001b[43m)\u001b[49m\n",
      "\u001b[1;31mKeyboardInterrupt\u001b[0m: "
     ]
    }
   ],
   "source": [
    "mlp_models, mlp_predictions = mlp_predict(arrest_ba, arrest_test)"
   ]
  },
  {
   "cell_type": "markdown",
   "metadata": {},
   "source": [
    "---"
   ]
  },
  {
   "cell_type": "markdown",
   "metadata": {},
   "source": [
    "## **Final Results**"
   ]
  },
  {
   "cell_type": "markdown",
   "metadata": {},
   "source": [
    "### **Majority Voting**"
   ]
  },
  {
   "cell_type": "code",
   "execution_count": null,
   "metadata": {},
   "outputs": [],
   "source": [
    "# Stacking the predictions from each model to create a stacked model\n",
    "model_predictions = [nb_preds, lr_preds, rf_preds, cluster_preds, mlp_predictions]\n",
    "model_predictions = np.array(model_predictions)\n",
    "stacked_predictions = np.column_stack(model_predictions)"
   ]
  },
  {
   "cell_type": "code",
   "execution_count": null,
   "metadata": {},
   "outputs": [],
   "source": [
    "def stacked_majority_voting(stacked_predictions):\n",
    "    # majority voting for the stacked predictions\n",
    "    return stats.mode(stacked_predictions, axis=0)"
   ]
  },
  {
   "cell_type": "code",
   "execution_count": null,
   "metadata": {},
   "outputs": [
    {
     "name": "stdout",
     "output_type": "stream",
     "text": [
      "Stacked Model Evaluation:\n",
      "F1 Score: 0.4423\n",
      "ROC AUC: 0.6384\n",
      "Precision-Recall AUC: 0.5849\n",
      "Confusion Matrix:\n",
      "\t[37464  2060]\n",
      "\t[8722 4275]\n",
      "Classification Report:\n",
      "              precision    recall  f1-score   support\n",
      "\n",
      "           0       0.81      0.95      0.87     39524\n",
      "           1       0.67      0.33      0.44     12997\n",
      "\n",
      "    accuracy                           0.79     52521\n",
      "   macro avg       0.74      0.64      0.66     52521\n",
      "weighted avg       0.78      0.79      0.77     52521\n",
      "\n"
     ]
    }
   ],
   "source": [
    "stacked_preds = stacked_majority_voting(model_predictions)[0].flatten()\n",
    "\n",
    "# Evaluation metrics for the stacked model\n",
    "f1, roc_auc, pr_auc, confusion_matrix_, classification_report_ = eval_metrics(arrest_test['arrest'], stacked_preds)\n",
    "print(\"Stacked Model Evaluation:\")\n",
    "print(f\"F1 Score: {f1:.4f}\")\n",
    "print(f\"ROC AUC: {roc_auc:.4f}\")\n",
    "print(f\"Precision-Recall AUC: {pr_auc:.4f}\")\n",
    "print(\"Confusion Matrix:\")\n",
    "print(f\"\\t{confusion_matrix_[0]}\")\n",
    "print(f\"\\t{confusion_matrix_[1]}\")\n",
    "print(\"Classification Report:\")\n",
    "print(f\"{classification_report_}\")"
   ]
  },
  {
   "cell_type": "markdown",
   "metadata": {},
   "source": [
    "### **Ensemble MLP**"
   ]
  },
  {
   "cell_type": "code",
   "execution_count": null,
   "metadata": {},
   "outputs": [],
   "source": [
    "# Split stacked_predictions and y_test into train and validation sets\n",
    "y_test = arrest_test['arrest'].values\n",
    "X_train, X_val, y_train, y_val = train_test_split(stacked_predictions, y_test, test_size=0.2, random_state=42)\n",
    "\n",
    "# Convert to PyTorch tensors\n",
    "X_train_tensor = torch.tensor(X_train, dtype=torch.float32)\n",
    "y_train_tensor = torch.tensor(y_train, dtype=torch.float32)\n",
    "X_val_tensor = torch.tensor(X_val, dtype=torch.float32)\n",
    "y_val_tensor = torch.tensor(y_val, dtype=torch.float32)\n"
   ]
  },
  {
   "cell_type": "code",
   "execution_count": null,
   "metadata": {},
   "outputs": [],
   "source": [
    "# very simple MLP to get a non-linear decision boundary\n",
    "\n",
    "class EnsembleMLP(nn.Module):\n",
    "    def __init__(self):\n",
    "        super(EnsembleMLP, self).__init__()\n",
    "        self.model = nn.Sequential(\n",
    "            nn.Linear(5, 16),  # 5 input features for each models prediction\n",
    "            nn.ReLU(),\n",
    "            nn.Linear(16, 8),\n",
    "            nn.ReLU(),\n",
    "            nn.Linear(8, 1),\n",
    "            nn.Sigmoid()\n",
    "        )\n",
    "        \n",
    "    def forward(self, x):\n",
    "        return self.model(x)"
   ]
  },
  {
   "cell_type": "code",
   "execution_count": null,
   "metadata": {},
   "outputs": [],
   "source": [
    "def train_ensemble_mlp(X_train, y_train, X_val, y_val):\n",
    "    # Initialize model, criterion, and optimizer\n",
    "    device = torch.device(\"cuda\" if torch.cuda.is_available() else \"cpu\")\n",
    "    model = EnsembleMLP().to(device)\n",
    "    criterion = nn.BCELoss()  # Binary Cross-Entropy Loss\n",
    "    optimizer = optim.Adam(model.parameters(), lr=0.001, weight_decay=1e-4)\n",
    "\n",
    "    # Move data to GPU if available\n",
    "    X_train, y_train = X_train.to(device), y_train.to(device)\n",
    "    X_val, y_val = X_val.to(device), y_val.to(device)\n",
    "\n",
    "    # Training settings\n",
    "    num_epochs = 100\n",
    "    batch_size = 32\n",
    "    # Early stopping criteria\n",
    "    patience = 5\n",
    "    min_es = 0.001\n",
    "    best_val_loss = float('inf')\n",
    "    patience_counter = 0\n",
    "\n",
    "    # Prepare data loaders\n",
    "    train_dataset = torch.utils.data.TensorDataset(X_train, y_train)\n",
    "    train_loader = torch.utils.data.DataLoader(train_dataset, batch_size=batch_size, shuffle=True)\n",
    "\n",
    "    # Track losses\n",
    "    train_losses = []\n",
    "    val_losses = []\n",
    "\n",
    "    # Training loop\n",
    "    for epoch in range(num_epochs):\n",
    "        model.train()\n",
    "        running_loss = 0.0\n",
    "        # use batch processing for imporved convergence speed\n",
    "        for X_batch, y_batch in train_loader:\n",
    "            X_batch, y_batch = X_batch.to(device), y_batch.to(device)\n",
    "            optimizer.zero_grad()\n",
    "            outputs = model(X_batch).squeeze()\n",
    "            loss = criterion(outputs, y_batch)\n",
    "            loss.backward()\n",
    "            optimizer.step()\n",
    "            running_loss += loss.item() * X_batch.size(0)\n",
    "\n",
    "        avg_train_loss = running_loss / len(train_loader.dataset)\n",
    "        train_losses.append(avg_train_loss)\n",
    "\n",
    "        # Validation loss\n",
    "        model.eval()\n",
    "        with torch.no_grad():\n",
    "            val_outputs = model(X_val).squeeze()\n",
    "            val_loss = criterion(val_outputs, y_val).item()\n",
    "            val_losses.append(val_loss)\n",
    "\n",
    "        print(f\"Epoch {epoch+1}: Train Loss = {avg_train_loss:.4f}, Val Loss = {val_loss:.4f}\") \n",
    "\n",
    "        # Early stopping check\n",
    "        if val_loss < best_val_loss - min_es:\n",
    "            best_val_loss = val_loss\n",
    "            patience_counter = 0\n",
    "        else:\n",
    "            patience_counter += 1\n",
    "\n",
    "        if patience_counter >= patience:\n",
    "            print(f\"Early stopping triggered after {epoch+1} epochs\")\n",
    "            break\n",
    "\n",
    "    return model, train_losses, val_losses\n"
   ]
  },
  {
   "cell_type": "code",
   "execution_count": null,
   "metadata": {},
   "outputs": [
    {
     "name": "stdout",
     "output_type": "stream",
     "text": [
      "Epoch 1: Train Loss = 0.3401, Val Loss = 0.2889\n",
      "Epoch 2: Train Loss = 0.2869, Val Loss = 0.2897\n",
      "Epoch 3: Train Loss = 0.2865, Val Loss = 0.2876\n",
      "Epoch 4: Train Loss = 0.2861, Val Loss = 0.2876\n",
      "Epoch 5: Train Loss = 0.2862, Val Loss = 0.2877\n",
      "Epoch 6: Train Loss = 0.2860, Val Loss = 0.2874\n",
      "Epoch 7: Train Loss = 0.2858, Val Loss = 0.2877\n",
      "Epoch 8: Train Loss = 0.2859, Val Loss = 0.2872\n",
      "Early stopping triggered after 8 epochs\n"
     ]
    },
    {
     "data": {
      "image/png": "[encoded data removed]",
      "text/plain": [
       "<Figure size 1000x600 with 1 Axes>"
      ]
     },
     "metadata": {},
     "output_type": "display_data"
    }
   ],
   "source": [
    "# Train the ensemble MLP\n",
    "ensemble_model, train_losses, val_losses = train_ensemble_mlp(X_train_tensor, y_train_tensor, X_val_tensor, y_val_tensor)\n",
    "\n",
    "# Plot the training and validation loss\n",
    "plt.figure(figsize=(10, 6))\n",
    "plt.plot(train_losses, label='Train Loss')\n",
    "plt.plot(val_losses, label='Validation Loss')\n",
    "plt.xlabel('Epoch')\n",
    "plt.ylabel('Loss')\n",
    "plt.title('Training and Validation Loss')\n",
    "plt.legend()\n",
    "plt.show()"
   ]
  },
  {
   "cell_type": "code",
   "execution_count": null,
   "metadata": {},
   "outputs": [
    {
     "name": "stdout",
     "output_type": "stream",
     "text": [
      "Ensemble MLP Validation Metrics:\n",
      "F1 Score: 0.4608\n",
      "ROC AUC: 0.7874\n",
      "Precision-Recall AUC: 0.5182\n",
      "Confusion Matrix:\n",
      "\t[8975  836]\n",
      "\t[236 458]\n",
      "Classification Report:\n",
      "              precision    recall  f1-score   support\n",
      "\n",
      "           0       0.97      0.91      0.94      9811\n",
      "           1       0.35      0.66      0.46       694\n",
      "\n",
      "    accuracy                           0.90     10505\n",
      "   macro avg       0.66      0.79      0.70     10505\n",
      "weighted avg       0.93      0.90      0.91     10505\n",
      "\n"
     ]
    }
   ],
   "source": [
    "# Evaluate on validation set\n",
    "device = torch.device(\"cuda\" if torch.cuda.is_available() else \"cpu\")  # Ensure correct device\n",
    "ensemble_model.eval()\n",
    "with torch.no_grad():\n",
    "    # Move X_val_tensor to the same device as the model\n",
    "    val_preds = ensemble_model(X_val_tensor.to(device)).squeeze().cpu().numpy()  # Move predictions to CPU\n",
    "    val_preds = (val_preds >= 0.5).astype(int)  # Convert probabilities to binary predictions\n",
    "\n",
    "# Ensure y_val is moved to CPU and converted to NumPy\n",
    "y_val_cpu = y_val_tensor.cpu().numpy()  # Convert ground truth to CPU and NumPy\n",
    "\n",
    "# Calculate metrics\n",
    "f1, roc_auc, pr_auc, confusion_matrix_, classification_report_ = eval_metrics(y_val_cpu, val_preds)\n",
    "\n",
    "# Print metrics\n",
    "print(\"Ensemble MLP Validation Metrics:\")\n",
    "print(f\"F1 Score: {f1:.4f}\")\n",
    "print(f\"ROC AUC: {roc_auc:.4f}\")\n",
    "print(f\"Precision-Recall AUC: {pr_auc:.4f}\")\n",
    "print(\"Confusion Matrix:\")\n",
    "print(f\"\\t{confusion_matrix_[0]}\")\n",
    "print(f\"\\t{confusion_matrix_[1]}\")\n",
    "print(\"Classification Report:\")\n",
    "print(f\"{classification_report_}\")"
   ]
  }
 ],
 "metadata": {
  "kernelspec": {
   "display_name": "Python 3",
   "language": "python",
   "name": "python3"
  },
  "language_info": {
   "codemirror_mode": {
    "name": "ipython",
    "version": 3
   },
   "file_extension": ".py",
   "mimetype": "text/x-python",
   "name": "python",
   "nbconvert_exporter": "python",
   "pygments_lexer": "ipython3",
   "version": "3.11.9"
  }
 },
 "nbformat": 4,
 "nbformat_minor": 2
}
